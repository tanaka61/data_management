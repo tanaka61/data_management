{
 "cells": [
  {
   "cell_type": "markdown",
   "metadata": {
    "slideshow": {
     "slide_type": "slide"
    }
   },
   "source": [
    "## Python Code for scraping Syuuin speech\n",
    "#### Data Management (Spring/Summer 2018) at OSIPP, Osaka U\n",
    "\n",
    "#### Notes: Make sure to use API if you download many texts (max 1000 meetings). [Link](http://kokkai.ndl.go.jp/api.html)"
   ]
  },
  {
   "cell_type": "markdown",
   "metadata": {
    "slideshow": {
     "slide_type": "slide"
    }
   },
   "source": [
    "### Preamble"
   ]
  },
  {
   "cell_type": "code",
   "execution_count": 5,
   "metadata": {
    "slideshow": {
     "slide_type": "-"
    }
   },
   "outputs": [],
   "source": [
    "from selenium import webdriver\n",
    "from selenium.webdriver.common.keys import Keys\n",
    "import numpy as np\n",
    "import pandas as pd\n",
    "import time as t\n",
    "#from bs4 import BeautifulSoup\n",
    "#from selenium.common.exceptions import NoSuchElementException"
   ]
  },
  {
   "cell_type": "code",
   "execution_count": 26,
   "metadata": {
    "slideshow": {
     "slide_type": "subslide"
    }
   },
   "outputs": [],
   "source": [
    "path_to_chromedriver = \"C:\\\\Users\\\\shu\\\\Desktop\\\\chromedriver\" # set path to chrome driver\n",
    "browser = webdriver.Chrome(executable_path = path_to_chromedriver)\n",
    "\n",
    "browser.implicitly_wait(10) # wait 10 sec before finding elements not immediately available"
   ]
  },
  {
   "cell_type": "markdown",
   "metadata": {
    "slideshow": {
     "slide_type": "subslide"
    }
   },
   "source": [
    "### Find relevant data"
   ]
  },
  {
   "cell_type": "code",
   "execution_count": 27,
   "metadata": {
    "slideshow": {
     "slide_type": "-"
    }
   },
   "outputs": [],
   "source": [
    "url = 'http://kokkai.ndl.go.jp/' # open the webpage\n",
    "browser.get(url)"
   ]
  },
  {
   "cell_type": "code",
   "execution_count": 28,
   "metadata": {
    "slideshow": {
     "slide_type": "subslide"
    }
   },
   "outputs": [],
   "source": [
    "browser.find_element_by_id('b_easy-search').click() # click 'easy search'"
   ]
  },
  {
   "cell_type": "code",
   "execution_count": 29,
   "metadata": {
    "slideshow": {
     "slide_type": "-"
    }
   },
   "outputs": [],
   "source": [
    "browser.switch_to_frame(\"frame1\") # select the first frame (there are two frames)"
   ]
  },
  {
   "cell_type": "markdown",
   "metadata": {
    "slideshow": {
     "slide_type": "subslide"
    }
   },
   "source": [
    "#### - Start and end date\n",
    "- I choose the period between 2017/4/1 and 2018/3/31."
   ]
  },
  {
   "cell_type": "code",
   "execution_count": 30,
   "metadata": {
    "slideshow": {
     "slide_type": "subslide"
    }
   },
   "outputs": [],
   "source": [
    "fromY = '/html/body/table[4]/tbody/tr[2]/td[2]/table/tbody/tr/td/table/tbody/tr[1]/td[3]/input[2]'\n",
    "fromM = '/html/body/table[4]/tbody/tr[2]/td[2]/table/tbody/tr/td/table/tbody/tr[1]/td[3]/input[3]'\n",
    "fromD = '/html/body/table[4]/tbody/tr[2]/td[2]/table/tbody/tr/td/table/tbody/tr[1]/td[3]/input[4]'\n",
    "\n",
    "browser.find_element_by_xpath(fromY).clear()\n",
    "browser.find_element_by_xpath(fromY).send_keys('29')  # start year\n",
    "browser.find_element_by_xpath(fromM).clear()\n",
    "browser.find_element_by_xpath(fromM).send_keys('4')  # start month\n",
    "browser.find_element_by_xpath(fromD).clear()\n",
    "browser.find_element_by_xpath(fromD).send_keys('1')  # start date"
   ]
  },
  {
   "cell_type": "code",
   "execution_count": 31,
   "metadata": {
    "slideshow": {
     "slide_type": "subslide"
    }
   },
   "outputs": [],
   "source": [
    "toY = '/html/body/table[4]/tbody/tr[2]/td[2]/table/tbody/tr/td/table/tbody/tr[2]/td/input[1]'\n",
    "toM = '/html/body/table[4]/tbody/tr[2]/td[2]/table/tbody/tr/td/table/tbody/tr[2]/td/input[2]'\n",
    "toD = '/html/body/table[4]/tbody/tr[2]/td[2]/table/tbody/tr/td/table/tbody/tr[2]/td/input[3]'\n",
    "\n",
    "browser.find_element_by_xpath(toY).clear()\n",
    "browser.find_element_by_xpath(toY).send_keys('30')  # end year\n",
    "browser.find_element_by_xpath(toM).clear()\n",
    "browser.find_element_by_xpath(toM).send_keys('3')  # end month\n",
    "browser.find_element_by_xpath(toD).clear()\n",
    "browser.find_element_by_xpath(toD).send_keys('31')  # end date"
   ]
  },
  {
   "cell_type": "markdown",
   "metadata": {
    "slideshow": {
     "slide_type": "subslide"
    }
   },
   "source": [
    "#### - Meetings\n",
    "- Choose the House of Representatives (Syuuin)."
   ]
  },
  {
   "cell_type": "code",
   "execution_count": 32,
   "metadata": {
    "slideshow": {
     "slide_type": "-"
    }
   },
   "outputs": [],
   "source": [
    "all_meetings = '/html/body/p[2]/table/tbody/tr[2]/td[2]/table/tbody/tr/td/table/tbody/tr[1]/td[2]/table/tbody/tr/td[1]/input'\n",
    "syuuin       = '/html/body/p[2]/table/tbody/tr[2]/td[2]/table/tbody/tr/td/table/tbody/tr[1]/td[2]/table/tbody/tr/td[3]/input'\n",
    "sannin       = '/html/body/p[2]/table/tbody/tr[2]/td[2]/table/tbody/tr/td/table/tbody/tr[1]/td[2]/table/tbody/tr/td[5]/input'\n",
    "ryouin       = '/html/body/p[2]/table/tbody/tr[2]/td[2]/table/tbody/tr/td/table/tbody/tr[1]/td[2]/table/tbody/tr/td[7]/input'\n",
    "\n",
    "browser.find_element_by_xpath(syuuin).click()"
   ]
  },
  {
   "cell_type": "markdown",
   "metadata": {
    "slideshow": {
     "slide_type": "subslide"
    }
   },
   "source": [
    "#### - Keywords\n",
    "- Choose \"TPP\"."
   ]
  },
  {
   "cell_type": "code",
   "execution_count": 33,
   "metadata": {
    "slideshow": {
     "slide_type": "-"
    }
   },
   "outputs": [],
   "source": [
    "clue = '/html/body/p[3]/table[1]/tbody/tr[2]/td[2]/table/tbody/tr/td/table/tbody/tr[2]/td/input'\n",
    "\n",
    "browser.find_element_by_xpath(clue).send_keys('TPP')"
   ]
  },
  {
   "cell_type": "markdown",
   "metadata": {
    "slideshow": {
     "slide_type": "subslide"
    }
   },
   "source": [
    "#### - Click 'Search'"
   ]
  },
  {
   "cell_type": "code",
   "execution_count": 34,
   "metadata": {
    "slideshow": {
     "slide_type": "-"
    }
   },
   "outputs": [],
   "source": [
    "t.sleep(3) \n",
    "\n",
    "browser.find_element_by_xpath('/html/body/p[3]/table[2]/tbody/tr/td/table/tbody/tr/td[1]/a/img').click()"
   ]
  },
  {
   "cell_type": "markdown",
   "metadata": {
    "slideshow": {
     "slide_type": "subslide"
    }
   },
   "source": [
    "#### - Show results in the browser"
   ]
  },
  {
   "cell_type": "code",
   "execution_count": 35,
   "metadata": {
    "slideshow": {
     "slide_type": "-"
    }
   },
   "outputs": [],
   "source": [
    "t.sleep(3)\n",
    "\n",
    "browser.find_element_by_xpath('/html/body/table[4]/tbody/tr/td[6]/a/img').click()"
   ]
  },
  {
   "cell_type": "markdown",
   "metadata": {
    "slideshow": {
     "slide_type": "slide"
    }
   },
   "source": [
    "### Get attributes\n",
    "- Attributes include: (a) the session number, (b) the name of a house, (c) the name of a meeting, (d) the number of the meeting, and (e) the date of the meeting"
   ]
  },
  {
   "cell_type": "code",
   "execution_count": null,
   "metadata": {},
   "outputs": [],
   "source": [
    "attr = browser.find_elements_by_xpath('/html/body/table[7]/tbody/tr/td[2]/table/tbody/tr/td')\n",
    "attr_list = [] # create a list and put texts. results include 180 elements.\n",
    "for i in range(0,180):\n",
    "    attr_list.append(attr[i].text)\n",
    "# select only first 20 observations.\n",
    "df_attr = pd.DataFrame(np.reshape(attr_list, (20, 9))) # convert first to a 20 * 8 numpy array, then to a data frame\n",
    "df_attr = df_attr.iloc[:,1:6] # drop empty columns\n",
    "df_attr"
   ]
  },
  {
   "cell_type": "markdown",
   "metadata": {
    "slideshow": {
     "slide_type": "subslide"
    }
   },
   "source": [
    "### Open each meeting page and get texts"
   ]
  },
  {
   "cell_type": "code",
   "execution_count": null,
   "metadata": {
    "slideshow": {
     "slide_type": "-"
    }
   },
   "outputs": [],
   "source": [
    "text_list = [] \n",
    "j = 1\n",
    "for i in range(2,22):\n",
    "    browser.find_element_by_xpath('/html/body/table[7]/tbody/tr/td[2]/table/tbody/tr['+str(i)+']/td[9]/a').click()\n",
    "    browser.switch_to.window(browser.window_handles[j]) # switch to a new tab\n",
    "    browser.switch_to_frame(\"MAIN1\") # select the main frame\n",
    "    text_list.append(browser.find_element_by_xpath('/html/body').text)\n",
    "    browser.switch_to.window(browser.window_handles[0]) # switch to the original tab\n",
    "    j += 1\n",
    "    t.sleep(2)\n",
    "len(text_list)\n",
    "text_list"
   ]
  },
  {
   "cell_type": "code",
   "execution_count": null,
   "metadata": {
    "slideshow": {
     "slide_type": "subslide"
    }
   },
   "outputs": [],
   "source": [
    "df_text = pd.DataFrame(text_list) # convert to a data frame\n",
    "df_text.shape\n",
    "df_text.iloc[0,0] # get the first row"
   ]
  },
  {
   "cell_type": "markdown",
   "metadata": {
    "slideshow": {
     "slide_type": "slide"
    }
   },
   "source": [
    "### Merge attributes with texts"
   ]
  },
  {
   "cell_type": "code",
   "execution_count": null,
   "metadata": {
    "slideshow": {
     "slide_type": "subslide"
    }
   },
   "outputs": [],
   "source": [
    "data = df_attr.join(df_text) # join texts to attributes\n",
    "data.columns = ['kai','house','m_name','gou','date','content'] # add column names\n",
    "data.shape\n",
    "\n",
    "dta = [elem.strip().replace('\\n','') for elem in data.content] # remove \\n\n",
    "lst = [elem.strip().split('○') for elem in dta] # split per speaker\n",
    "lst\n",
    "\n",
    "abe_list = []\n",
    "for i in range(0,len(lst)):\n",
    "    abe_list.append([x for x in lst[i] if \"安倍\" in x]) # select speaches including 安倍\n",
    "\n",
    "abe_col = ['s' + str(x) for x in range(0,20)] # make column names\n",
    "abe_list = pd.DataFrame(abe_list, columns=abe_col) # convert to data frame\n",
    "abe_list\n",
    "\n",
    "del(data['content']) # drop content variable\n",
    "\n",
    "data = pd.merge(data, abe_list,right_index=True,left_index=True) # merge with abe list\n",
    "data"
   ]
  },
  {
   "cell_type": "markdown",
   "metadata": {
    "slideshow": {
     "slide_type": "slide"
    }
   },
   "source": [
    "### Export data as a csv file\n",
    "- Note: The file size is about 430KB. "
   ]
  },
  {
   "cell_type": "code",
   "execution_count": 358,
   "metadata": {
    "slideshow": {
     "slide_type": "-"
    }
   },
   "outputs": [],
   "source": [
    "data.to_csv(\"syuuin_speech_tpp2017.csv\")"
   ]
  }
 ],
 "metadata": {
  "celltoolbar": "Slideshow",
  "kernelspec": {
   "display_name": "Python 3",
   "language": "python",
   "name": "python3"
  },
  "language_info": {
   "codemirror_mode": {
    "name": "ipython",
    "version": 3
   },
   "file_extension": ".py",
   "mimetype": "text/x-python",
   "name": "python",
   "nbconvert_exporter": "python",
   "pygments_lexer": "ipython3",
   "version": "3.6.4"
  }
 },
 "nbformat": 4,
 "nbformat_minor": 2
}

{
 "cells": [
  {
   "cell_type": "markdown",
   "metadata": {
    "slideshow": {
     "slide_type": "slide"
    }
   },
   "source": [
    "# Data Management (Spring/Summer 2018) at OSIPP, Osaka U\n",
    "By Shuhei Kitamura\n",
    "\n",
    "## R basics"
   ]
  },
  {
   "cell_type": "markdown",
   "metadata": {
    "slideshow": {
     "slide_type": "notes"
    }
   },
   "source": [
    "### Outline\n",
    "1. Arithmetic operation\n",
    "2. Run R scripts\n",
    "3. Variables\n",
    "    - Variable assignment\n",
    "    - Classes\n",
    "    - Concatenation\n",
    "    - Vectors\n",
    "    - Matrices\n",
    "    - Factors\n",
    "    - Data frames\n",
    "        - Get elements\n",
    "        - Change contents\n",
    "        - Computation\n",
    "        - Treat missing values\n",
    "        - Merge\n",
    "    - Lists\n",
    "7. Functions and Libraries\n",
    "8. If Statements\n",
    "9. Loops"
   ]
  },
  {
   "cell_type": "markdown",
   "metadata": {
    "slideshow": {
     "slide_type": "subslide"
    }
   },
   "source": [
    "## 1. Arithmetic operation\n",
    "- Main operators are `+`, `-`, `*`, and `/`.\n",
    "- Write `1 + 2` and execute (Shift + Enter or push \"run cell\" button). Next, do the same for `print(1 + 2)`."
   ]
  },
  {
   "cell_type": "code",
   "execution_count": 2,
   "metadata": {
    "slideshow": {
     "slide_type": "-"
    }
   },
   "outputs": [
    {
     "data": {
      "text/html": [
       "3"
      ],
      "text/latex": [
       "3"
      ],
      "text/markdown": [
       "3"
      ],
      "text/plain": [
       "[1] 3"
      ]
     },
     "metadata": {},
     "output_type": "display_data"
    },
    {
     "name": "stdout",
     "output_type": "stream",
     "text": [
      "[1] 3\n"
     ]
    }
   ],
   "source": [
    "1+2\n",
    "print(1+2)"
   ]
  },
  {
   "cell_type": "markdown",
   "metadata": {
    "slideshow": {
     "slide_type": "subslide"
    }
   },
   "source": [
    "- If you want to write a comment, use #. Write `# print(1 + 2)` and execute."
   ]
  },
  {
   "cell_type": "code",
   "execution_count": 3,
   "metadata": {
    "slideshow": {
     "slide_type": "-"
    }
   },
   "outputs": [],
   "source": [
    "#print(1+2)"
   ]
  },
  {
   "cell_type": "markdown",
   "metadata": {
    "slideshow": {
     "slide_type": "subslide"
    }
   },
   "source": [
    "- Play with `+`, `-`, `*`, and `/`."
   ]
  },
  {
   "cell_type": "code",
   "execution_count": 5,
   "metadata": {
    "slideshow": {
     "slide_type": "-"
    }
   },
   "outputs": [
    {
     "data": {
      "text/html": [
       "16"
      ],
      "text/latex": [
       "16"
      ],
      "text/markdown": [
       "16"
      ],
      "text/plain": [
       "[1] 16"
      ]
     },
     "metadata": {},
     "output_type": "display_data"
    },
    {
     "data": {
      "text/html": [
       "9634816"
      ],
      "text/latex": [
       "9634816"
      ],
      "text/markdown": [
       "9634816"
      ],
      "text/plain": [
       "[1] 9634816"
      ]
     },
     "metadata": {},
     "output_type": "display_data"
    }
   ],
   "source": [
    "4*4\n",
    "3104*3104\n"
   ]
  },
  {
   "cell_type": "markdown",
   "metadata": {
    "slideshow": {
     "slide_type": "subslide"
    }
   },
   "source": [
    "- `^` or `**` for power. Power is right associative (= `**` in Python). How do you calculate $-2^3$, $3^{3^3}$, and $\\frac{3}{3^3}$?\n",
    "- Note: `^` does not calculate power in Python."
   ]
  },
  {
   "cell_type": "code",
   "execution_count": 9,
   "metadata": {
    "slideshow": {
     "slide_type": "-"
    }
   },
   "outputs": [
    {
     "data": {
      "text/html": [
       "7625597484987"
      ],
      "text/latex": [
       "7625597484987"
      ],
      "text/markdown": [
       "7625597484987"
      ],
      "text/plain": [
       "[1] 7.625597e+12"
      ]
     },
     "metadata": {},
     "output_type": "display_data"
    }
   ],
   "source": [
    "3^3^3"
   ]
  },
  {
   "cell_type": "markdown",
   "metadata": {
    "slideshow": {
     "slide_type": "subslide"
    }
   },
   "source": [
    "- `%%` for modulus and `%/%` for floor division. What is the outcome of `7 %% 2`? How about `7 %/% 2`?\n",
    "    - `%` (modulus in Python) and `//` (floor division in Python) do not work in R.\n",
    "    - Similarly, these R operators do not work in Python."
   ]
  },
  {
   "cell_type": "code",
   "execution_count": 10,
   "metadata": {
    "slideshow": {
     "slide_type": "-"
    }
   },
   "outputs": [
    {
     "data": {
      "text/html": [
       "1"
      ],
      "text/latex": [
       "1"
      ],
      "text/markdown": [
       "1"
      ],
      "text/plain": [
       "[1] 1"
      ]
     },
     "metadata": {},
     "output_type": "display_data"
    }
   ],
   "source": [
    "7%%2"
   ]
  },
  {
   "cell_type": "markdown",
   "metadata": {
    "slideshow": {
     "slide_type": "slide"
    }
   },
   "source": [
    "## 2. Run R scripts\n",
    "<!--\n",
    " - Launch a text editor (e.g. Visual Studio Code). Create a new file.\n",
    " - Type `print(1 + 2)` in line 1, and `print(\"Hello world!\")` in line 2.\n",
    " - Save the file in the local repo. Type \"myR\" in the file name, and set R for the file type. The file extension becomes \".r\".\n",
    "-->\n",
    "\n",
    "- Suppose that you already have an R file \"myR.R\" in your local repository.\n",
    "- Set the current directory by typing: `setwd(\"C:/path_to_your_local_repo)\"` where you need to specify the path to your local repository. \n",
    "    - You will get an error message if you use a backslash instead of a slash."
   ]
  },
  {
   "cell_type": "code",
   "execution_count": 11,
   "metadata": {
    "slideshow": {
     "slide_type": "-"
    }
   },
   "outputs": [],
   "source": []
  },
  {
   "cell_type": "markdown",
   "metadata": {
    "slideshow": {
     "slide_type": "subslide"
    }
   },
   "source": [
    "- Run the R script by typing: `source(\"myR.R\")`."
   ]
  },
  {
   "cell_type": "code",
   "execution_count": null,
   "metadata": {
    "slideshow": {
     "slide_type": "-"
    }
   },
   "outputs": [],
   "source": []
  },
  {
   "cell_type": "markdown",
   "metadata": {
    "slideshow": {
     "slide_type": "subslide"
    }
   },
   "source": [
    "- Let's push the new file to your remote repository. Start a Git GUI (e.g. SoureTree).\n",
    "- Stage \"myR.R\". Then press Commit.\n",
    "- Write a commit message (e.g. \"Create myR.R.\").\n",
    "- Commit and push.\n",
    "- Check the remote repository."
   ]
  },
  {
   "cell_type": "markdown",
   "metadata": {
    "slideshow": {
     "slide_type": "subslide"
    }
   },
   "source": [
    "## 3. Variables\n",
    "- You can assign an object to a variable. An object in R is data, which does not contain any method."
   ]
  },
  {
   "cell_type": "markdown",
   "metadata": {
    "slideshow": {
     "slide_type": "subslide"
    }
   },
   "source": [
    "#### - Variable assignment\n",
    "\n",
    "- You use `<-` or `->` in R instead of `=` in Python. (You can also use `=` in R, but uncommon.)\n",
    "```python\n",
    "myvar <- \"Hello world!\"\n",
    "print(myvar)\n",
    "```\n",
    "is equivalent to:\n",
    "```python\n",
    "print(\"Hello world!\")\n",
    "```\n",
    "- In Jupyter Notebook, you can use `Alt & -` to insert `<-` and spaces. (See Keyboard Shortcuts in the Help tab above.)\n",
    "- You can also use `( <- )` to assign and print at once."
   ]
  },
  {
   "cell_type": "code",
   "execution_count": 25,
   "metadata": {
    "slideshow": {
     "slide_type": "subslide"
    }
   },
   "outputs": [],
   "source": [
    "myvar <- \"Hello world!\"\n",
    "print(myvar)\n",
    "\"Hello world!\" -> myvar\n",
    "print(myvar)\n",
    "(myvar <- \"Hello world!\")"
   ]
  },
  {
   "cell_type": "markdown",
   "metadata": {
    "slideshow": {
     "slide_type": "subslide"
    }
   },
   "source": [
    "#### - Classes\n",
    "- Types in Python are called classes in R. They are: numerics, integers, characters, logical, matrices, arrays, etc.\n",
    "- For logical you should write `TRUE` or `FALSE`, not `True` or `False` as in Python.\n",
    "- R is also case sensitive!\n",
    "- You use `class()` to check the class of data. (`type()` in Python.)\n",
    "    - Alternatively, you can check the class using `is.numeric()`, `is.integer()`, `is.character()`, and `is.logical()`."
   ]
  },
  {
   "cell_type": "code",
   "execution_count": null,
   "metadata": {
    "slideshow": {
     "slide_type": "subslide"
    }
   },
   "outputs": [],
   "source": [
    "mynum1 <- 1 # this is not an integer!\n",
    "mynum2 <- 1.0 # .0 is not printed.\n",
    "mynum3 <- 1.5\n",
    "mychar <- \"Hello\"\n",
    "mylogic <- TRUE\n",
    "\n",
    "print(mynum1)\n",
    "print(class(mynum1))\n",
    "print(mynum2)\n",
    "print(class(mynum2))\n",
    "print(mynum3)\n",
    "print(class(mynum3))\n",
    "\\print(class(mychar))\n",
    "print(class(mylogic))\n",
    "print(is.integer(mynum1))"
   ]
  },
  {
   "cell_type": "markdown",
   "metadata": {
    "slideshow": {
     "slide_type": "subslide"
    }
   },
   "source": [
    "- How you write an integer in R is different from how you do it in Python. You need to put `L` after a value."
   ]
  },
  {
   "cell_type": "code",
   "execution_count": null,
   "metadata": {
    "slideshow": {
     "slide_type": "-"
    }
   },
   "outputs": [],
   "source": [
    "myint <- 1L\n",
    "mynum <- 1\n",
    "print(class(myint))\n",
    "print(class(mynum))"
   ]
  },
  {
   "cell_type": "markdown",
   "metadata": {
    "slideshow": {
     "slide_type": "subslide"
    }
   },
   "source": [
    "- Logical is the same as booleans in Python."
   ]
  },
  {
   "cell_type": "code",
   "execution_count": null,
   "metadata": {
    "slideshow": {
     "slide_type": "-"
    }
   },
   "outputs": [],
   "source": [
    "print(1 + 2 == 3)\n",
    "print(class(1 + 2 == 3))"
   ]
  },
  {
   "cell_type": "markdown",
   "metadata": {
    "slideshow": {
     "slide_type": "subslide"
    }
   },
   "source": [
    "- If a string includes a quote (e.g. `\"This is a \"quote\"\"`), it returns an error. Use `'This is a \"quote\"'` instead."
   ]
  },
  {
   "cell_type": "code",
   "execution_count": null,
   "metadata": {
    "slideshow": {
     "slide_type": "-"
    }
   },
   "outputs": [],
   "source": [
    "# print(\"This is a \"quote\".\")　# This returns an error.\n",
    "print('This is a \"quote\".')"
   ]
  },
  {
   "cell_type": "markdown",
   "metadata": {
    "slideshow": {
     "slide_type": "subslide"
    }
   },
   "source": [
    "- To change classes, you can use `as.numeric()`, `as.integer()`, `as.character()`, and `as.logical()`."
   ]
  },
  {
   "cell_type": "code",
   "execution_count": null,
   "metadata": {
    "slideshow": {
     "slide_type": "-"
    }
   },
   "outputs": [],
   "source": [
    "mynum <- 1\n",
    "print(as.character(mynum))\n",
    "mynum <- 1\n",
    "print(as.integer(mynum))"
   ]
  },
  {
   "cell_type": "markdown",
   "metadata": {
    "slideshow": {
     "slide_type": "subslide"
    }
   },
   "source": [
    "- `FALSE` is `0` and `0` is `FALSE`. `TRUE` is `1` and `1` is `TRUE`.\n",
    "    - The other numerics and integers are also `TRUE`. \n",
    "- Characters cannot be converted as logical. (Recall that strings are `True` in Python.)"
   ]
  },
  {
   "cell_type": "code",
   "execution_count": null,
   "metadata": {
    "slideshow": {
     "slide_type": "subslide"
    }
   },
   "outputs": [],
   "source": [
    "print(as.numeric(FALSE))\n",
    "print(as.logical(0))\n",
    "print(as.numeric(TRUE))\n",
    "print(as.logical(1))\n",
    "print(as.logial(\"Hello!\")) # This returns an error."
   ]
  },
  {
   "cell_type": "markdown",
   "metadata": {
    "slideshow": {
     "slide_type": "subslide"
    }
   },
   "source": [
    "- The class of `NULL` is NULL (like `None` in Python, whose type is `NoneType`).\n",
    "- `NaN` (Not a Number) is numeric, and `NA` (Not Available) is logical.\n",
    "    - Python (pandas) only has `NaN`, which is a missing value."
   ]
  },
  {
   "cell_type": "code",
   "execution_count": null,
   "metadata": {},
   "outputs": [],
   "source": [
    "print(class(NULL))\n",
    "print(class(NaN))\n",
    "print(class(NA))\n",
    "print(as.logical(NaN)) # you can convert NaN to logical\n",
    "print(as.numeric(NA)) # but you cannot convert NA to numeric..."
   ]
  },
  {
   "cell_type": "markdown",
   "metadata": {
    "slideshow": {
     "slide_type": "subslide"
    }
   },
   "source": [
    "#### - Concatenation\n",
    "- While in Python you could write `\"Hello\" + \" World!\"` for concatenating strings, you cannot use `+` in the similar way in R.\n",
    "- Instead, you need to use `paste()`. With `paste`, you can also concatenate characters with other classes.\n",
    "- Similarly, you cannot use `*` as `\"Hello\" * 2` in R either."
   ]
  },
  {
   "cell_type": "code",
   "execution_count": null,
   "metadata": {
    "slideshow": {
     "slide_type": "-"
    }
   },
   "outputs": [],
   "source": [
    "# print(\"Hello\" + \"World!\") # This returns an error.\n",
    "myvar1 <- \"Hello\"\n",
    "myvar2 <- \" World!\"\n",
    "paste(myvar1, myvar2, sep = \"\")\n",
    "\n",
    "savings = 100\n",
    "print(paste(\"I have \", savings, \" USD in my account.\", sep = \"\"))"
   ]
  },
  {
   "cell_type": "markdown",
   "metadata": {
    "slideshow": {
     "slide_type": "subslide"
    }
   },
   "source": [
    "#### - Vectors\n",
    "- The vector is one dimensional array (like `array` in NumPy). `c()` is used for vectors.\n",
    "- The vector is not a distinguished class, but `numeric`, `character`, `logical`, etc. are the classes of vectors.\n",
    "- Vectors can contain any classes (like `array` in NumPy).\n",
    "- You can also use `c()` in `print()` to show multiple outputs at once (like `print( , )` in Python)."
   ]
  },
  {
   "cell_type": "code",
   "execution_count": null,
   "metadata": {
    "slideshow": {
     "slide_type": "-"
    }
   },
   "outputs": [],
   "source": [
    "myvec <- c(\"a\", 1, TRUE)\n",
    "print(myvec)\n",
    "myvec1 <- c(1,2)\n",
    "myvec2 <- c(3,4)\n",
    "print(c(myvec1, myvec2))"
   ]
  },
  {
   "cell_type": "markdown",
   "metadata": {
    "slideshow": {
     "slide_type": "subslide"
    }
   },
   "source": [
    "- Some useful ways to make a vector.\n",
    "    - `:` to make a vector of numerics or integers.\n",
    "    - `numeric()` to make a vector of zeros (as numeric).\n",
    "        - `integer()` to make a vector of zeros (as integer).\n",
    "    - `seq()` to make a vector of numerics or integers.\n",
    "    - `rep()` to make a vector. Most classes can be used."
   ]
  },
  {
   "cell_type": "code",
   "execution_count": null,
   "metadata": {
    "slideshow": {
     "slide_type": "subslide"
    }
   },
   "outputs": [],
   "source": [
    "myvec1 <- -1:4\n",
    "print(myvec1)\n",
    "print(numeric(5))\n",
    "print(seq(1,4,by=1)) \n",
    "print(rep(\"Hello\",4)) \n",
    "#mylist <- list(var1 = 1:10, var2 = \"Hello\")\n",
    "#print(rep(mylist, 5)) "
   ]
  },
  {
   "cell_type": "markdown",
   "metadata": {
    "slideshow": {
     "slide_type": "subslide"
    }
   },
   "source": [
    "- To get a length of a vector, use `length()`."
   ]
  },
  {
   "cell_type": "code",
   "execution_count": null,
   "metadata": {
    "slideshow": {
     "slide_type": "-"
    }
   },
   "outputs": [],
   "source": [
    "myvec <- 1:10\n",
    "print(length(myvec))"
   ]
  },
  {
   "cell_type": "markdown",
   "metadata": {
    "slideshow": {
     "slide_type": "subslide"
    }
   },
   "source": [
    "- The class of a vector depends on its elements. If a vector contains multiple classes, the highest one is chosen.\n",
    "    - Classes are ordered: character > complex > numeric > logical > NULL.\n",
    "- The class of an empty vector is `NULL`."
   ]
  },
  {
   "cell_type": "code",
   "execution_count": null,
   "metadata": {
    "slideshow": {
     "slide_type": "-"
    }
   },
   "outputs": [],
   "source": [
    "myvec1 <- c(1,2)\n",
    "print(class(myvec1))\n",
    "myvec2 <- c(1,\"Hello\",TRUE)\n",
    "print(myvec2)\n",
    "print(class(myvec2))\n",
    "myvec3 <- c(1,TRUE)\n",
    "print(class(myvec3))\n",
    "print(class(c())) # an empty vector"
   ]
  },
  {
   "cell_type": "markdown",
   "metadata": {
    "slideshow": {
     "slide_type": "subslide"
    }
   },
   "source": [
    "- You can assign (column) names to a vector using `names()`."
   ]
  },
  {
   "cell_type": "code",
   "execution_count": null,
   "metadata": {
    "slideshow": {
     "slide_type": "-"
    }
   },
   "outputs": [],
   "source": [
    "myvec <- c(1,10)\n",
    "print(myvec)\n",
    "names(myvec) <- c(\"Monday\",\"Tuesday\")\n",
    "print(myvec)"
   ]
  },
  {
   "cell_type": "markdown",
   "metadata": {
    "slideshow": {
     "slide_type": "subslide"
    }
   },
   "source": [
    "- To subset a vector, use `[]` as in Python. However, the index in R starts from one, not zero!\n",
    "- You can also use vectors, names, and relational operators for subsetting a vector."
   ]
  },
  {
   "cell_type": "code",
   "execution_count": null,
   "metadata": {
    "slideshow": {
     "slide_type": "-"
    }
   },
   "outputs": [],
   "source": [
    "myvec <- c(1,10,100,1000)\n",
    "names(myvec) <- c(\"col1\",\"col2\",\"col3\",\"col4\") # assign column names\n",
    "print(myvec)\n",
    "print(myvec[2])\n",
    "print(myvec[c(2,3)])\n",
    "print(myvec[c(-2,-3)])\n",
    "print(myvec[c(\"col3\",\"col4\")])\n",
    "print(myvec[myvec > 100])"
   ]
  },
  {
   "cell_type": "markdown",
   "metadata": {
    "slideshow": {
     "slide_type": "subslide"
    }
   },
   "source": [
    "- Other useful operators are: `is.na()`, `is.null()`, `is.nan()`, and `is.infinite()`.\n",
    "    - For example, you can substite NA with a value such as zero using `is.na()`."
   ]
  },
  {
   "cell_type": "code",
   "execution_count": null,
   "metadata": {
    "slideshow": {
     "slide_type": "-"
    }
   },
   "outputs": [],
   "source": [
    "myvec <- c(NA,10,100,Inf)\n",
    "print(myvec[!is.na(myvec)]) # exclude NA\n",
    "print(myvec[!is.infinite(myvec)]) # exclude infinity\n",
    "print(myvec[!is.na(myvec) & !is.infinite(myvec)]) # exclude NA and infinity\n",
    "\n",
    "## replace NA with 0\n",
    "print(myvec)\n",
    "myvec[is.na(myvec)] <- 0\n",
    "print(myvec)"
   ]
  },
  {
   "cell_type": "markdown",
   "metadata": {
    "slideshow": {
     "slide_type": "subslide"
    }
   },
   "source": [
    "- To slice a vector, use `[:]`.\n",
    "    - You cannot write like `[0:]` without writing the end.\n",
    "    - The minus sign means exclusion, not the index from right (unlike Python)."
   ]
  },
  {
   "cell_type": "code",
   "execution_count": null,
   "metadata": {
    "slideshow": {
     "slide_type": "-"
    }
   },
   "outputs": [],
   "source": [
    "myvec <- c(1,10,100,1000)\n",
    "print(myvec[1:2])\n",
    "print(myvec[-2:-3])"
   ]
  },
  {
   "cell_type": "markdown",
   "metadata": {
    "slideshow": {
     "slide_type": "subslide"
    }
   },
   "source": [
    "- Vectors can be used for calculation.\n",
    "    - `sum()` to compute the sum for each index, which is similar to `+` for the Numpy array.\n",
    "    - `mean()` to compute the mean for each index."
   ]
  },
  {
   "cell_type": "code",
   "execution_count": null,
   "metadata": {
    "slideshow": {
     "slide_type": "-"
    }
   },
   "outputs": [],
   "source": [
    "x <- c(0,1)\n",
    "y <- c(2,3)\n",
    "print(c(sum(x), sum(y)))\n",
    "print(c(mean(x), mean(y)))\n",
    "print(x + y)\n",
    "print(x * y)"
   ]
  },
  {
   "cell_type": "markdown",
   "metadata": {
    "slideshow": {
     "slide_type": "subslide"
    }
   },
   "source": [
    "#### - Matrices\n",
    "- The matrix is one of the classes.\n",
    "- The matrix is a two dimensional array (like `ndarray` in NumPy). You can specify the number of columns and rows, and the order of filling in the matrix."
   ]
  },
  {
   "cell_type": "code",
   "execution_count": null,
   "metadata": {
    "slideshow": {
     "slide_type": "-"
    }
   },
   "outputs": [],
   "source": [
    "mymat1 <- matrix(c(1,2,3,4),nrow=2,ncol=2) # using a vector, create a 2 by 2 matrix\n",
    "print(mymat1)\n",
    "print(class(mymat1))\n",
    "mymat1 <- matrix(c(1,2,3,4),byrow=TRUE,nrow=2,ncol=2) # the same is above, but the matrix is filled by row\n",
    "print(mymat1)\n",
    "mymat3 <- matrix(1:9,byrow=TRUE,nrow=3)\n",
    "print(mymat3)"
   ]
  },
  {
   "cell_type": "markdown",
   "metadata": {
    "slideshow": {
     "slide_type": "subslide"
    }
   },
   "source": [
    "- Alternatively, you can apply `cbind()` and `rbind()` to make a matrix."
   ]
  },
  {
   "cell_type": "code",
   "execution_count": null,
   "metadata": {
    "slideshow": {
     "slide_type": "-"
    }
   },
   "outputs": [],
   "source": [
    "t_avg <- c(60,170)\n",
    "c_avg <- c(62,175)\n",
    "mymat1 <- cbind(t_avg,c_avg)\n",
    "print(mymat1)\n",
    "print(class(mymat1))\n",
    "mymat2 <- rbind(t_avg,c_avg)\n",
    "print(mymat2)"
   ]
  },
  {
   "cell_type": "markdown",
   "metadata": {
    "slideshow": {
     "slide_type": "subslide"
    }
   },
   "source": [
    "- The matrix can store only one class. If there are multiple classes, the highest one is chosen.\n",
    "    - Recall that classes are ordered: character > complex > numeric > logical > NULL. \n",
    "- But the class of the matrix is still matrix (unlike the vector)"
   ]
  },
  {
   "cell_type": "code",
   "execution_count": null,
   "metadata": {
    "slideshow": {
     "slide_type": "-"
    }
   },
   "outputs": [],
   "source": [
    "x <- c(\"a\",\"b\")\n",
    "y <- c(2,3)\n",
    "mymat <- cbind(x,y) # character > numeric\n",
    "print(mymat)\n",
    "print(class(mymat[2,2])) # the class of an element in the matrix\n",
    "print(class(mymat)) # the class of the matrix"
   ]
  },
  {
   "cell_type": "markdown",
   "metadata": {
    "slideshow": {
     "slide_type": "subslide"
    }
   },
   "source": [
    "- Use `colnames()` and `rownames()` to add names for columns and rows, respectively."
   ]
  },
  {
   "cell_type": "code",
   "execution_count": null,
   "metadata": {
    "slideshow": {
     "slide_type": "-"
    }
   },
   "outputs": [],
   "source": [
    "t_avg <- c(60,170)\n",
    "c_avg <- c(62,175)\n",
    "cpop <- cbind(t_avg,c_avg)\n",
    "rownames(cpop) <- c(\"Weight\",\"Height\")\n",
    "colnames(cpop) <- c(\"Treatment\",\"Control\")\n",
    "print(cpop)"
   ]
  },
  {
   "cell_type": "markdown",
   "metadata": {
    "slideshow": {
     "slide_type": "subslide"
    }
   },
   "source": [
    "- `colSums()` and `rowSums()` for calculating sums for each column and row, respectively.\n",
    "    - Instead, `sum()` compute sums for a specific column or row or the sum of all elements in a matrix.\n",
    "- `colMeans()` and `rowMeans()` for calculating means for each column and row, respectively.\n",
    "    - Instead, `mean()` compute means for a specific column, but not a row."
   ]
  },
  {
   "cell_type": "code",
   "execution_count": null,
   "metadata": {
    "slideshow": {
     "slide_type": "subslide"
    }
   },
   "outputs": [],
   "source": [
    "t_avg <- c(60,170)\n",
    "c_avg <- c(62,175)\n",
    "cpop <- cbind(t_avg,c_avg)\n",
    "rownames(cpop) <- c(\"Weight\",\"Height\")\n",
    "colnames(cpop) <- c(\"Treatment\",\"Control\")\n",
    "print(cpop)\n",
    "print(c(colSums(cpop),rowSums(cpop)))\n",
    "print(sum(cpop))\n",
    "print(c(colMeans(cpop),rowMeans(cpop)))"
   ]
  },
  {
   "cell_type": "markdown",
   "metadata": {
    "slideshow": {
     "slide_type": "subslide"
    }
   },
   "source": [
    "- To subset a matrix, you often use `[row numbers, column numbers]`.\n",
    "- You can also combine `:`, vectors, names, and relational operators."
   ]
  },
  {
   "cell_type": "code",
   "execution_count": null,
   "metadata": {
    "slideshow": {
     "slide_type": "subslide"
    }
   },
   "outputs": [],
   "source": [
    "x <- c(60,170,50)\n",
    "y <- c(62,175,100)\n",
    "z <- c(61.0,172.5,NA)\n",
    "dims <- list(c(\"Weight\",\"Height\",\"Obs.\"),c(\"Treatment\",\"Control\",\"Mean\"))\n",
    "cpop <- matrix(c(x,y,z),ncol=3,dimnames=dims) # you can add column and row names at once\n",
    "print(cpop)\n",
    "\n",
    "print(cpop[1,1]) # first row, first column\n",
    "print(cpop[1,1:2]) # first two columns in the first row\n",
    "print(cpop[1,c(2,3)]) # second and third column in the first row\n",
    "print(cpop[1,\"Treatment\"]) # \"Treatment\" column in the first row\n",
    "print(cpop[1,]) # all elements in the first row\n",
    "\n",
    "print(cpop[cpop < 100]) # all elements less than 100\n",
    "\n",
    "# These are rarely used.\n",
    "# print(cpop[3]) # the third element\n",
    "# print(cpop[c(2, 3)]) # the second and the third element"
   ]
  },
  {
   "cell_type": "markdown",
   "metadata": {
    "slideshow": {
     "slide_type": "subslide"
    }
   },
   "source": [
    "- Matrix calculation allows `+`, `-`, `*`, and `/`. The calculation applies to all elements in the matrix."
   ]
  },
  {
   "cell_type": "code",
   "execution_count": null,
   "metadata": {
    "slideshow": {
     "slide_type": "-"
    }
   },
   "outputs": [],
   "source": [
    "mymat <- matrix(1:9,byrow=TRUE,nrow=3)\n",
    "print(mymat)\n",
    "print(mymat + mymat)\n",
    "print(mymat * 2)"
   ]
  },
  {
   "cell_type": "markdown",
   "metadata": {
    "slideshow": {
     "slide_type": "subslide"
    }
   },
   "source": [
    "#### - Factors\n",
    "- The factor is one of the classes.\n",
    "- The factor stores characters.\n",
    "    - For example, a vector `c(\"Male\", \"Female\", \"Male\")` contains two factor levels `\"Male\"` and `\"Female\"`. `factor()` encodes the vector as a factor.\n",
    "- You can define the order of factor levels."
   ]
  },
  {
   "cell_type": "code",
   "execution_count": null,
   "metadata": {
    "slideshow": {
     "slide_type": "subslide"
    }
   },
   "outputs": [],
   "source": [
    "# ordinal categorical variable\n",
    "temp <- c(\"High\",\"Low\",\"Medium\",\"Low\")\n",
    "factor_temp <- factor(temp,levels=c(\"Low\",\"Medium\",\"High\"),ordered=TRUE) # put levels from \"Low\", \"Medium\", to \"High\", where \"Low\" is the smallest\n",
    "print(factor_temp)\n",
    "print(class(factor_temp))\n",
    "print(factor_temp[1] < factor_temp[2]) # check if \"Low\" is larger than \"High\"\n",
    "print(summary(factor_temp)) # count the number of each element\n",
    "\n",
    "# nominal categorical variable\n",
    "animals <- c(\"Elephant\",\"Giraffe\",\"Donkey\",\"Horse\")\n",
    "factor_animals <- factor(animals)\n",
    "print(factor_animals)\n",
    "print(class(factor_animals))\n",
    "# print(factor_animals[1] < factor_animals[2]) # this returns an error.\n",
    "print(summary(factor_animals))"
   ]
  },
  {
   "cell_type": "markdown",
   "metadata": {
    "slideshow": {
     "slide_type": "subslide"
    }
   },
   "source": [
    "- It is possible to use any other labels for factor levels."
   ]
  },
  {
   "cell_type": "code",
   "execution_count": null,
   "metadata": {},
   "outputs": [],
   "source": [
    "gender <- c(\"M\",\"F\",\"F\",\"M\",\"M\")\n",
    "factor_gender <- factor(gender) \n",
    "levels(factor_gender) <- c(\"Female\",\"Male\") # factors levels are stored as \"M\" for \"Male\" and \"F\" for \"Female\". Since R assigns characters alphabetically, the order must be Female, Male, not Male, Female\n",
    "print(factor_gender)"
   ]
  },
  {
   "cell_type": "markdown",
   "metadata": {
    "slideshow": {
     "slide_type": "subslide"
    }
   },
   "source": [
    "#### - Data frames\n",
    "- The data frame is one of the classes.\n",
    "- Recall that vectors and matrices can store only one class. Data frames allow you to store multiple classes."
   ]
  },
  {
   "cell_type": "code",
   "execution_count": null,
   "metadata": {
    "slideshow": {
     "slide_type": "-"
    }
   },
   "outputs": [],
   "source": [
    "print(class(mtcars)) # mtcars is built-in data\n",
    "print(mtcars)"
   ]
  },
  {
   "cell_type": "markdown",
   "metadata": {
    "slideshow": {
     "slide_type": "subslide"
    }
   },
   "source": [
    "- To get the structure of a data frame, use `str()`.\n",
    "- To get dimensions of a data frame, use `dim()`. (The command is similar to `.shape` in Python.)\n",
    "- You can use `lengths()` for the number of elements in each column.\n",
    "    - `length()` (without s) is for a specific column."
   ]
  },
  {
   "cell_type": "code",
   "execution_count": null,
   "metadata": {
    "slideshow": {
     "slide_type": "-"
    }
   },
   "outputs": [],
   "source": [
    "print(str(mtcars))\n",
    "print(dim(mtcars))\n",
    "print(lengths(mtcars))\n",
    "print(length(mtcars$mpg))"
   ]
  },
  {
   "cell_type": "markdown",
   "metadata": {
    "slideshow": {
     "slide_type": "subslide"
    }
   },
   "source": [
    "- Use `summary()` to get a summary table."
   ]
  },
  {
   "cell_type": "code",
   "execution_count": null,
   "metadata": {
    "slideshow": {
     "slide_type": "-"
    }
   },
   "outputs": [],
   "source": [
    "print(summary(mtcars))"
   ]
  },
  {
   "cell_type": "markdown",
   "metadata": {
    "slideshow": {
     "slide_type": "subslide"
    }
   },
   "source": [
    "- To get the total number of columns and rows, use `ncol()` and `nrow()`, respectively."
   ]
  },
  {
   "cell_type": "code",
   "execution_count": null,
   "metadata": {
    "slideshow": {
     "slide_type": "-"
    }
   },
   "outputs": [],
   "source": [
    "print(ncol(mtcars))\n",
    "print(nrow(mtcars))"
   ]
  },
  {
   "cell_type": "markdown",
   "metadata": {
    "slideshow": {
     "slide_type": "subslide"
    }
   },
   "source": [
    "- To get column names and row names, use `colnames()` and `rownames()`, respectively."
   ]
  },
  {
   "cell_type": "code",
   "execution_count": null,
   "metadata": {
    "slideshow": {
     "slide_type": "-"
    }
   },
   "outputs": [],
   "source": [
    "print(colnames(mtcars))\n",
    "print(rownames(mtcars))"
   ]
  },
  {
   "cell_type": "markdown",
   "metadata": {
    "slideshow": {
     "slide_type": "subslide"
    }
   },
   "source": [
    "- To check if a value is duplicated, use `duplicated()`.\n",
    "- To check if a value is unique, use `!duplicated()`."
   ]
  },
  {
   "cell_type": "code",
   "execution_count": null,
   "metadata": {
    "slideshow": {
     "slide_type": "-"
    }
   },
   "outputs": [],
   "source": [
    "print(duplicated(colnames(mtcars)))\n",
    "print(!duplicated(colnames(mtcars)))\n",
    "print(sum(duplicated(rownames(mtcars)))) # the total number of unique index"
   ]
  },
  {
   "cell_type": "markdown",
   "metadata": {
    "slideshow": {
     "slide_type": "subslide"
    }
   },
   "source": [
    "- To get unique values, use `unique()`."
   ]
  },
  {
   "cell_type": "code",
   "execution_count": null,
   "metadata": {
    "slideshow": {
     "slide_type": "-"
    }
   },
   "outputs": [],
   "source": [
    "unique(rownames(mtcars))"
   ]
  },
  {
   "cell_type": "markdown",
   "metadata": {
    "slideshow": {
     "slide_type": "subslide"
    }
   },
   "source": [
    "##### Get elements\n",
    "- To access each element, you can use `[]`.\n",
    "- To slice data, use `[:]`. \n",
    "    - To get columns, you can write either `[:]` or `[,:]`.\n",
    "    - To get rows, use `[:,]`\n",
    "- You can directly write like `df$column_name`."
   ]
  },
  {
   "cell_type": "code",
   "execution_count": null,
   "metadata": {
    "slideshow": {
     "slide_type": "-"
    }
   },
   "outputs": [],
   "source": [
    "# get columns\n",
    "print(mtcars[1:2]) \n",
    "print(mtcars[,1:2]) \n",
    "print(mtcars[,\"mpg\"]) \n",
    "print(mtcars$mpg) \n",
    "# get rows\n",
    "print(mtcars[1:2,]) "
   ]
  },
  {
   "cell_type": "markdown",
   "metadata": {
    "slideshow": {
     "slide_type": "subslide"
    }
   },
   "source": [
    "- You can use operators like `==`, `>`, and `<=` to get parciular rows.\n",
    "    - You can also use `subset()`.\n",
    "- You can also use `filter()` in the `dplyr` package.\n",
    "- If a row contains NA, subsetting elements using operators in `[]` returns NA for all values in the row.\n",
    "    - `select()` and `filter()` even remove that row.\n",
    "    - To keep NA, add an \"or\" condition."
   ]
  },
  {
   "cell_type": "code",
   "execution_count": null,
   "metadata": {
    "slideshow": {
     "slide_type": "subslide"
    }
   },
   "outputs": [],
   "source": [
    "col1 <- c(\"a\",\"a\",\"b\",\"b\")\n",
    "col2 <- c(1,2,1,2)\n",
    "col3 <- c(NA,0.2,0.4,0.1)\n",
    "col4 <- c(TRUE,FALSE,FALSE,TRUE)\n",
    "myDf <- data.frame(id=col1,time=col2,varA=col3,varB=col4,stringsAsFactors=FALSE) # add column names at once, do not read strings as factors\n",
    "print(myDf)\n",
    "\n",
    "myDf2 <- myDf[myDf$varA != 0.2,]\n",
    "print(myDf2)\n",
    "print(subset(myDf,varA != 0.2)) # using subset\n",
    "library(dplyr) \n",
    "print(filter(myDf,varA != 0.2)) # using filter in the dplyr package"
   ]
  },
  {
   "cell_type": "code",
   "execution_count": null,
   "metadata": {
    "slideshow": {
     "slide_type": "subslide"
    }
   },
   "outputs": [],
   "source": [
    "col1 <- c(\"a\",\"a\",\"b\",\"b\")\n",
    "col2 <- c(1,2,1,2)\n",
    "col3 <- c(NA,0.2,0.4,0.1)\n",
    "col4 <- c(TRUE,FALSE,FALSE,TRUE)\n",
    "myDf <- data.frame(id=col1,time=col2,varA=col3,varB=col4,stringsAsFactors=FALSE)\n",
    "print(myDf)\n",
    "\n",
    "myDf2 <- myDf[(myDf$varA != 0.2) | (is.na(myDf$varA)),]\n",
    "print(myDf2)\n",
    "print(subset(myDf,varA != 0.2 | is.na(varA))) # using subset\n",
    "library(dplyr) \n",
    "print(filter(myDf,varA != 0.2 | is.na(varA))) # using filter"
   ]
  },
  {
   "cell_type": "markdown",
   "metadata": {
    "slideshow": {
     "slide_type": "subslide"
    }
   },
   "source": [
    "- To subset columns, use `[]`, `subset()`, or `select()` in the dplyr package."
   ]
  },
  {
   "cell_type": "code",
   "execution_count": null,
   "metadata": {
    "slideshow": {
     "slide_type": "-"
    }
   },
   "outputs": [],
   "source": [
    "# subset columns\n",
    "drops <- c(\"mpg\",\"cyl\")\n",
    "print(mtcars[,!(colnames(mtcars) %in% drops)])\n",
    "print(subset(mtcars,select=-c(mpg, cyl))) # using subset"
   ]
  },
  {
   "cell_type": "markdown",
   "metadata": {
    "slideshow": {
     "slide_type": "subslide"
    }
   },
   "source": [
    "- `select` in the `dplyr` package is very useful."
   ]
  },
  {
   "cell_type": "code",
   "execution_count": null,
   "metadata": {
    "slideshow": {
     "slide_type": "-"
    }
   },
   "outputs": [],
   "source": [
    "library(dplyr) \n",
    "print(select(mtcars,disp:carb)) # select columns from disp to carb\n",
    "print(select(mtcars,starts_with(\"m\"))) # columns starting with \"m\"\n",
    "#print(select(mtcars, ends_with(\"p\"))) # columns ending with \"m\"\n",
    "#print(select(mtcars, contains(\"q\"))) # columns containing w or p\n",
    "# another useful option num_range(\"x\", 1:3) # columns x1, x2, and x3."
   ]
  },
  {
   "cell_type": "markdown",
   "metadata": {
    "slideshow": {
     "slide_type": "subslide"
    }
   },
   "source": [
    "- To get first few rows and last few rows easily, use `head()` and `tail()`, respectively."
   ]
  },
  {
   "cell_type": "code",
   "execution_count": null,
   "metadata": {
    "slideshow": {
     "slide_type": "-"
    }
   },
   "outputs": [],
   "source": [
    "print(head(mtcars,n=5)) # first 5 rows\n",
    "print(tail(mtcars,n=5)) # last 5 rows"
   ]
  },
  {
   "cell_type": "markdown",
   "metadata": {
    "slideshow": {
     "slide_type": "subslide"
    }
   },
   "source": [
    "- Appendix: To get the indices of matched elements, use `grep()` or `match()`.\n",
    "    - `match()` is used for the exact match like `==`."
   ]
  },
  {
   "cell_type": "code",
   "execution_count": null,
   "metadata": {},
   "outputs": [],
   "source": [
    "mycars <- read.table('cars.csv',header=TRUE,sep=',',stringsAsFactors=FALSE)\n",
    "print(mycars)\n",
    "grep(\"Japan\",mycars$country)\n",
    "match(\"Japan\",mycars$country)\n",
    "grep(\"Jap\",mycars$country)\n",
    "match(\"Jap\",mycars$country) # this is not exact match"
   ]
  },
  {
   "cell_type": "markdown",
   "metadata": {
    "slideshow": {
     "slide_type": "subslide"
    }
   },
   "source": [
    "##### Change contents\n",
    "- To delete a column, use `<- NULL`.\n",
    "    - Similar to `del` in Python.\n",
    "- Alternatively, you can use `[]` for subsetting data."
   ]
  },
  {
   "cell_type": "code",
   "execution_count": null,
   "metadata": {
    "slideshow": {
     "slide_type": "-"
    }
   },
   "outputs": [],
   "source": [
    "mycars <- read.table('cars.csv',header=TRUE,sep=',',row.names='id',stringsAsFactors=FALSE)\n",
    "print(mycars)\n",
    "mycars$country <- NULL\n",
    "print(mycars)"
   ]
  },
  {
   "cell_type": "markdown",
   "metadata": {
    "slideshow": {
     "slide_type": "subslide"
    }
   },
   "source": [
    "- You can sort elements using `order()`.\n",
    "    - Though rarely used, you can also sort data by row values.\n",
    "- Another option is `arrange()` in the `dplyr` package."
   ]
  },
  {
   "cell_type": "code",
   "execution_count": null,
   "metadata": {
    "slideshow": {
     "slide_type": "-"
    }
   },
   "outputs": [],
   "source": [
    "attach(mtcars)\n",
    "print(mtcars[order(mpg,cyl),]) # sort by columns\n",
    "print(mtcars[order(-mpg,-cyl),]) # sort by columns (descending)\n",
    "print(mtcars[,order(mtcars[\"Mazda RX4\",])]) # sort by a row\n",
    "#require(dplyr)\n",
    "#print(arrange(mtcars, cyl, desc(mpg))) # sort by cyl (ascending) and mpg (descending)"
   ]
  },
  {
   "cell_type": "markdown",
   "metadata": {
    "slideshow": {
     "slide_type": "subslide"
    }
   },
   "source": [
    "- To transpose data, use `t()`."
   ]
  },
  {
   "cell_type": "code",
   "execution_count": null,
   "metadata": {
    "slideshow": {
     "slide_type": "-"
    }
   },
   "outputs": [],
   "source": [
    "print(t(mtcars))"
   ]
  },
  {
   "cell_type": "markdown",
   "metadata": {
    "slideshow": {
     "slide_type": "subslide"
    }
   },
   "source": [
    "- You can use `reshape` to reshape the data."
   ]
  },
  {
   "cell_type": "code",
   "execution_count": null,
   "metadata": {
    "slideshow": {
     "slide_type": "-"
    }
   },
   "outputs": [],
   "source": [
    "col1 <- c(\"a\",\"a\",\"b\",\"b\")\n",
    "col2 <- c(1,2,1,2)\n",
    "col3 <- c(0.5,0.2,0.4,0.1)\n",
    "col4 <- c(TRUE,FALSE,FALSE,TRUE)\n",
    "myDf <- data.frame(id=col1,time=col2,varA=col3,varB=col4,stringsAsFactors=FALSE)\n",
    "print(myDf)\n",
    "\n",
    "myDf <- reshape(myDf,idvar=\"id\",timevar=\"time\",direction=\"wide\")\n",
    "rownames(myDf) <- NULL # delete the old rownames\n",
    "print(myDf)\n",
    "myDf <- reshape(myDf,idvar=\"id\",timevar=\"time\",direction=\"long\")\n",
    "rownames(myDf) <- NULL # delete the old rownames\n",
    "print(myDf)"
   ]
  },
  {
   "cell_type": "markdown",
   "metadata": {
    "slideshow": {
     "slide_type": "subslide"
    }
   },
   "source": [
    "- Appendix: Use `melt()` in the `reshape2` package to show data in an alternative form.\n",
    "<!-- `dcast()` \n",
    "myDf_back <- dcast(myDf_melt, id + time ~ variable)\n",
    "print(myDf_back)\n",
    "-->"
   ]
  },
  {
   "cell_type": "code",
   "execution_count": null,
   "metadata": {
    "slideshow": {
     "slide_type": "-"
    }
   },
   "outputs": [],
   "source": [
    "library(reshape2)\n",
    "col1 <- c(\"a\",\"a\",\"b\",\"b\")\n",
    "col2 <- c(1,2,1,2)\n",
    "col3 <- c(0.5,0.2,0.4,0.1)\n",
    "col4 <- c(TRUE,FALSE,FALSE,TRUE)\n",
    "myDf <- data.frame(id=col1,time=col2,varA=col3,varB=col4,stringsAsFactors=FALSE)\n",
    "print(myDf)\n",
    "print(melt(myDf,id.vars=c(\"id\",\"time\")))"
   ]
  },
  {
   "cell_type": "markdown",
   "metadata": {
    "slideshow": {
     "slide_type": "subslide"
    }
   },
   "source": [
    "- To rename column and row names, use `colnames()` and `rownames()`, respectively.\n",
    "    - For column names, you can also use `setnames()` in the `data.table` package.\n",
    "<!--    - For column names, you can also use `rename()` in the `dplyr` package. -->"
   ]
  },
  {
   "cell_type": "code",
   "execution_count": null,
   "metadata": {},
   "outputs": [],
   "source": [
    "col1 <- c(\"a\",\"a\",\"b\",\"b\")\n",
    "col2 <- c(1,2,1,2)\n",
    "col3 <- c(0.5,0.2,0.4,0.1)\n",
    "col4 <- c(TRUE,FALSE,FALSE,TRUE)\n",
    "myDf <- data.frame(id=col1,time=col2,varA=col3,varB=col4,stringsAsFactors=FALSE)\n",
    "print(myDf)\n",
    "colnames(myDf)[colnames(myDf)==\"varA\"] <- \"varC\" # replace a column name\n",
    "print(myDf)\n",
    "#library(data.table) #install.packages(\"data.table\", repos='http://cran.us.r-project.org')\n",
    "#print(setnames(myDf,\"varB\",\"varD\"))"
   ]
  },
  {
   "cell_type": "markdown",
   "metadata": {
    "slideshow": {
     "slide_type": "subslide"
    }
   },
   "source": [
    "- To replace values, use `replace()` or `gsub()`.\n",
    "    - `gsub()` returns character. If you want to replace numerics, use `replace()`."
   ]
  },
  {
   "cell_type": "code",
   "execution_count": null,
   "metadata": {
    "slideshow": {
     "slide_type": "-"
    }
   },
   "outputs": [],
   "source": [
    "col1 <- c(\"a\",\"a\",\"b\",\"b\")\n",
    "col2 <- c(1,2,1,2)\n",
    "col3 <- c(0.5,0.2,0.4,0.1)\n",
    "col4 <- c(TRUE,FALSE,FALSE,TRUE)\n",
    "myDf <- data.frame(id=col1,time=col2,varA=col3,varB=col4,stringsAsFactors=FALSE)\n",
    "print(myDf)\n",
    "myDf$varA <- replace(myDf$varA,myDf$varA==0.5,0.8) # replace varA == 0.5 to 0.8\n",
    "print(myDf)\n",
    "myDf$varA <- gsub(0.5,0.8,myDf$varA) # using gsub\n",
    "print(myDf)\n",
    "print(class(myDf$varA))"
   ]
  },
  {
   "cell_type": "markdown",
   "metadata": {
    "slideshow": {
     "slide_type": "subslide"
    }
   },
   "source": [
    "##### Computation\n",
    "- `colSums()` and `rowSums()` for calculating sums for each column and row, respectively.\n",
    "    - Instead, `sum()` compute sums for a specific column or row or the sum of all elements in a data frame.\n",
    "- `colMeans()` and `rowMeans()` for calculating means for each column and row, respectively.\n",
    "    - Instead, `mean()` compute means for a specific column, but not a row."
   ]
  },
  {
   "cell_type": "code",
   "execution_count": null,
   "metadata": {
    "slideshow": {
     "slide_type": "subslide"
    }
   },
   "outputs": [],
   "source": [
    "col2 <- c(1,2,1,2)\n",
    "col3 <- c(1.5,0.9,0.2,0.3)\n",
    "col4 <- c(0.5,0.2,0.4,0.1)\n",
    "myDf <- data.frame(time=col2,varA=col3,varB=col4,stringsAsFactors=FALSE)\n",
    "print(myDf)\n",
    "print(sum(myDf$varA))\n",
    "print(colSums(myDf[,c(\"varA\",\"varB\")]))\n",
    "print(rowSums(myDf[c(1,3),]))"
   ]
  },
  {
   "cell_type": "markdown",
   "metadata": {
    "slideshow": {
     "slide_type": "subslide"
    }
   },
   "source": [
    "- NaN and NA are not always ignored in calculation (unlike Python)."
   ]
  },
  {
   "cell_type": "code",
   "execution_count": null,
   "metadata": {
    "slideshow": {
     "slide_type": "-"
    }
   },
   "outputs": [],
   "source": [
    "myDf <- data.frame(matrix(1:9,byrow=TRUE,nrow=3)) \n",
    "print(myDf)\n",
    "myDf$X1 <- replace(myDf$X1,myDf$X1==1,NaN)\n",
    "print(myDf)\n",
    "print(sum(myDf$X1)) # returns NaN\n",
    "print(sum(myDf$X1,na.rm=TRUE)) # ignore NaN"
   ]
  },
  {
   "cell_type": "markdown",
   "metadata": {
    "slideshow": {
     "slide_type": "subslide"
    }
   },
   "source": [
    "##### Treat missing values\n",
    "- To check if data contain NA or NaN, use `is.na()`.\n",
    "    - To check if data contain NaN, use `is.nan()`.\n",
    "- To check if data contain inf or -inf, use `is.infinite()`."
   ]
  },
  {
   "cell_type": "code",
   "execution_count": null,
   "metadata": {
    "slideshow": {
     "slide_type": "-"
    }
   },
   "outputs": [],
   "source": [
    "x <- c(-Inf,NA,3,Inf)\n",
    "y <- c(NA,0/0,NaN,log(0))\n",
    "my_data <- data.frame(x,y)\n",
    "print(my_data)\n",
    "print(is.na(my_data))\n",
    "print(sum(is.na(my_data))) # total number of NA or NaN (counting TRUEs)\n",
    "print(apply(is.na(my_data),2,sum)) # total number of NA or NaN by column (change 2 to 1 to count by row)\n",
    "print(is.nan(as.matrix(my_data))) # to use is.nan in the data with multiple rows, one should use as.matrix()\n",
    "# print(is.nan(my_data)) # this returns nothing\n",
    "print(is.infinite(as.matrix(my_data))) # to use is.infinite in the data with multiple rows, one should use as.matrix()"
   ]
  },
  {
   "cell_type": "markdown",
   "metadata": {
    "slideshow": {
     "slide_type": "subslide"
    }
   },
   "source": [
    "- To drop rows with an NA or NaN, use `[]`.\n",
    "- To drop rows with all NA or NaN, use `complete.cases()`."
   ]
  },
  {
   "cell_type": "code",
   "execution_count": null,
   "metadata": {
    "slideshow": {
     "slide_type": "-"
    }
   },
   "outputs": [],
   "source": [
    "x <- c(-Inf,NA,3,Inf)\n",
    "y <- c(NA,0/0,NaN,log(0))\n",
    "my_data <- data.frame(x,y)\n",
    "print(my_data)\n",
    "my_data_nomiss <- my_data[!is.na(my_data$x),] \n",
    "print(my_data_nomiss)\n",
    "my_data_nomiss <- my_data[complete.cases(my_data),]\n",
    "print(my_data_nomiss)"
   ]
  },
  {
   "cell_type": "markdown",
   "metadata": {
    "slideshow": {
     "slide_type": "subslide"
    }
   },
   "source": [
    "- To drop columns with all NA or NaN, use `[]`."
   ]
  },
  {
   "cell_type": "code",
   "execution_count": null,
   "metadata": {
    "slideshow": {
     "slide_type": "-"
    }
   },
   "outputs": [],
   "source": [
    "x <- c(log(0), NA, 3, Inf)\n",
    "y <- c(NA, 0/0, NaN, NA)\n",
    "z <- c(1,2,3,4)\n",
    "my_data <- data.frame(x,y,z)\n",
    "print(my_data)\n",
    "my_data2 <- my_data[,colSums(is.na(my_data)) != nrow(my_data)]\n",
    "print(my_data2)"
   ]
  },
  {
   "cell_type": "markdown",
   "metadata": {
    "slideshow": {
     "slide_type": "subslide"
    }
   },
   "source": [
    "- Replace NA, NaN, inf or -inf with another value."
   ]
  },
  {
   "cell_type": "code",
   "execution_count": null,
   "metadata": {
    "slideshow": {
     "slide_type": "-"
    }
   },
   "outputs": [],
   "source": [
    "x <- c(-Inf, NA, 3, Inf)\n",
    "y <- c(NA, 0/0, NaN, log(0))\n",
    "z <- c(1,2,3,4)\n",
    "my_data <- data.frame(x,y,z)\n",
    "print(my_data)\n",
    "my_data$x[is.na(my_data$x)] <- 0 # NA or NaN in column x\n",
    "print(my_data)\n",
    "my_data[is.na(my_data)] <- 0 # all NA or NaN\n",
    "print(my_data)"
   ]
  },
  {
   "cell_type": "markdown",
   "metadata": {
    "slideshow": {
     "slide_type": "subslide"
    }
   },
   "source": [
    "##### Merge\n",
    "- To merge datasets, use `merge()`.\n",
    "    - Alternatively, you can use `cbind()` and `rbind()`."
   ]
  },
  {
   "cell_type": "code",
   "execution_count": null,
   "metadata": {
    "slideshow": {
     "slide_type": "-"
    }
   },
   "outputs": [],
   "source": [
    "id <- c(\"a\",\"b\",\"c\")\n",
    "weight <- c(80.0,65.0,55.0)\n",
    "data1 <- data.frame(id,weight)\n",
    " \n",
    "id <- c(\"a\",\"b\",\"c\",\"d\")\n",
    "height <- c(180.0,170.0,150.0,155.0)\n",
    "data2 <- data.frame(id,height)\n",
    "\n",
    "print(merge(data1,data2,by=\"id\")) # exclude unmatched ones\n",
    "print(merge(data1,data2,by=\"id\",all=TRUE)) # include all"
   ]
  },
  {
   "cell_type": "markdown",
   "metadata": {
    "slideshow": {
     "slide_type": "subslide"
    }
   },
   "source": [
    "- You can merge even if the key names are different."
   ]
  },
  {
   "cell_type": "code",
   "execution_count": null,
   "metadata": {
    "slideshow": {
     "slide_type": "-"
    }
   },
   "outputs": [],
   "source": [
    "id <- c(\"a\",\"b\",\"c\")\n",
    "weight <- c(80.0,65.0,55.0)\n",
    "data1 <- data.frame(id,weight)\n",
    " \n",
    "xid <- c(\"a\",\"b\",\"c\",\"d\")\n",
    "height <- c(180.0,170.0,150.0,155.0)\n",
    "data2 <- data.frame(xid,height)\n",
    "\n",
    "print(merge(data1,data2,by.x=\"id\",by.y=\"xid\")) # exclude unmatched ones\n",
    "print(merge(data1,data2,by.x=\"id\",by.y=\"xid\",all=TRUE)) # include all"
   ]
  },
  {
   "cell_type": "markdown",
   "metadata": {
    "slideshow": {
     "slide_type": "subslide"
    }
   },
   "source": [
    "- You can use more than one key."
   ]
  },
  {
   "cell_type": "code",
   "execution_count": null,
   "metadata": {
    "slideshow": {
     "slide_type": "-"
    }
   },
   "outputs": [],
   "source": [
    "id <- c(\"a\",\"a\",\"b\",\"b\")\n",
    "time <- c(1,2,1,2)\n",
    "weight <- c(80.0,79.0,54.0,55.0)\n",
    "data1 <- data.frame(id,time,weight)\n",
    "\n",
    "id <- c(\"a\",\"a\",\"b\",\"b\",\"c\")\n",
    "time <- c(1,2,1,2,1)\n",
    "height <- c(180.0,180.0,170.0,170.0,155.0)\n",
    "data2 <- data.frame(id,time,height)\n",
    "\n",
    "print(merge(data1,data2,by=c(\"id\",\"time\"))) # exclude unmatched ones\n",
    "print(merge(data1,data2,by=c(\"id\",\"time\"),all=TRUE)) # include all"
   ]
  },
  {
   "cell_type": "markdown",
   "metadata": {
    "slideshow": {
     "slide_type": "subslide"
    }
   },
   "source": [
    "- What happens if both datasets have the same column name but the contents are different?"
   ]
  },
  {
   "cell_type": "code",
   "execution_count": null,
   "metadata": {
    "slideshow": {
     "slide_type": "-"
    }
   },
   "outputs": [],
   "source": [
    "id <- c(\"a\",\"b\",\"c\")\n",
    "weight <- c(80.0,65.0,55.0)\n",
    "data1 <- data.frame(id, weight)\n",
    " \n",
    "xid <- c(\"a\",\"b\",\"c\",\"d\")\n",
    "weight <- c(180.0,170.0,150.0,155.0)\n",
    "data2 <- data.frame(xid,weight)\n",
    "\n",
    "print(merge(data1,data2,by.x=\"id\",by.y=\"xid\")) # exclude unmatched ones\n",
    "print(merge(data1,data2,by.x=\"id\",by.y=\"xid\",all=TRUE)) # include all"
   ]
  },
  {
   "cell_type": "markdown",
   "metadata": {
    "slideshow": {
     "slide_type": "subslide"
    }
   },
   "source": [
    "#### - Lists\n",
    "- Lists are one of the classes.\n",
    "- Lists can contain any class.\n",
    "- The structure of lists in R looks quite different from that of lists in Python."
   ]
  },
  {
   "cell_type": "code",
   "execution_count": null,
   "metadata": {
    "slideshow": {
     "slide_type": "-"
    }
   },
   "outputs": [],
   "source": [
    "x <- c(1,2)\n",
    "y <- matrix(1:4,nrow=2,ncol=2)\n",
    "z <- mtcars\n",
    "mylist <- list(x,y,z)\n",
    "names(mylist) <- c(\"vec\",\"mat\",\"df\")\n",
    "print(class(mylist))\n",
    "print(mylist)"
   ]
  },
  {
   "cell_type": "markdown",
   "metadata": {
    "slideshow": {
     "slide_type": "subslide"
    }
   },
   "source": [
    "- To get an element in a list, use `[[]]` or` $ `, and `[]`."
   ]
  },
  {
   "cell_type": "code",
   "execution_count": null,
   "metadata": {
    "slideshow": {
     "slide_type": "-"
    }
   },
   "outputs": [],
   "source": [
    "x <- c(1,2)\n",
    "y <- matrix(1:4,nrow=2,ncol=2)\n",
    "z <- mtcars\n",
    "mylist <- list(vec=x,mat=y,df=z) # assign names\n",
    "print(mylist[[2]]) # this returns mat\n",
    "print(mylist[[\"mat\"]]) # this returns mat\n",
    "print(mylist$mat) # this returns mat\n",
    "\n",
    "print(mylist$mat[,1]) # this returns the first column in mat"
   ]
  },
  {
   "cell_type": "markdown",
   "metadata": {
    "slideshow": {
     "slide_type": "subslide"
    }
   },
   "source": [
    "- To get the structure of a list, use `str()`.\n",
    "- To get the length of each element in a list, use `lengths()`.\n",
    "    - To get the length of the list, use `length()`."
   ]
  },
  {
   "cell_type": "code",
   "execution_count": null,
   "metadata": {},
   "outputs": [],
   "source": [
    "x <- c(1,2)\n",
    "y <- matrix(1:4,nrow=2,ncol=2)\n",
    "z <- mtcars\n",
    "mylist <- list(vec=x,mat=y,df=z)\n",
    "print(str(mylist))\n",
    "print(lengths(mylist))\n",
    "print(length(mylist))"
   ]
  },
  {
   "cell_type": "markdown",
   "metadata": {
    "slideshow": {
     "slide_type": "slide"
    }
   },
   "source": [
    "## 4. Functions and Packages\n",
    "- As in Python, there are many functions and packages.\n",
    "- You have already used some of the functions such as `print()`, `paste()`, `summary()`, `sum()`, and `subset()`.\n",
    "    - `builtins()` to get the list of built-in functions.\n",
    "- You can get a help document using `?` or `help()`."
   ]
  },
  {
   "cell_type": "code",
   "execution_count": 60,
   "metadata": {
    "slideshow": {
     "slide_type": "-"
    }
   },
   "outputs": [],
   "source": [
    "?print"
   ]
  },
  {
   "cell_type": "markdown",
   "metadata": {
    "slideshow": {
     "slide_type": "subslide"
    }
   },
   "source": [
    "- Packages contain functions, data, etc.\n",
    "- There are 12,649 packages (as of 2018/06/26) in  [CRAN](https://cran.r-project.org/).\n",
    "- To install a package, use `install.packages()`. You can use `c()` to install multiple packages.\n",
    "- Installed packages can be loaded using `library()`.\n",
    "<!--\n",
    "    - Type `.libPaths()` to check where packages are stored.\n",
    "    - If no path to `Anaconda3/Lib/R/library` is found, type\n",
    "```python\n",
    ".libPaths(\"C:/[path_to_the_folder]/Anaconda3/Lib/R/library\")\n",
    "```\n",
    "to set the path. You have to specify the path to your local directory.\n",
    "    - Then type the following:\n",
    "-->"
   ]
  },
  {
   "cell_type": "code",
   "execution_count": null,
   "metadata": {
    "slideshow": {
     "slide_type": "-"
    }
   },
   "outputs": [],
   "source": [
    "#install.packages(c(\"ggplot2\",\"foreign\"),repos='http://cran.us.r-project.org')\n",
    "library(ggplot2)"
   ]
  },
  {
   "cell_type": "markdown",
   "metadata": {
    "slideshow": {
     "slide_type": "subslide"
    }
   },
   "source": [
    "- To check functions in a package, use `lsf.str()` or `ls()`."
   ]
  },
  {
   "cell_type": "code",
   "execution_count": null,
   "metadata": {
    "slideshow": {
     "slide_type": "-"
    }
   },
   "outputs": [],
   "source": [
    "lsf.str(\"package:ggplot2\")\n",
    "#ls(\"package:ggplot2\")"
   ]
  },
  {
   "cell_type": "markdown",
   "metadata": {
    "slideshow": {
     "slide_type": "subslide"
    }
   },
   "source": [
    "- You can list loaded packages using `(.packages())`.\n",
    "- You can unload packages using `detach()`."
   ]
  },
  {
   "cell_type": "code",
   "execution_count": null,
   "metadata": {
    "slideshow": {
     "slide_type": "-"
    }
   },
   "outputs": [],
   "source": [
    "(.packages())\n",
    "detach(package:ggplot2)\n",
    "(.packages())"
   ]
  },
  {
   "cell_type": "markdown",
   "metadata": {
    "slideshow": {
     "slide_type": "subslide"
    }
   },
   "source": [
    "- The following commands install the `nycflights13` package and load it.\n",
    " <!--   - `dplyr` is a popular package for data scientist, focused on tools for working with data frames. -->\n",
    "    - `nycflights13` includes data on 336,776 flights departed from NYC in 2013."
   ]
  },
  {
   "cell_type": "code",
   "execution_count": 64,
   "metadata": {
    "slideshow": {
     "slide_type": "-"
    }
   },
   "outputs": [],
   "source": [
    "install.packages(\"nycflights13\",repos='http://cran.us.r-project.org')\n",
    "library(nycflights13)"
   ]
  },
  {
   "cell_type": "markdown",
   "metadata": {
    "slideshow": {
     "slide_type": "subslide"
    }
   },
   "source": [
    "- Unlike Python, you can use a function without referring to any package at any time (e.g., no, `np.` as in `np.narray`).\n",
    "- In the following command:\n",
    "    <!-- \n",
    "    - `filter()` included in the dplyr package\n",
    "    - `head()` included in the utils package (= a built-in package)\n",
    "    -->\n",
    "    - `flights` is included in the nycflights13 package."
   ]
  },
  {
   "cell_type": "code",
   "execution_count": null,
   "metadata": {
    "slideshow": {
     "slide_type": "-"
    }
   },
   "outputs": [],
   "source": [
    "print(head(subset(flights, month == 3 & day == 1), 5))"
   ]
  },
  {
   "cell_type": "markdown",
   "metadata": {
    "slideshow": {
     "slide_type": "subslide"
    }
   },
   "source": [
    "- You can make easily your own function. The following example uses `x` and `y` as inputs and returns `x + y`."
   ]
  },
  {
   "cell_type": "code",
   "execution_count": null,
   "metadata": {
    "slideshow": {
     "slide_type": "-"
    }
   },
   "outputs": [],
   "source": [
    "mysum <- function(x,y) {\n",
    "    return(x + y)\n",
    "}\n",
    "print(mysum(2,3))"
   ]
  },
  {
   "cell_type": "markdown",
   "metadata": {
    "slideshow": {
     "slide_type": "slide"
    }
   },
   "source": [
    "## 5. If Statements\n",
    "- R uses `{}` for if statements. Also, the condition has to be included in `()`. "
   ]
  },
  {
   "cell_type": "code",
   "execution_count": null,
   "metadata": {
    "slideshow": {
     "slide_type": "-"
    }
   },
   "outputs": [],
   "source": [
    "inp <- \"Hello\"\n",
    "if (inp == \"Hello\") {\n",
    "    print(\"World!\")\n",
    "}"
   ]
  },
  {
   "cell_type": "markdown",
   "metadata": {
    "slideshow": {
     "slide_type": "subslide"
    }
   },
   "source": [
    "- `else` and `else if` can be used."
   ]
  },
  {
   "cell_type": "code",
   "execution_count": null,
   "metadata": {
    "slideshow": {
     "slide_type": "-"
    }
   },
   "outputs": [],
   "source": [
    "inp <- \"Hello\"\n",
    "if (inp == \"Hell\") {\n",
    "    print(\"No.\")\n",
    "} else if (inp == \"He\") {\n",
    "    print(\"No.\")\n",
    "} else print(\"World!\")"
   ]
  },
  {
   "cell_type": "markdown",
   "metadata": {
    "slideshow": {
     "slide_type": "subslide"
    }
   },
   "source": [
    "- The above example looks ugly. Alternatively, you can define a function."
   ]
  },
  {
   "cell_type": "code",
   "execution_count": null,
   "metadata": {
    "slideshow": {
     "slide_type": "-"
    }
   },
   "outputs": [],
   "source": [
    "myfunc <- function(inp) {\n",
    "    if (inp == \"Hell\") out <- \"No.\"\n",
    "    else if (inp == \"He\") out <- \"No.\"\n",
    "    else out <- \"World!\"\n",
    "    return(out)\n",
    "}\n",
    "print(myfunc(\"Hello\"))"
   ]
  },
  {
   "cell_type": "markdown",
   "metadata": {
    "slideshow": {
     "slide_type": "subslide"
    }
   },
   "source": [
    "- Other relational operators are: `!=`, `>`, `<`, `>=`, and `<=`.\n",
    "- You can also combine them with `&&`, `||` and `%in%`. \n",
    "    - R does not allow `is` and `not` unlike Python."
   ]
  },
  {
   "cell_type": "code",
   "execution_count": null,
   "metadata": {
    "slideshow": {
     "slide_type": "-"
    }
   },
   "outputs": [],
   "source": [
    "year <- 2018\n",
    "if ((year > 2017) && (year < 2019)) print(\"2018!\")\n",
    "if (year != 2017) print('Not 2017!')\n",
    "\n",
    "myvec = c(NA,'b','c')\n",
    "if (NA %in% myvec) print('NA in myvec!')"
   ]
  },
  {
   "cell_type": "markdown",
   "metadata": {
    "slideshow": {
     "slide_type": "slide"
    }
   },
   "source": [
    "## 6. Loops\n",
    "- Use `for` or `while` for loops.\n",
    "- `for` loops use `in`."
   ]
  },
  {
   "cell_type": "code",
   "execution_count": null,
   "metadata": {},
   "outputs": [],
   "source": [
    "for (year in 2010:2019) {\n",
    "  print(paste(\"The year is\", year))\n",
    "}"
   ]
  },
  {
   "cell_type": "markdown",
   "metadata": {
    "slideshow": {
     "slide_type": "subslide"
    }
   },
   "source": [
    "- You can also loop over vectors."
   ]
  },
  {
   "cell_type": "code",
   "execution_count": null,
   "metadata": {
    "slideshow": {
     "slide_type": "-"
    }
   },
   "outputs": [],
   "source": [
    "for (vec in c(2010, TRUE, \"a\")) {\n",
    "  print(vec)\n",
    "}"
   ]
  },
  {
   "cell_type": "markdown",
   "metadata": {
    "slideshow": {
     "slide_type": "subslide"
    }
   },
   "source": [
    "- Loops can be simplified."
   ]
  },
  {
   "cell_type": "code",
   "execution_count": null,
   "metadata": {
    "slideshow": {
     "slide_type": "-"
    }
   },
   "outputs": [],
   "source": [
    "for (year in 2010:2019) print(year)"
   ]
  },
  {
   "cell_type": "markdown",
   "metadata": {
    "slideshow": {
     "slide_type": "subslide"
    }
   },
   "source": [
    "- You can insert elements into a vector, string, matrix, list, etc."
   ]
  },
  {
   "cell_type": "code",
   "execution_count": null,
   "metadata": {
    "slideshow": {
     "slide_type": "subslide"
    }
   },
   "outputs": [],
   "source": [
    "a <- NULL\n",
    "for (i in 1:10) {\n",
    "    a[[i]] <- i\n",
    "}\n",
    "print(a)\n",
    "b <- c()\n",
    "for (i in 1:10) {\n",
    "    b[[i]] <- i\n",
    "}\n",
    "print(b)\n",
    "c <- \"\"\n",
    "for (i in 1:10) {\n",
    "    c[[i]] <- i\n",
    "}\n",
    "print(c)\n",
    "d <- matrix()\n",
    "for (i in 1:10) {\n",
    "    d[[i]] <- i\n",
    "}\n",
    "print(d)\n",
    "e <- list()\n",
    "for (i in 1:10) {\n",
    "    e[[i]] <- i\n",
    "}\n",
    "print(e)"
   ]
  },
  {
   "cell_type": "markdown",
   "metadata": {
    "slideshow": {
     "slide_type": "subslide"
    }
   },
   "source": [
    "`while` loops use counters."
   ]
  },
  {
   "cell_type": "code",
   "execution_count": null,
   "metadata": {
    "slideshow": {
     "slide_type": "-"
    }
   },
   "outputs": [],
   "source": [
    "cnt <- 0\n",
    "while (cnt < 10) {\n",
    "    print(cnt)\n",
    "    cnt <- cnt + 1\n",
    "}"
   ]
  },
  {
   "cell_type": "markdown",
   "metadata": {
    "slideshow": {
     "slide_type": "subslide"
    }
   },
   "source": [
    "- Infinite loops use `repeat`.\n",
    "- Infinite loops often use if statements with `break` and `next`.\n",
    "    - `break` means you will exit the current loop.\n",
    "    - `next` means you will go back to the starting point of the current loop (like `continue` in Python)."
   ]
  },
  {
   "cell_type": "code",
   "execution_count": null,
   "metadata": {
    "slideshow": {
     "slide_type": "subslide"
    }
   },
   "outputs": [],
   "source": [
    "print(\"--- infinite loop till 9 ---\")\n",
    "cnt <- 0\n",
    "repeat {\n",
    "    print(cnt)\n",
    "    cnt <- cnt + 1\n",
    "    if (cnt >= 10) break\n",
    "}\n",
    "\n",
    "\n",
    "print(\"--- infinite loop till 9, except 2 ---\")\n",
    "cnt <- 0\n",
    "repeat {\n",
    "    if (cnt == 2) {\n",
    "        cnt <- cnt + 1\n",
    "        next\n",
    "    }\n",
    "    print(cnt)\n",
    "    cnt <- cnt + 1\n",
    "    \n",
    "    if (cnt >= 10) break\n",
    "}"
   ]
  },
  {
   "cell_type": "markdown",
   "metadata": {
    "slideshow": {
     "slide_type": "subslide"
    }
   },
   "source": [
    "- You can combine functions with loops."
   ]
  },
  {
   "cell_type": "code",
   "execution_count": null,
   "metadata": {
    "slideshow": {
     "slide_type": "-"
    }
   },
   "outputs": [],
   "source": [
    "myfive <- function(x) { # myfive return \"Five!\" if the input is five, and \".\" otherwise.\n",
    "    if (x == 5) y <- \"Five!\"\n",
    "    else y <- \".\"\n",
    "    return(y)\n",
    "}\n",
    "for (x in 1:5) {\n",
    "    print(myfive(x))\n",
    "}"
   ]
  }
 ],
 "metadata": {
  "celltoolbar": "Slideshow",
  "kernelspec": {
   "display_name": "R",
   "language": "R",
   "name": "ir"
  },
  "language_info": {
   "codemirror_mode": "r",
   "file_extension": ".r",
   "mimetype": "text/x-r-source",
   "name": "R",
   "pygments_lexer": "r",
   "version": "3.5.0"
  }
 },
 "nbformat": 4,
 "nbformat_minor": 2
}

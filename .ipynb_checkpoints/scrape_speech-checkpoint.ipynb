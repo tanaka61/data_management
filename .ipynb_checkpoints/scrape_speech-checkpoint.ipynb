{
 "cells": [
  {
   "cell_type": "markdown",
   "metadata": {
    "slideshow": {
     "slide_type": "slide"
    }
   },
   "source": [
    "## Python Code for scraping Syuuin speech\n",
    "#### Data Management (Spring/Summer 2018) at OSIPP, Osaka U\n",
    "\n",
    "#### Notes: Make sure to use API if you download many many texts. [Link](http://kokkai.ndl.go.jp/api.html)"
   ]
  },
  {
   "cell_type": "markdown",
   "metadata": {
    "slideshow": {
     "slide_type": "slide"
    }
   },
   "source": [
    "### Preamble"
   ]
  },
  {
   "cell_type": "code",
   "execution_count": 1,
   "metadata": {
    "slideshow": {
     "slide_type": "-"
    }
   },
   "outputs": [
    {
     "ename": "ModuleNotFoundError",
     "evalue": "No module named 'selenium'",
     "output_type": "error",
     "traceback": [
      "\u001b[1;31m---------------------------------------------------------------------------\u001b[0m",
      "\u001b[1;31mModuleNotFoundError\u001b[0m                       Traceback (most recent call last)",
      "\u001b[1;32m<ipython-input-1-f83015a5b477>\u001b[0m in \u001b[0;36m<module>\u001b[1;34m()\u001b[0m\n\u001b[1;32m----> 1\u001b[1;33m \u001b[1;32mfrom\u001b[0m \u001b[0mselenium\u001b[0m \u001b[1;32mimport\u001b[0m \u001b[0mwebdriver\u001b[0m\u001b[1;33m\u001b[0m\u001b[0m\n\u001b[0m\u001b[0;32m      2\u001b[0m \u001b[1;32mfrom\u001b[0m \u001b[0mselenium\u001b[0m\u001b[1;33m.\u001b[0m\u001b[0mwebdriver\u001b[0m\u001b[1;33m.\u001b[0m\u001b[0mcommon\u001b[0m\u001b[1;33m.\u001b[0m\u001b[0mkeys\u001b[0m \u001b[1;32mimport\u001b[0m \u001b[0mKeys\u001b[0m\u001b[1;33m\u001b[0m\u001b[0m\n\u001b[0;32m      3\u001b[0m \u001b[1;32mimport\u001b[0m \u001b[0mnumpy\u001b[0m \u001b[1;32mas\u001b[0m \u001b[0mnp\u001b[0m\u001b[1;33m\u001b[0m\u001b[0m\n\u001b[0;32m      4\u001b[0m \u001b[1;32mimport\u001b[0m \u001b[0mpandas\u001b[0m \u001b[1;32mas\u001b[0m \u001b[0mpd\u001b[0m\u001b[1;33m\u001b[0m\u001b[0m\n\u001b[0;32m      5\u001b[0m \u001b[1;32mimport\u001b[0m \u001b[0mtime\u001b[0m \u001b[1;32mas\u001b[0m \u001b[0mt\u001b[0m\u001b[1;33m\u001b[0m\u001b[0m\n",
      "\u001b[1;31mModuleNotFoundError\u001b[0m: No module named 'selenium'"
     ]
    }
   ],
   "source": [
    "from selenium import webdriver\n",
    "from selenium.webdriver.common.keys import Keys\n",
    "import numpy as np\n",
    "import pandas as pd\n",
    "import time as t"
   ]
  },
  {
   "cell_type": "code",
   "execution_count": 5,
   "metadata": {
    "slideshow": {
     "slide_type": "subslide"
    }
   },
   "outputs": [],
   "source": [
    "path_to_chromedriver = \"C:\\\\Users\\\\shu\\\\Desktop\\\\chromedriver\" # set path to your chrome driver\n",
    "browser = webdriver.Chrome(executable_path = path_to_chromedriver) # launch Google Chrome\n",
    "\n",
    "browser.implicitly_wait(10) # wait 10 sec"
   ]
  },
  {
   "cell_type": "markdown",
   "metadata": {
    "slideshow": {
     "slide_type": "subslide"
    }
   },
   "source": [
    "### Find relevant data"
   ]
  },
  {
   "cell_type": "code",
   "execution_count": 6,
   "metadata": {
    "slideshow": {
     "slide_type": "-"
    }
   },
   "outputs": [],
   "source": [
    "url = 'http://kokkai.ndl.go.jp/' \n",
    "browser.get(url) # open the webpage"
   ]
  },
  {
   "cell_type": "code",
   "execution_count": 7,
   "metadata": {
    "slideshow": {
     "slide_type": "subslide"
    }
   },
   "outputs": [],
   "source": [
    "browser.find_element_by_id('b_easy-search').click() # click 'easy search'"
   ]
  },
  {
   "cell_type": "code",
   "execution_count": 8,
   "metadata": {
    "slideshow": {
     "slide_type": "-"
    }
   },
   "outputs": [],
   "source": [
    "browser.switch_to_frame(\"frame1\") # select the first frame (there are two frames)"
   ]
  },
  {
   "cell_type": "markdown",
   "metadata": {
    "slideshow": {
     "slide_type": "subslide"
    }
   },
   "source": [
    "#### - Start and end date\n",
    "- I choose the period between 2017/4/1 and 2018/3/31."
   ]
  },
  {
   "cell_type": "code",
   "execution_count": 9,
   "metadata": {
    "slideshow": {
     "slide_type": "subslide"
    }
   },
   "outputs": [],
   "source": [
    "fromY = '/html/body/table[4]/tbody/tr[2]/td[2]/table/tbody/tr/td/table/tbody/tr[1]/td[3]/input[2]'\n",
    "fromM = '/html/body/table[4]/tbody/tr[2]/td[2]/table/tbody/tr/td/table/tbody/tr[1]/td[3]/input[3]'\n",
    "fromD = '/html/body/table[4]/tbody/tr[2]/td[2]/table/tbody/tr/td/table/tbody/tr[1]/td[3]/input[4]'\n",
    "\n",
    "browser.find_element_by_xpath(fromY).clear() # use xpath to select \"fromY\" as defined above\n",
    "browser.find_element_by_xpath(fromY).send_keys('29')  # start year\n",
    "browser.find_element_by_xpath(fromM).clear()\n",
    "browser.find_element_by_xpath(fromM).send_keys('4')  # start month\n",
    "browser.find_element_by_xpath(fromD).clear()\n",
    "browser.find_element_by_xpath(fromD).send_keys('1')  # start date"
   ]
  },
  {
   "cell_type": "code",
   "execution_count": 10,
   "metadata": {
    "slideshow": {
     "slide_type": "subslide"
    }
   },
   "outputs": [],
   "source": [
    "toY = '/html/body/table[4]/tbody/tr[2]/td[2]/table/tbody/tr/td/table/tbody/tr[2]/td/input[1]'\n",
    "toM = '/html/body/table[4]/tbody/tr[2]/td[2]/table/tbody/tr/td/table/tbody/tr[2]/td/input[2]'\n",
    "toD = '/html/body/table[4]/tbody/tr[2]/td[2]/table/tbody/tr/td/table/tbody/tr[2]/td/input[3]'\n",
    "\n",
    "browser.find_element_by_xpath(toY).clear()\n",
    "browser.find_element_by_xpath(toY).send_keys('30')  # end year\n",
    "browser.find_element_by_xpath(toM).clear()\n",
    "browser.find_element_by_xpath(toM).send_keys('3')  # end month\n",
    "browser.find_element_by_xpath(toD).clear()\n",
    "browser.find_element_by_xpath(toD).send_keys('31')  # end date"
   ]
  },
  {
   "cell_type": "markdown",
   "metadata": {
    "slideshow": {
     "slide_type": "subslide"
    }
   },
   "source": [
    "#### - Meetings\n",
    "- Select the House of Representatives (Syuuin)."
   ]
  },
  {
   "cell_type": "code",
   "execution_count": 11,
   "metadata": {
    "slideshow": {
     "slide_type": "-"
    }
   },
   "outputs": [],
   "source": [
    "all_meetings = '/html/body/p[2]/table/tbody/tr[2]/td[2]/table/tbody/tr/td/table/tbody/tr[1]/td[2]/table/tbody/tr/td[1]/input'\n",
    "syuuin       = '/html/body/p[2]/table/tbody/tr[2]/td[2]/table/tbody/tr/td/table/tbody/tr[1]/td[2]/table/tbody/tr/td[3]/input'\n",
    "sannin       = '/html/body/p[2]/table/tbody/tr[2]/td[2]/table/tbody/tr/td/table/tbody/tr[1]/td[2]/table/tbody/tr/td[5]/input'\n",
    "ryouin       = '/html/body/p[2]/table/tbody/tr[2]/td[2]/table/tbody/tr/td/table/tbody/tr[1]/td[2]/table/tbody/tr/td[7]/input'\n",
    "\n",
    "browser.find_element_by_xpath(syuuin).click() # you can change syuuin to another option"
   ]
  },
  {
   "cell_type": "markdown",
   "metadata": {
    "slideshow": {
     "slide_type": "subslide"
    }
   },
   "source": [
    "#### - Keywords\n",
    "- Use \"TPP\" as a keyword."
   ]
  },
  {
   "cell_type": "code",
   "execution_count": 12,
   "metadata": {
    "slideshow": {
     "slide_type": "-"
    }
   },
   "outputs": [],
   "source": [
    "clue = '/html/body/p[3]/table[1]/tbody/tr[2]/td[2]/table/tbody/tr/td/table/tbody/tr[2]/td/input'\n",
    "\n",
    "browser.find_element_by_xpath(clue).send_keys('TPP')"
   ]
  },
  {
   "cell_type": "markdown",
   "metadata": {
    "slideshow": {
     "slide_type": "subslide"
    }
   },
   "source": [
    "#### - Click 'Search'"
   ]
  },
  {
   "cell_type": "code",
   "execution_count": 13,
   "metadata": {
    "slideshow": {
     "slide_type": "-"
    }
   },
   "outputs": [],
   "source": [
    "t.sleep(3) \n",
    "\n",
    "browser.find_element_by_xpath('/html/body/p[3]/table[2]/tbody/tr/td/table/tbody/tr/td[1]/a/img').click()"
   ]
  },
  {
   "cell_type": "markdown",
   "metadata": {
    "slideshow": {
     "slide_type": "subslide"
    }
   },
   "source": [
    "#### - Show results in the browser"
   ]
  },
  {
   "cell_type": "code",
   "execution_count": 14,
   "metadata": {
    "slideshow": {
     "slide_type": "-"
    }
   },
   "outputs": [],
   "source": [
    "t.sleep(3)\n",
    "\n",
    "browser.find_element_by_xpath('/html/body/table[4]/tbody/tr/td[6]/a/img').click()"
   ]
  },
  {
   "cell_type": "markdown",
   "metadata": {
    "slideshow": {
     "slide_type": "slide"
    }
   },
   "source": [
    "### Get attributes\n",
    "- We will scrape attributes shown only on the first page (20 rows). If you want to scrape all results, you need to make a loop to go through the rest of the pages.\n",
    "- Attributes include: (a) the session number, (b) the name of a house, (c) the name of a meeting, (d) the number of the meeting, and (e) the date of the meeting"
   ]
  },
  {
   "cell_type": "code",
   "execution_count": null,
   "metadata": {},
   "outputs": [],
   "source": [
    "attr = browser.find_elements_by_xpath('/html/body/table[7]/tbody/tr/td[2]/table/tbody/tr/td')\n",
    "\n",
    "## create a list and put texts. results include 180 rows in this case.\n",
    "attr_list = [] \n",
    "for i in range(0,180):\n",
    "    attr_list.append(attr[i].text)\n",
    "\n",
    "## convert the list to a 20 * 9 matrix (Numpy array), then to a data frame\n",
    "df_attr = pd.DataFrame(np.reshape(attr_list, (20, 9))) \n",
    "df_attr = df_attr.iloc[:,1:6] # drop empty columns\n",
    "df_attr"
   ]
  },
  {
   "cell_type": "markdown",
   "metadata": {
    "slideshow": {
     "slide_type": "subslide"
    }
   },
   "source": [
    "### Open each meeting page and get texts"
   ]
  },
  {
   "cell_type": "code",
   "execution_count": null,
   "metadata": {
    "slideshow": {
     "slide_type": "-"
    }
   },
   "outputs": [],
   "source": [
    "text_list = []  # make an empty list\n",
    "j = 1\n",
    "for i in range(2,22):\n",
    "    browser.find_element_by_xpath('/html/body/table[7]/tbody/tr/td[2]/table/tbody/tr['+str(i)+']/td[9]/a').click() # click a meeting\n",
    "    browser.switch_to.window(browser.window_handles[j]) # switch to a new tab\n",
    "    browser.switch_to_frame(\"MAIN1\") # select the main frame\n",
    "    text_list.append(browser.find_element_by_xpath('/html/body').text) # get the element\n",
    "    browser.switch_to.window(browser.window_handles[0]) # switch back to the original tab\n",
    "    j += 1\n",
    "    t.sleep(2) # wait for 2 sec\n",
    "len(text_list)\n",
    "text_list"
   ]
  },
  {
   "cell_type": "code",
   "execution_count": null,
   "metadata": {
    "slideshow": {
     "slide_type": "subslide"
    }
   },
   "outputs": [],
   "source": [
    "df_text = pd.DataFrame(text_list) # convert the list to a data frame\n",
    "df_text.shape # check the shape of df_text\n",
    "df_text.iloc[0,0] # check the first row"
   ]
  },
  {
   "cell_type": "markdown",
   "metadata": {
    "slideshow": {
     "slide_type": "slide"
    }
   },
   "source": [
    "### Merge attributes with texts\n",
    "- We have scraped attributes and texts. Let's merge them!"
   ]
  },
  {
   "cell_type": "code",
   "execution_count": null,
   "metadata": {
    "slideshow": {
     "slide_type": "subslide"
    }
   },
   "outputs": [],
   "source": [
    "data = df_attr.join(df_text) # join texts to attributes\n",
    "data.columns = ['kai','house','m_name','gou','date','content'] # add column names\n",
    "data.shape # check the shape\n",
    "\n",
    "dta = [elem.strip().replace('\\n','') for elem in data.content] # remove \\n\n",
    "lst = [elem.strip().split('○') for elem in dta] # split per speaker\n",
    "lst\n",
    "\n",
    "## select speaches including 安倍\n",
    "abe_list = []\n",
    "for i in range(0,len(lst)):\n",
    "    abe_list.append([x for x in lst[i] if \"安倍\" in x]) \n",
    "\n",
    "abe_col = ['s' + str(x) for x in range(0,20)] # make column names\n",
    "abe_list = pd.DataFrame(abe_list, columns=abe_col) # convert the list to a data frame\n",
    "abe_list\n",
    "\n",
    "del(data['content']) # drop content variable\n",
    "\n",
    "data = pd.merge(data, abe_list,right_index=True,left_index=True) # merge abe_list\n",
    "data"
   ]
  },
  {
   "cell_type": "markdown",
   "metadata": {
    "slideshow": {
     "slide_type": "slide"
    }
   },
   "source": [
    "### Export data as a csv file\n",
    "- Note: The file size is about 430KB. "
   ]
  },
  {
   "cell_type": "code",
   "execution_count": 358,
   "metadata": {
    "slideshow": {
     "slide_type": "-"
    }
   },
   "outputs": [],
   "source": [
    "data.to_csv(\"syuuin_speech_tpp2017.csv\", encoding='cp932')"
   ]
  }
 ],
 "metadata": {
  "celltoolbar": "Slideshow",
  "kernelspec": {
   "display_name": "Python 3",
   "language": "python",
   "name": "python3"
  },
  "language_info": {
   "codemirror_mode": {
    "name": "ipython",
    "version": 3
   },
   "file_extension": ".py",
   "mimetype": "text/x-python",
   "name": "python",
   "nbconvert_exporter": "python",
   "pygments_lexer": "ipython3",
   "version": "3.6.5"
  }
 },
 "nbformat": 4,
 "nbformat_minor": 2
}

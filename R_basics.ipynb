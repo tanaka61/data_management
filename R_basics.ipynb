{
 "cells": [
  {
   "cell_type": "markdown",
   "metadata": {
    "slideshow": {
     "slide_type": "slide"
    }
   },
   "source": [
    "# Data Management (Spring/Summer 2018) at OSIPP, Osaka U\n",
    "By Shuhei Kitamura\n",
    "\n",
    "## R basics"
   ]
  },
  {
   "cell_type": "markdown",
   "metadata": {
    "slideshow": {
     "slide_type": "notes"
    }
   },
   "source": [
    "### Outline\n",
    "1. Arithmetic operation\n",
    "2. Run R scripts\n",
    "3. Variables\n",
    "    - Variable assignment\n",
    "    - Classes\n",
    "    - Concatenation\n",
    "    - Vectors\n",
    "    - Matrices\n",
    "    - Factors\n",
    "    - Data frames\n",
    "        - Get elements\n",
    "        - Change contents\n",
    "        - Computation\n",
    "        - Treat missing values\n",
    "        - Merge\n",
    "    - Lists\n",
    "7. Functions and Libraries\n",
    "8. If Statements\n",
    "9. Loops"
   ]
  },
  {
   "cell_type": "markdown",
   "metadata": {
    "slideshow": {
     "slide_type": "subslide"
    }
   },
   "source": [
    "## 1. Arithmetic operation\n",
    "- Main operators are `+`, `-`, `*`, and `/`.\n",
    "- Write `1 + 2` and execute (Shift + Enter or push \"run cell\" button). Next, do the same for `print(1 + 2)`."
   ]
  },
  {
   "cell_type": "code",
   "execution_count": 12,
   "metadata": {
    "slideshow": {
     "slide_type": "-"
    }
   },
   "outputs": [
    {
     "data": {
      "text/html": [
       "3"
      ],
      "text/latex": [
       "3"
      ],
      "text/markdown": [
       "3"
      ],
      "text/plain": [
       "[1] 3"
      ]
     },
     "metadata": {},
     "output_type": "display_data"
    },
    {
     "name": "stdout",
     "output_type": "stream",
     "text": [
      "[1] 3\n"
     ]
    }
   ],
   "source": [
    "1+2\n",
    "print(1+2)"
   ]
  },
  {
   "cell_type": "markdown",
   "metadata": {
    "slideshow": {
     "slide_type": "subslide"
    }
   },
   "source": [
    "- If you want to write a comment, use #. Write `# print(1 + 2)` and execute."
   ]
  },
  {
   "cell_type": "code",
   "execution_count": 13,
   "metadata": {
    "slideshow": {
     "slide_type": "-"
    }
   },
   "outputs": [],
   "source": [
    "#print(1+2)"
   ]
  },
  {
   "cell_type": "markdown",
   "metadata": {
    "slideshow": {
     "slide_type": "subslide"
    }
   },
   "source": [
    "- Play with `+`, `-`, `*`, and `/`."
   ]
  },
  {
   "cell_type": "code",
   "execution_count": 14,
   "metadata": {
    "slideshow": {
     "slide_type": "-"
    }
   },
   "outputs": [
    {
     "data": {
      "text/html": [
       "16"
      ],
      "text/latex": [
       "16"
      ],
      "text/markdown": [
       "16"
      ],
      "text/plain": [
       "[1] 16"
      ]
     },
     "metadata": {},
     "output_type": "display_data"
    },
    {
     "data": {
      "text/html": [
       "9634816"
      ],
      "text/latex": [
       "9634816"
      ],
      "text/markdown": [
       "9634816"
      ],
      "text/plain": [
       "[1] 9634816"
      ]
     },
     "metadata": {},
     "output_type": "display_data"
    }
   ],
   "source": [
    "4*4\n",
    "3104*3104\n"
   ]
  },
  {
   "cell_type": "markdown",
   "metadata": {
    "slideshow": {
     "slide_type": "subslide"
    }
   },
   "source": [
    "- `^` or `**` for power. Power is right associative (= `**` in Python). How do you calculate $-2^3$, $3^{3^3}$, and $\\frac{3}{3^3}$?\n",
    "- Note: `^` does not calculate power in Python."
   ]
  },
  {
   "cell_type": "code",
   "execution_count": 15,
   "metadata": {
    "slideshow": {
     "slide_type": "-"
    }
   },
   "outputs": [
    {
     "data": {
      "text/html": [
       "7625597484987"
      ],
      "text/latex": [
       "7625597484987"
      ],
      "text/markdown": [
       "7625597484987"
      ],
      "text/plain": [
       "[1] 7.625597e+12"
      ]
     },
     "metadata": {},
     "output_type": "display_data"
    }
   ],
   "source": [
    "3^3^3"
   ]
  },
  {
   "cell_type": "markdown",
   "metadata": {
    "slideshow": {
     "slide_type": "subslide"
    }
   },
   "source": [
    "- `%%` for modulus and `%/%` for floor division. What is the outcome of `7 %% 2`? How about `7 %/% 2`?\n",
    "    - `%` (modulus in Python) and `//` (floor division in Python) do not work in R.\n",
    "    - Similarly, these R operators do not work in Python."
   ]
  },
  {
   "cell_type": "code",
   "execution_count": 16,
   "metadata": {
    "slideshow": {
     "slide_type": "-"
    }
   },
   "outputs": [
    {
     "data": {
      "text/html": [
       "1"
      ],
      "text/latex": [
       "1"
      ],
      "text/markdown": [
       "1"
      ],
      "text/plain": [
       "[1] 1"
      ]
     },
     "metadata": {},
     "output_type": "display_data"
    }
   ],
   "source": [
    "7%%2"
   ]
  },
  {
   "cell_type": "markdown",
   "metadata": {
    "slideshow": {
     "slide_type": "slide"
    }
   },
   "source": [
    "## 2. Run R scripts\n",
    "<!--\n",
    " - Launch a text editor (e.g. Visual Studio Code). Create a new file.\n",
    " - Type `print(1 + 2)` in line 1, and `print(\"Hello world!\")` in line 2.\n",
    " - Save the file in the local repo. Type \"myR\" in the file name, and set R for the file type. The file extension becomes \".r\".\n",
    "-->\n",
    "\n",
    "- Suppose that you already have an R file \"myR.R\" in your local repository.\n",
    "- Set the current directory by typing: `setwd(\"C:/path_to_your_local_repo)\"` where you need to specify the path to your local repository. \n",
    "    - You will get an error message if you use a backslash instead of a slash."
   ]
  },
  {
   "cell_type": "code",
   "execution_count": 17,
   "metadata": {
    "slideshow": {
     "slide_type": "-"
    }
   },
   "outputs": [],
   "source": [
    "setwd(\"C:/\")"
   ]
  },
  {
   "cell_type": "markdown",
   "metadata": {
    "slideshow": {
     "slide_type": "subslide"
    }
   },
   "source": [
    "- Run the R script by typing: `source(\"myR.R\")`."
   ]
  },
  {
   "cell_type": "code",
   "execution_count": 18,
   "metadata": {
    "slideshow": {
     "slide_type": "-"
    }
   },
   "outputs": [
    {
     "name": "stderr",
     "output_type": "stream",
     "text": [
      "Warning message in file(filename, \"r\", encoding = encoding):\n",
      "\" ファイル 'myR.R' を開くことができません: No such file or directory \""
     ]
    },
    {
     "ename": "ERROR",
     "evalue": "Error in file(filename, \"r\", encoding = encoding):  コネクションを開くことができません \n",
     "output_type": "error",
     "traceback": [
      "Error in file(filename, \"r\", encoding = encoding):  コネクションを開くことができません \nTraceback:\n",
      "1. source(\"myR.R\")",
      "2. file(filename, \"r\", encoding = encoding)"
     ]
    }
   ],
   "source": [
    "source(\"myR.R\")"
   ]
  },
  {
   "cell_type": "markdown",
   "metadata": {
    "slideshow": {
     "slide_type": "subslide"
    }
   },
   "source": [
    "- Let's push the new file to your remote repository. Start a Git GUI (e.g. SoureTree).\n",
    "- Stage \"myR.R\". Then press Commit.\n",
    "- Write a commit message (e.g. \"Create myR.R.\").\n",
    "- Commit and push.\n",
    "- Check the remote repository."
   ]
  },
  {
   "cell_type": "markdown",
   "metadata": {
    "slideshow": {
     "slide_type": "subslide"
    }
   },
   "source": [
    "## 3. Variables\n",
    "- You can assign an object to a variable. An object in R is data, which does not contain any method."
   ]
  },
  {
   "cell_type": "markdown",
   "metadata": {
    "slideshow": {
     "slide_type": "subslide"
    }
   },
   "source": [
    "#### - Variable assignment\n",
    "\n",
    "- You use `<-` or `->` in R instead of `=` in Python. (You can also use `=` in R, but uncommon.)\n",
    "```python\n",
    "myvar <- \"Hello world!\"\n",
    "print(myvar)\n",
    "```\n",
    "is equivalent to:\n",
    "```python\n",
    "print(\"Hello world!\")\n",
    "```\n",
    "- In Jupyter Notebook, you can use `Alt & -` to insert `<-` and spaces. (See Keyboard Shortcuts in the Help tab above.)\n",
    "- You can also use `( <- )` to assign and print at once."
   ]
  },
  {
   "cell_type": "code",
   "execution_count": null,
   "metadata": {
    "slideshow": {
     "slide_type": "subslide"
    }
   },
   "outputs": [],
   "source": [
    "myvar <- \"Hello world!\"\n",
    "print(myvar)\n",
    "\"Hello world!\" -> myvar\n",
    "print(myvar)\n",
    "(myvar <- \"Hello world!\")\n",
    "\n"
   ]
  },
  {
   "cell_type": "markdown",
   "metadata": {
    "slideshow": {
     "slide_type": "subslide"
    }
   },
   "source": [
    "#### - Classes\n",
    "- Types in Python are called classes in R. They are: numerics, integers, characters, logical, matrices, arrays, etc.\n",
    "- For logical you should write `TRUE` or `FALSE`, not `True` or `False` as in Python.\n",
    "- R is also case sensitive!\n",
    "- You use `class()` to check the class of data. (`type()` in Python.)\n",
    "    - Alternatively, you can check the class using `is.numeric()`, `is.integer()`, `is.character()`, and `is.logical()`."
   ]
  },
  {
   "cell_type": "code",
   "execution_count": null,
   "metadata": {
    "slideshow": {
     "slide_type": "subslide"
    }
   },
   "outputs": [],
   "source": [
    "mynum1 <- 1 # this is not an integer!\n",
    "mynum2 <- 1.0 # .0 is not printed.\n",
    "mynum3 <- 1.5\n",
    "mychar <- \"Hello\"\n",
    "mylogic <- TRUE\n",
    "\n",
    "print(mynum1)\n",
    "print(class(mynum1))\n",
    "print(mynum2)\n",
    "print(class(mynum2))\n",
    "print(mynum3)\n",
    "print(class(mynum3))\n",
    "print(class(mychar))\n",
    "print(class(mylogic))\n",
    "print(is.integer(mynum1))"
   ]
  },
  {
   "cell_type": "markdown",
   "metadata": {
    "slideshow": {
     "slide_type": "subslide"
    }
   },
   "source": [
    "- How you write an integer in R is different from how you do it in Python. You need to put `L` after a value."
   ]
  },
  {
   "cell_type": "code",
   "execution_count": null,
   "metadata": {
    "slideshow": {
     "slide_type": "-"
    }
   },
   "outputs": [],
   "source": [
    "myint <- 1L\n",
    "mynum <- 1\n",
    "print(class(myint))\n",
    "print(class(mynum))"
   ]
  },
  {
   "cell_type": "markdown",
   "metadata": {
    "slideshow": {
     "slide_type": "subslide"
    }
   },
   "source": [
    "- Logical is the same as booleans in Python."
   ]
  },
  {
   "cell_type": "code",
   "execution_count": null,
   "metadata": {
    "slideshow": {
     "slide_type": "-"
    }
   },
   "outputs": [],
   "source": [
    "print(1 + 2 == 3)\n",
    "print(class(1 + 2 == 3))"
   ]
  },
  {
   "cell_type": "markdown",
   "metadata": {
    "slideshow": {
     "slide_type": "subslide"
    }
   },
   "source": [
    "- If a string includes a quote (e.g. `\"This is a \"quote\"\"`), it returns an error. Use `'This is a \"quote\"'` instead."
   ]
  },
  {
   "cell_type": "code",
   "execution_count": null,
   "metadata": {
    "slideshow": {
     "slide_type": "-"
    }
   },
   "outputs": [],
   "source": [
    "#print(\"This is a \"quote\".\")　# This returns an error.\n",
    "print('This is a \"quote\".')"
   ]
  },
  {
   "cell_type": "markdown",
   "metadata": {
    "slideshow": {
     "slide_type": "subslide"
    }
   },
   "source": [
    "- To change classes, you can use `as.numeric()`, `as.integer()`, `as.character()`, and `as.logical()`."
   ]
  },
  {
   "cell_type": "code",
   "execution_count": null,
   "metadata": {
    "slideshow": {
     "slide_type": "-"
    }
   },
   "outputs": [],
   "source": [
    "mynum <- 1\n",
    "print(as.character(mynum))\n",
    "print(class(as.character(mynum)))\n",
    "mynum <- 1\n",
    "print(as.integer(mynum))"
   ]
  },
  {
   "cell_type": "markdown",
   "metadata": {
    "slideshow": {
     "slide_type": "subslide"
    }
   },
   "source": [
    "- `FALSE` is `0` and `0` is `FALSE`. `TRUE` is `1` and `1` is `TRUE`.\n",
    "    - The other numerics and integers are also `TRUE`. \n",
    "- Characters cannot be converted as logical. (Recall that strings are `True` in Python.)"
   ]
  },
  {
   "cell_type": "code",
   "execution_count": null,
   "metadata": {
    "slideshow": {
     "slide_type": "subslide"
    }
   },
   "outputs": [],
   "source": [
    "print(as.numeric(FALSE))\n",
    "print(as.logical(0))\n",
    "print(as.numeric(TRUE))\n",
    "print(as.logical(1))\n",
    "print(as.logial(\"Hello!\")) # This returns an error."
   ]
  },
  {
   "cell_type": "markdown",
   "metadata": {
    "slideshow": {
     "slide_type": "subslide"
    }
   },
   "source": [
    "- The class of `NULL` is NULL (like `None` in Python, whose type is `NoneType`).\n",
    "- `NaN` (Not a Number) is numeric, and `NA` (Not Available) is logical.\n",
    "    - Python (pandas) only has `NaN`, which is a missing value."
   ]
  },
  {
   "cell_type": "code",
   "execution_count": null,
   "metadata": {},
   "outputs": [],
   "source": [
    "print(class(NULL))\n",
    "print(class(NaN))\n",
    "print(class(NA))\n",
    "print(as.logical(NaN)) # you can convert NaN to logical\n",
    "print(as.numeric(NA)) # but you cannot convert NA to numeric..."
   ]
  },
  {
   "cell_type": "markdown",
   "metadata": {
    "slideshow": {
     "slide_type": "subslide"
    }
   },
   "source": [
    "#### - Concatenation\n",
    "- While in Python you could write `\"Hello\" + \" World!\"` for concatenating strings, you cannot use `+` in the similar way in R.\n",
    "- Instead, you need to use `paste()`. With `paste`, you can also concatenate characters with other classes.\n",
    "- Similarly, you cannot use `*` as `\"Hello\" * 2` in R either."
   ]
  },
  {
   "cell_type": "code",
   "execution_count": null,
   "metadata": {
    "slideshow": {
     "slide_type": "-"
    }
   },
   "outputs": [],
   "source": [
    "# print(\"Hello\" + \"World!\") # This returns an error.\n",
    "myvar1 <- \"Hello\"\n",
    "myvar2 <- \" World!\"\n",
    "paste(myvar1, myvar2, sep = \"\")\n",
    "\n",
    "savings = 100\n",
    "print(paste(\"I have \", savings, \" USD in my account.\", sep = \"\"))"
   ]
  },
  {
   "cell_type": "markdown",
   "metadata": {
    "slideshow": {
     "slide_type": "subslide"
    }
   },
   "source": [
    "#### - Vectors\n",
    "- The vector is one dimensional array (like `array` in NumPy). `c()` is used for vectors.\n",
    "- The vector is not a distinguished class, but `numeric`, `character`, `logical`, etc. are the classes of vectors.\n",
    "- Vectors can contain any classes (like `array` in NumPy).\n",
    "- You can also use `c()` in `print()` to show multiple outputs at once (like `print( , )` in Python)."
   ]
  },
  {
   "cell_type": "code",
   "execution_count": null,
   "metadata": {
    "slideshow": {
     "slide_type": "-"
    }
   },
   "outputs": [],
   "source": [
    "myvec <- c(\"a\", 1, TRUE)\n",
    "print(myvec)\n",
    "myvec1 <- c(1,2)\n",
    "myvec2 <- c(3,4)\n",
    "print(c(myvec1, myvec2))"
   ]
  },
  {
   "cell_type": "markdown",
   "metadata": {
    "slideshow": {
     "slide_type": "subslide"
    }
   },
   "source": [
    "- Some useful ways to make a vector.\n",
    "    - `:` to make a vector of numerics or integers.\n",
    "    - `numeric()` to make a vector of zeros (as numeric).\n",
    "        - `integer()` to make a vector of zeros (as integer).\n",
    "    - `seq()` to make a vector of numerics or integers.\n",
    "    - `rep()` to make a vector. Most classes can be used."
   ]
  },
  {
   "cell_type": "code",
   "execution_count": null,
   "metadata": {
    "scrolled": true,
    "slideshow": {
     "slide_type": "subslide"
    }
   },
   "outputs": [],
   "source": [
    "myvec1 <- -1:4\n",
    "print(myvec1)\n",
    "print(numeric(5))\n",
    "print(seq(-1,4,by=2)) \n",
    "print(rep(\"Hello\",4)) \n",
    "#mylist <- list(var1 = 1:10, var2 = \"Hello\")\n",
    "#print(rep(mylist, 5)) "
   ]
  },
  {
   "cell_type": "markdown",
   "metadata": {
    "slideshow": {
     "slide_type": "subslide"
    }
   },
   "source": [
    "- To get a length of a vector, use `length()`."
   ]
  },
  {
   "cell_type": "code",
   "execution_count": null,
   "metadata": {
    "slideshow": {
     "slide_type": "-"
    }
   },
   "outputs": [],
   "source": [
    "myvec <- 1:10\n",
    "print(length(myvec))"
   ]
  },
  {
   "cell_type": "markdown",
   "metadata": {
    "slideshow": {
     "slide_type": "subslide"
    }
   },
   "source": [
    "- The class of a vector depends on its elements. If a vector contains multiple classes, the highest one is chosen.\n",
    "    - Classes are ordered: character > complex > numeric > logical > NULL.\n",
    "- The class of an empty vector is `NULL`."
   ]
  },
  {
   "cell_type": "code",
   "execution_count": null,
   "metadata": {
    "slideshow": {
     "slide_type": "-"
    }
   },
   "outputs": [],
   "source": [
    "myvec1 <- c(1,2)\n",
    "print(class(myvec1))\n",
    "myvec2 <- c(1,\"Hello\",TRUE)\n",
    "print(myvec2)\n",
    "print(class(myvec2))\n",
    "myvec3 <- c(1,TRUE)\n",
    "print(class(myvec3))\n",
    "print(class(c())) # an empty vector"
   ]
  },
  {
   "cell_type": "markdown",
   "metadata": {
    "slideshow": {
     "slide_type": "subslide"
    }
   },
   "source": [
    "- You can assign (column) names to a vector using `names()`."
   ]
  },
  {
   "cell_type": "code",
   "execution_count": null,
   "metadata": {
    "slideshow": {
     "slide_type": "-"
    }
   },
   "outputs": [],
   "source": [
    "myvec <- c(1,10)\n",
    "print(myvec)\n",
    "names(myvec) <- c(\"Monday\",\"Tuesday\")\n",
    "print(myvec)\n",
    "\n",
    "myvec1 <- c(1,2,3,4,5,6,7)\n",
    "names(myvec1) <- c(\"Monday\",\"Tuesday\",\"Wednesday\",\"Thursday\",\"Friday\",\"Saturday\",\"Sunday\")\n",
    "print(myvec1)\n",
    "print(myvec1[2])\n",
    "print(myvec1[myvec1 >3])"
   ]
  },
  {
   "cell_type": "markdown",
   "metadata": {
    "slideshow": {
     "slide_type": "subslide"
    }
   },
   "source": [
    "- To subset a vector, use `[]` as in Python. However, the index in R starts from one, not zero!\n",
    "- You can also use vectors, names, and relational operators for subsetting a vector."
   ]
  },
  {
   "cell_type": "code",
   "execution_count": null,
   "metadata": {
    "slideshow": {
     "slide_type": "-"
    }
   },
   "outputs": [],
   "source": [
    "myvec <- c(1,10,100,1000)\n",
    "names(myvec) <- c(\"col1\",\"col2\",\"col3\",\"col4\") # assign column names\n",
    "print(myvec)\n",
    "print(myvec[2])\n",
    "print(myvec[c(2,3)])\n",
    "print(myvec[c(-2,-3)])#exclusion of the columns\n",
    "print(myvec[c(\"col3\",\"col4\")])\n",
    "print(myvec[myvec > 100])"
   ]
  },
  {
   "cell_type": "markdown",
   "metadata": {
    "slideshow": {
     "slide_type": "subslide"
    }
   },
   "source": [
    "- Other useful operators are: `is.na()`, `is.null()`, `is.nan()`, and `is.infinite()`.\n",
    "    - For example, you can substite NA with a value such as zero using `is.na()`."
   ]
  },
  {
   "cell_type": "code",
   "execution_count": null,
   "metadata": {
    "slideshow": {
     "slide_type": "-"
    }
   },
   "outputs": [],
   "source": [
    "myvec <- c(NA,10,100,Inf)\n",
    "print(myvec[!is.na(myvec)]) # exclude NA\n",
    "print(myvec[!is.infinite(myvec)]) # exclude infinity\n",
    "print(myvec[!is.na(myvec) & !is.infinite(myvec)]) # exclude NA and infinity\n",
    "\n",
    "## replace NA with 0\n",
    "print(myvec)\n",
    "myvec[is.na(myvec)] <- 0\n",
    "print(myvec)\n",
    "\n",
    "myvec1 <- c(1,2,3,4,5,NA,7,8,9)\n",
    "print(myvec1)\n",
    "myvec1[is.na(myvec1)] <- 6\n",
    "print(myvec1)"
   ]
  },
  {
   "cell_type": "markdown",
   "metadata": {
    "slideshow": {
     "slide_type": "subslide"
    }
   },
   "source": [
    "- To slice a vector, use `[:]`.\n",
    "    - You cannot write like `[0:]` without writing the end.\n",
    "    - The minus sign means exclusion, not the index from right (unlike Python)."
   ]
  },
  {
   "cell_type": "code",
   "execution_count": null,
   "metadata": {
    "slideshow": {
     "slide_type": "-"
    }
   },
   "outputs": [],
   "source": [
    "myvec <- c(1,10,100,1000)\n",
    "print(myvec[1:2])\n",
    "print(myvec[-2:-3])"
   ]
  },
  {
   "cell_type": "markdown",
   "metadata": {
    "slideshow": {
     "slide_type": "subslide"
    }
   },
   "source": [
    "- Vectors can be used for calculation.\n",
    "    - `sum()` to compute the sum for each index, which is similar to `+` for the Numpy array.\n",
    "    - `mean()` to compute the mean for each index."
   ]
  },
  {
   "cell_type": "code",
   "execution_count": null,
   "metadata": {
    "slideshow": {
     "slide_type": "-"
    }
   },
   "outputs": [],
   "source": [
    "x <- c(0,1)\n",
    "y <- c(2,3)\n",
    "print(c(sum(x), sum(y)))\n",
    "print(c(mean(x), mean(y)))\n",
    "print(x + y)\n",
    "print(x * y)"
   ]
  },
  {
   "cell_type": "markdown",
   "metadata": {
    "slideshow": {
     "slide_type": "subslide"
    }
   },
   "source": [
    "#### - Matrices\n",
    "- The matrix is one of the classes.\n",
    "- The matrix is a two dimensional array (like `ndarray` in NumPy). You can specify the number of columns and rows, and the order of filling in the matrix."
   ]
  },
  {
   "cell_type": "code",
   "execution_count": null,
   "metadata": {
    "slideshow": {
     "slide_type": "-"
    }
   },
   "outputs": [],
   "source": [
    "mymat1 <- matrix(c(1,2,3,4),nrow=2,ncol=2) # using a vector, create a 2 by 2 matrix\n",
    "print(mymat1)\n",
    "print(class(mymat1))\n",
    "mymat1 <- matrix(c(1,2,3,4),byrow=TRUE,nrow=2,ncol=2) # the same is above, but the matrix is filled by row\n",
    "print(mymat1)\n",
    "mymat3 <- matrix(1:9,byrow=TRUE,nrow=3)\n",
    "print(mymat3)"
   ]
  },
  {
   "cell_type": "markdown",
   "metadata": {
    "slideshow": {
     "slide_type": "subslide"
    }
   },
   "source": [
    "- Alternatively, you can apply `cbind()` and `rbind()` to make a matrix."
   ]
  },
  {
   "cell_type": "code",
   "execution_count": null,
   "metadata": {
    "slideshow": {
     "slide_type": "-"
    }
   },
   "outputs": [],
   "source": [
    "t_avg <- c(60,170)\n",
    "c_avg <- c(62,175)\n",
    "mymat1 <- cbind(t_avg,c_avg)\n",
    "print(mymat1)\n",
    "print(class(mymat1))\n",
    "mymat2 <- rbind(t_avg,c_avg)\n",
    "print(mymat2)"
   ]
  },
  {
   "cell_type": "markdown",
   "metadata": {
    "slideshow": {
     "slide_type": "subslide"
    }
   },
   "source": [
    "- The matrix can store only one class. If there are multiple classes, the highest one is chosen.\n",
    "    - Recall that classes are ordered: character > complex > numeric > logical > NULL. \n",
    "- But the class of the matrix is still matrix (unlike the vector)"
   ]
  },
  {
   "cell_type": "code",
   "execution_count": null,
   "metadata": {
    "slideshow": {
     "slide_type": "-"
    }
   },
   "outputs": [],
   "source": [
    "x <- c(\"a\",\"b\")\n",
    "y <- c(2,3)\n",
    "mymat <- cbind(x,y) # character > numeric\n",
    "print(mymat)\n",
    "print(class(mymat[2,2])) # the class of an element in the matrix\n",
    "print(class(mymat)) # the class of the matrix"
   ]
  },
  {
   "cell_type": "markdown",
   "metadata": {
    "slideshow": {
     "slide_type": "subslide"
    }
   },
   "source": [
    "- Use `colnames()` and `rownames()` to add names for columns and rows, respectively."
   ]
  },
  {
   "cell_type": "code",
   "execution_count": null,
   "metadata": {
    "slideshow": {
     "slide_type": "-"
    }
   },
   "outputs": [],
   "source": [
    "t_avg <- c(60,170)\n",
    "c_avg <- c(62,175)\n",
    "cpop <- cbind(t_avg,c_avg)\n",
    "rownames(cpop) <- c(\"Weight\",\"Height\")\n",
    "colnames(cpop) <- c(\"Treatment\",\"Control\")\n",
    "print(cpop)"
   ]
  },
  {
   "cell_type": "markdown",
   "metadata": {
    "slideshow": {
     "slide_type": "subslide"
    }
   },
   "source": [
    "- `colSums()` and `rowSums()` for calculating sums for each column and row, respectively.\n",
    "    - Instead, `sum()` compute sums for a specific column or row or the sum of all elements in a matrix.\n",
    "- `colMeans()` and `rowMeans()` for calculating means for each column and row, respectively.\n",
    "    - Instead, `mean()` compute means for a specific column, but not a row."
   ]
  },
  {
   "cell_type": "code",
   "execution_count": null,
   "metadata": {
    "slideshow": {
     "slide_type": "subslide"
    }
   },
   "outputs": [],
   "source": [
    "t_avg <- c(60,170)\n",
    "c_avg <- c(62,175)\n",
    "cpop <- cbind(t_avg,c_avg)\n",
    "rownames(cpop) <- c(\"Weight\",\"Height\")\n",
    "colnames(cpop) <- c(\"Treatment\",\"Control\")\n",
    "print(cpop)\n",
    "print(c(colSums(cpop),rowSums(cpop)))\n",
    "print(sum(cpop))\n",
    "print(c(colMeans(cpop),rowMeans(cpop)))"
   ]
  },
  {
   "cell_type": "markdown",
   "metadata": {
    "slideshow": {
     "slide_type": "subslide"
    }
   },
   "source": [
    "- To subset a matrix, you often use `[row numbers, column numbers]`.\n",
    "- You can also combine `:`, vectors, names, and relational operators."
   ]
  },
  {
   "cell_type": "code",
   "execution_count": 19,
   "metadata": {
    "slideshow": {
     "slide_type": "subslide"
    }
   },
   "outputs": [
    {
     "name": "stdout",
     "output_type": "stream",
     "text": [
      "       Treatment Control  Mean\n",
      "Weight        60      62  61.0\n",
      "Height       170     175 172.5\n",
      "Obs.          50     100    NA\n",
      "[1] 60\n",
      "Treatment   Control \n",
      "       60        62 \n",
      "Control    Mean \n",
      "     62      61 \n",
      "[1] 60\n",
      "Treatment   Control      Mean \n",
      "       60        62        61 \n",
      "[1] 60 50 62 61 NA\n",
      "[1] 50\n",
      "[1] 170  50\n"
     ]
    }
   ],
   "source": [
    "x <- c(60,170,50)\n",
    "y <- c(62,175,100)\n",
    "z <- c(61.0,172.5,NA)\n",
    "dims <- list(c(\"Weight\",\"Height\",\"Obs.\"),c(\"Treatment\",\"Control\",\"Mean\"))\n",
    "cpop <- matrix(c(x,y,z),ncol=3,dimnames=dims) # you can add column and row names at once\n",
    "print(cpop)\n",
    "\n",
    "print(cpop[1,1]) # first row, first column\n",
    "print(cpop[1,1:2]) # first two columns in the first row\n",
    "print(cpop[1,c(2,3)]) # second and third column in the first row\n",
    "print(cpop[1,\"Treatment\"]) # \"Treatment\" column in the first row\n",
    "print(cpop[1,]) # all elements in the first row\n",
    "\n",
    "print(cpop[cpop < 100]) # all elements less than 100\n",
    "\n",
    "# These are rarely used.\n",
    "print(cpop[3]) # the third element\n",
    "print(cpop[c(2, 3)]) # the second and the third element"
   ]
  },
  {
   "cell_type": "markdown",
   "metadata": {
    "slideshow": {
     "slide_type": "subslide"
    }
   },
   "source": [
    "- Matrix calculation allows `+`, `-`, `*`, and `/`. The calculation applies to all elements in the matrix."
   ]
  },
  {
   "cell_type": "code",
   "execution_count": 20,
   "metadata": {
    "slideshow": {
     "slide_type": "-"
    }
   },
   "outputs": [
    {
     "name": "stdout",
     "output_type": "stream",
     "text": [
      "     [,1] [,2] [,3]\n",
      "[1,]    1    2    3\n",
      "[2,]    4    5    6\n",
      "[3,]    7    8    9\n",
      "     [,1] [,2] [,3]\n",
      "[1,]    2    4    6\n",
      "[2,]    8   10   12\n",
      "[3,]   14   16   18\n",
      "     [,1] [,2] [,3]\n",
      "[1,]    2    4    6\n",
      "[2,]    8   10   12\n",
      "[3,]   14   16   18\n"
     ]
    }
   ],
   "source": [
    "mymat <- matrix(1:9,byrow=TRUE,nrow=3)\n",
    "print(mymat)\n",
    "print(mymat + mymat)\n",
    "print(mymat * 2)"
   ]
  },
  {
   "cell_type": "markdown",
   "metadata": {
    "slideshow": {
     "slide_type": "subslide"
    }
   },
   "source": [
    "#### - Factors\n",
    "- The factor is one of the classes.\n",
    "- The factor stores characters.\n",
    "    - For example, a vector `c(\"Male\", \"Female\", \"Male\")` contains two factor levels `\"Male\"` and `\"Female\"`. `factor()` encodes the vector as a factor.\n",
    "- You can define the order of factor levels."
   ]
  },
  {
   "cell_type": "code",
   "execution_count": 21,
   "metadata": {
    "slideshow": {
     "slide_type": "subslide"
    }
   },
   "outputs": [
    {
     "name": "stdout",
     "output_type": "stream",
     "text": [
      "[1] High   Low    Medium Low   \n",
      "Levels: Low < Medium < High\n",
      "[1] \"ordered\" \"factor\" \n",
      "[1] FALSE\n",
      "   Low Medium   High \n",
      "     2      1      1 \n",
      "[1] Elephant Giraffe  Donkey   Horse   \n",
      "Levels: Donkey Elephant Giraffe Horse\n",
      "[1] \"factor\"\n",
      "  Donkey Elephant  Giraffe    Horse \n",
      "       1        1        1        1 \n"
     ]
    }
   ],
   "source": [
    "# ordinal categorical variable\n",
    "temp <- c(\"High\",\"Low\",\"Medium\",\"Low\")\n",
    "factor_temp <- factor(temp,levels=c(\"Low\",\"Medium\",\"High\"),ordered=TRUE) # put levels from \"Low\", \"Medium\", to \"High\", where \"Low\" is the smallest\n",
    "print(factor_temp)\n",
    "print(class(factor_temp))\n",
    "print(factor_temp[1] < factor_temp[2]) # check if \"Low\" is larger than \"High\"\n",
    "print(summary(factor_temp)) # count the number of each element\n",
    "\n",
    "# nominal categorical variable\n",
    "animals <- c(\"Elephant\",\"Giraffe\",\"Donkey\",\"Horse\")\n",
    "factor_animals <- factor(animals)\n",
    "print(factor_animals)\n",
    "print(class(factor_animals))\n",
    "# print(factor_animals[1] < factor_animals[2]) # this returns an error.\n",
    "print(summary(factor_animals))"
   ]
  },
  {
   "cell_type": "markdown",
   "metadata": {
    "slideshow": {
     "slide_type": "subslide"
    }
   },
   "source": [
    "- It is possible to use any other labels for factor levels."
   ]
  },
  {
   "cell_type": "code",
   "execution_count": 22,
   "metadata": {},
   "outputs": [
    {
     "name": "stdout",
     "output_type": "stream",
     "text": [
      "[1] Male   Female Female Male   Male  \n",
      "Levels: Female Male\n"
     ]
    }
   ],
   "source": [
    "gender <- c(\"M\",\"F\",\"F\",\"M\",\"M\")\n",
    "factor_gender <- factor(gender) \n",
    "levels(factor_gender) <- c(\"Female\",\"Male\") # factors levels are stored as \"M\" for \"Male\" and \"F\" for \"Female\". Since R assigns characters alphabetically, the order must be Female, Male, not Male, Female\n",
    "print(factor_gender)"
   ]
  },
  {
   "cell_type": "markdown",
   "metadata": {
    "slideshow": {
     "slide_type": "subslide"
    }
   },
   "source": [
    "#### - Data frames\n",
    "- The data frame is one of the classes.\n",
    "- Recall that vectors and matrices can store only one class. Data frames allow you to store multiple classes."
   ]
  },
  {
   "cell_type": "code",
   "execution_count": 23,
   "metadata": {
    "slideshow": {
     "slide_type": "-"
    }
   },
   "outputs": [
    {
     "name": "stdout",
     "output_type": "stream",
     "text": [
      "[1] \"data.frame\"\n",
      "                     mpg cyl  disp  hp drat    wt  qsec vs am gear carb\n",
      "Mazda RX4           21.0   6 160.0 110 3.90 2.620 16.46  0  1    4    4\n",
      "Mazda RX4 Wag       21.0   6 160.0 110 3.90 2.875 17.02  0  1    4    4\n",
      "Datsun 710          22.8   4 108.0  93 3.85 2.320 18.61  1  1    4    1\n",
      "Hornet 4 Drive      21.4   6 258.0 110 3.08 3.215 19.44  1  0    3    1\n",
      "Hornet Sportabout   18.7   8 360.0 175 3.15 3.440 17.02  0  0    3    2\n",
      "Valiant             18.1   6 225.0 105 2.76 3.460 20.22  1  0    3    1\n",
      "Duster 360          14.3   8 360.0 245 3.21 3.570 15.84  0  0    3    4\n",
      "Merc 240D           24.4   4 146.7  62 3.69 3.190 20.00  1  0    4    2\n",
      "Merc 230            22.8   4 140.8  95 3.92 3.150 22.90  1  0    4    2\n",
      "Merc 280            19.2   6 167.6 123 3.92 3.440 18.30  1  0    4    4\n",
      "Merc 280C           17.8   6 167.6 123 3.92 3.440 18.90  1  0    4    4\n",
      "Merc 450SE          16.4   8 275.8 180 3.07 4.070 17.40  0  0    3    3\n",
      "Merc 450SL          17.3   8 275.8 180 3.07 3.730 17.60  0  0    3    3\n",
      "Merc 450SLC         15.2   8 275.8 180 3.07 3.780 18.00  0  0    3    3\n",
      "Cadillac Fleetwood  10.4   8 472.0 205 2.93 5.250 17.98  0  0    3    4\n",
      "Lincoln Continental 10.4   8 460.0 215 3.00 5.424 17.82  0  0    3    4\n",
      "Chrysler Imperial   14.7   8 440.0 230 3.23 5.345 17.42  0  0    3    4\n",
      "Fiat 128            32.4   4  78.7  66 4.08 2.200 19.47  1  1    4    1\n",
      "Honda Civic         30.4   4  75.7  52 4.93 1.615 18.52  1  1    4    2\n",
      "Toyota Corolla      33.9   4  71.1  65 4.22 1.835 19.90  1  1    4    1\n",
      "Toyota Corona       21.5   4 120.1  97 3.70 2.465 20.01  1  0    3    1\n",
      "Dodge Challenger    15.5   8 318.0 150 2.76 3.520 16.87  0  0    3    2\n",
      "AMC Javelin         15.2   8 304.0 150 3.15 3.435 17.30  0  0    3    2\n",
      "Camaro Z28          13.3   8 350.0 245 3.73 3.840 15.41  0  0    3    4\n",
      "Pontiac Firebird    19.2   8 400.0 175 3.08 3.845 17.05  0  0    3    2\n",
      "Fiat X1-9           27.3   4  79.0  66 4.08 1.935 18.90  1  1    4    1\n",
      "Porsche 914-2       26.0   4 120.3  91 4.43 2.140 16.70  0  1    5    2\n",
      "Lotus Europa        30.4   4  95.1 113 3.77 1.513 16.90  1  1    5    2\n",
      "Ford Pantera L      15.8   8 351.0 264 4.22 3.170 14.50  0  1    5    4\n",
      "Ferrari Dino        19.7   6 145.0 175 3.62 2.770 15.50  0  1    5    6\n",
      "Maserati Bora       15.0   8 301.0 335 3.54 3.570 14.60  0  1    5    8\n",
      "Volvo 142E          21.4   4 121.0 109 4.11 2.780 18.60  1  1    4    2\n"
     ]
    }
   ],
   "source": [
    "print(class(mtcars)) # mtcars is built-in data\n",
    "print(mtcars)\n",
    "help(mtcars)"
   ]
  },
  {
   "cell_type": "markdown",
   "metadata": {
    "slideshow": {
     "slide_type": "subslide"
    }
   },
   "source": [
    "- To get the structure of a data frame, use `str()`.\n",
    "- To get dimensions of a data frame, use `dim()`. (The command is similar to `.shape` in Python.)\n",
    "- You can use `lengths()` for the number of elements in each column.\n",
    "    - `length()` (without s) is for a specific column."
   ]
  },
  {
   "cell_type": "code",
   "execution_count": 24,
   "metadata": {
    "slideshow": {
     "slide_type": "-"
    }
   },
   "outputs": [
    {
     "name": "stdout",
     "output_type": "stream",
     "text": [
      "'data.frame':\t32 obs. of  11 variables:\n",
      " $ mpg : num  21 21 22.8 21.4 18.7 18.1 14.3 24.4 22.8 19.2 ...\n",
      " $ cyl : num  6 6 4 6 8 6 8 4 4 6 ...\n",
      " $ disp: num  160 160 108 258 360 ...\n",
      " $ hp  : num  110 110 93 110 175 105 245 62 95 123 ...\n",
      " $ drat: num  3.9 3.9 3.85 3.08 3.15 2.76 3.21 3.69 3.92 3.92 ...\n",
      " $ wt  : num  2.62 2.88 2.32 3.21 3.44 ...\n",
      " $ qsec: num  16.5 17 18.6 19.4 17 ...\n",
      " $ vs  : num  0 0 1 1 0 1 0 1 1 1 ...\n",
      " $ am  : num  1 1 1 0 0 0 0 0 0 0 ...\n",
      " $ gear: num  4 4 4 3 3 3 3 4 4 4 ...\n",
      " $ carb: num  4 4 1 1 2 1 4 2 2 4 ...\n",
      "NULL\n",
      "[1] 32 11\n",
      " mpg  cyl disp   hp drat   wt qsec   vs   am gear carb \n",
      "  32   32   32   32   32   32   32   32   32   32   32 \n",
      "[1] 32\n"
     ]
    }
   ],
   "source": [
    "print(str(mtcars))\n",
    "print(dim(mtcars))\n",
    "print(lengths(mtcars))\n",
    "print(length(mtcars$mpg))"
   ]
  },
  {
   "cell_type": "markdown",
   "metadata": {
    "slideshow": {
     "slide_type": "subslide"
    }
   },
   "source": [
    "- Use `summary()` to get a summary table."
   ]
  },
  {
   "cell_type": "code",
   "execution_count": 25,
   "metadata": {
    "slideshow": {
     "slide_type": "-"
    }
   },
   "outputs": [
    {
     "name": "stdout",
     "output_type": "stream",
     "text": [
      "      mpg             cyl             disp             hp       \n",
      " Min.   :10.40   Min.   :4.000   Min.   : 71.1   Min.   : 52.0  \n",
      " 1st Qu.:15.43   1st Qu.:4.000   1st Qu.:120.8   1st Qu.: 96.5  \n",
      " Median :19.20   Median :6.000   Median :196.3   Median :123.0  \n",
      " Mean   :20.09   Mean   :6.188   Mean   :230.7   Mean   :146.7  \n",
      " 3rd Qu.:22.80   3rd Qu.:8.000   3rd Qu.:326.0   3rd Qu.:180.0  \n",
      " Max.   :33.90   Max.   :8.000   Max.   :472.0   Max.   :335.0  \n",
      "      drat             wt             qsec             vs        \n",
      " Min.   :2.760   Min.   :1.513   Min.   :14.50   Min.   :0.0000  \n",
      " 1st Qu.:3.080   1st Qu.:2.581   1st Qu.:16.89   1st Qu.:0.0000  \n",
      " Median :3.695   Median :3.325   Median :17.71   Median :0.0000  \n",
      " Mean   :3.597   Mean   :3.217   Mean   :17.85   Mean   :0.4375  \n",
      " 3rd Qu.:3.920   3rd Qu.:3.610   3rd Qu.:18.90   3rd Qu.:1.0000  \n",
      " Max.   :4.930   Max.   :5.424   Max.   :22.90   Max.   :1.0000  \n",
      "       am              gear            carb      \n",
      " Min.   :0.0000   Min.   :3.000   Min.   :1.000  \n",
      " 1st Qu.:0.0000   1st Qu.:3.000   1st Qu.:2.000  \n",
      " Median :0.0000   Median :4.000   Median :2.000  \n",
      " Mean   :0.4062   Mean   :3.688   Mean   :2.812  \n",
      " 3rd Qu.:1.0000   3rd Qu.:4.000   3rd Qu.:4.000  \n",
      " Max.   :1.0000   Max.   :5.000   Max.   :8.000  \n"
     ]
    }
   ],
   "source": [
    "print(summary(mtcars))"
   ]
  },
  {
   "cell_type": "markdown",
   "metadata": {
    "slideshow": {
     "slide_type": "subslide"
    }
   },
   "source": [
    "- To get the total number of columns and rows, use `ncol()` and `nrow()`, respectively."
   ]
  },
  {
   "cell_type": "code",
   "execution_count": 26,
   "metadata": {
    "slideshow": {
     "slide_type": "-"
    }
   },
   "outputs": [
    {
     "name": "stdout",
     "output_type": "stream",
     "text": [
      "[1] 11\n",
      "[1] 32\n"
     ]
    }
   ],
   "source": [
    "print(ncol(mtcars))\n",
    "print(nrow(mtcars))"
   ]
  },
  {
   "cell_type": "markdown",
   "metadata": {
    "slideshow": {
     "slide_type": "subslide"
    }
   },
   "source": [
    "- To get column names and row names, use `colnames()` and `rownames()`, respectively."
   ]
  },
  {
   "cell_type": "code",
   "execution_count": 27,
   "metadata": {
    "scrolled": true,
    "slideshow": {
     "slide_type": "-"
    }
   },
   "outputs": [
    {
     "name": "stdout",
     "output_type": "stream",
     "text": [
      " [1] \"mpg\"  \"cyl\"  \"disp\" \"hp\"   \"drat\" \"wt\"   \"qsec\" \"vs\"   \"am\"   \"gear\"\n",
      "[11] \"carb\"\n",
      " [1] \"Mazda RX4\"           \"Mazda RX4 Wag\"       \"Datsun 710\"         \n",
      " [4] \"Hornet 4 Drive\"      \"Hornet Sportabout\"   \"Valiant\"            \n",
      " [7] \"Duster 360\"          \"Merc 240D\"           \"Merc 230\"           \n",
      "[10] \"Merc 280\"            \"Merc 280C\"           \"Merc 450SE\"         \n",
      "[13] \"Merc 450SL\"          \"Merc 450SLC\"         \"Cadillac Fleetwood\" \n",
      "[16] \"Lincoln Continental\" \"Chrysler Imperial\"   \"Fiat 128\"           \n",
      "[19] \"Honda Civic\"         \"Toyota Corolla\"      \"Toyota Corona\"      \n",
      "[22] \"Dodge Challenger\"    \"AMC Javelin\"         \"Camaro Z28\"         \n",
      "[25] \"Pontiac Firebird\"    \"Fiat X1-9\"           \"Porsche 914-2\"      \n",
      "[28] \"Lotus Europa\"        \"Ford Pantera L\"      \"Ferrari Dino\"       \n",
      "[31] \"Maserati Bora\"       \"Volvo 142E\"         \n"
     ]
    }
   ],
   "source": [
    "print(colnames(mtcars))\n",
    "print(rownames(mtcars))"
   ]
  },
  {
   "cell_type": "markdown",
   "metadata": {
    "slideshow": {
     "slide_type": "subslide"
    }
   },
   "source": [
    "- To check if a value is duplicated, use `duplicated()`.\n",
    "- To check if a value is unique, use `!duplicated()`."
   ]
  },
  {
   "cell_type": "code",
   "execution_count": 28,
   "metadata": {
    "slideshow": {
     "slide_type": "-"
    }
   },
   "outputs": [
    {
     "name": "stdout",
     "output_type": "stream",
     "text": [
      " [1] FALSE FALSE FALSE FALSE FALSE FALSE FALSE FALSE FALSE FALSE FALSE\n",
      " [1] TRUE TRUE TRUE TRUE TRUE TRUE TRUE TRUE TRUE TRUE TRUE\n",
      " [1] FALSE FALSE FALSE FALSE FALSE FALSE FALSE FALSE FALSE FALSE FALSE FALSE\n",
      "[13] FALSE FALSE FALSE FALSE FALSE FALSE FALSE FALSE FALSE FALSE FALSE FALSE\n",
      "[25] FALSE FALSE FALSE FALSE FALSE FALSE FALSE FALSE\n",
      "[1] 0\n"
     ]
    }
   ],
   "source": [
    "print(duplicated(colnames(mtcars)))\n",
    "print(!duplicated(colnames(mtcars)))\n",
    "print(duplicated(mtcars))\n",
    "print(sum(duplicated(rownames(mtcars)))) # the total number of unique index"
   ]
  },
  {
   "cell_type": "markdown",
   "metadata": {
    "slideshow": {
     "slide_type": "subslide"
    }
   },
   "source": [
    "- To get unique values, use `unique()`."
   ]
  },
  {
   "cell_type": "code",
   "execution_count": 29,
   "metadata": {
    "slideshow": {
     "slide_type": "-"
    }
   },
   "outputs": [
    {
     "data": {
      "text/html": [
       "<ol class=list-inline>\n",
       "\t<li>'Mazda RX4'</li>\n",
       "\t<li>'Mazda RX4 Wag'</li>\n",
       "\t<li>'Datsun 710'</li>\n",
       "\t<li>'Hornet 4 Drive'</li>\n",
       "\t<li>'Hornet Sportabout'</li>\n",
       "\t<li>'Valiant'</li>\n",
       "\t<li>'Duster 360'</li>\n",
       "\t<li>'Merc 240D'</li>\n",
       "\t<li>'Merc 230'</li>\n",
       "\t<li>'Merc 280'</li>\n",
       "\t<li>'Merc 280C'</li>\n",
       "\t<li>'Merc 450SE'</li>\n",
       "\t<li>'Merc 450SL'</li>\n",
       "\t<li>'Merc 450SLC'</li>\n",
       "\t<li>'Cadillac Fleetwood'</li>\n",
       "\t<li>'Lincoln Continental'</li>\n",
       "\t<li>'Chrysler Imperial'</li>\n",
       "\t<li>'Fiat 128'</li>\n",
       "\t<li>'Honda Civic'</li>\n",
       "\t<li>'Toyota Corolla'</li>\n",
       "\t<li>'Toyota Corona'</li>\n",
       "\t<li>'Dodge Challenger'</li>\n",
       "\t<li>'AMC Javelin'</li>\n",
       "\t<li>'Camaro Z28'</li>\n",
       "\t<li>'Pontiac Firebird'</li>\n",
       "\t<li>'Fiat X1-9'</li>\n",
       "\t<li>'Porsche 914-2'</li>\n",
       "\t<li>'Lotus Europa'</li>\n",
       "\t<li>'Ford Pantera L'</li>\n",
       "\t<li>'Ferrari Dino'</li>\n",
       "\t<li>'Maserati Bora'</li>\n",
       "\t<li>'Volvo 142E'</li>\n",
       "</ol>\n"
      ],
      "text/latex": [
       "\\begin{enumerate*}\n",
       "\\item 'Mazda RX4'\n",
       "\\item 'Mazda RX4 Wag'\n",
       "\\item 'Datsun 710'\n",
       "\\item 'Hornet 4 Drive'\n",
       "\\item 'Hornet Sportabout'\n",
       "\\item 'Valiant'\n",
       "\\item 'Duster 360'\n",
       "\\item 'Merc 240D'\n",
       "\\item 'Merc 230'\n",
       "\\item 'Merc 280'\n",
       "\\item 'Merc 280C'\n",
       "\\item 'Merc 450SE'\n",
       "\\item 'Merc 450SL'\n",
       "\\item 'Merc 450SLC'\n",
       "\\item 'Cadillac Fleetwood'\n",
       "\\item 'Lincoln Continental'\n",
       "\\item 'Chrysler Imperial'\n",
       "\\item 'Fiat 128'\n",
       "\\item 'Honda Civic'\n",
       "\\item 'Toyota Corolla'\n",
       "\\item 'Toyota Corona'\n",
       "\\item 'Dodge Challenger'\n",
       "\\item 'AMC Javelin'\n",
       "\\item 'Camaro Z28'\n",
       "\\item 'Pontiac Firebird'\n",
       "\\item 'Fiat X1-9'\n",
       "\\item 'Porsche 914-2'\n",
       "\\item 'Lotus Europa'\n",
       "\\item 'Ford Pantera L'\n",
       "\\item 'Ferrari Dino'\n",
       "\\item 'Maserati Bora'\n",
       "\\item 'Volvo 142E'\n",
       "\\end{enumerate*}\n"
      ],
      "text/markdown": [
       "1. 'Mazda RX4'\n",
       "2. 'Mazda RX4 Wag'\n",
       "3. 'Datsun 710'\n",
       "4. 'Hornet 4 Drive'\n",
       "5. 'Hornet Sportabout'\n",
       "6. 'Valiant'\n",
       "7. 'Duster 360'\n",
       "8. 'Merc 240D'\n",
       "9. 'Merc 230'\n",
       "10. 'Merc 280'\n",
       "11. 'Merc 280C'\n",
       "12. 'Merc 450SE'\n",
       "13. 'Merc 450SL'\n",
       "14. 'Merc 450SLC'\n",
       "15. 'Cadillac Fleetwood'\n",
       "16. 'Lincoln Continental'\n",
       "17. 'Chrysler Imperial'\n",
       "18. 'Fiat 128'\n",
       "19. 'Honda Civic'\n",
       "20. 'Toyota Corolla'\n",
       "21. 'Toyota Corona'\n",
       "22. 'Dodge Challenger'\n",
       "23. 'AMC Javelin'\n",
       "24. 'Camaro Z28'\n",
       "25. 'Pontiac Firebird'\n",
       "26. 'Fiat X1-9'\n",
       "27. 'Porsche 914-2'\n",
       "28. 'Lotus Europa'\n",
       "29. 'Ford Pantera L'\n",
       "30. 'Ferrari Dino'\n",
       "31. 'Maserati Bora'\n",
       "32. 'Volvo 142E'\n",
       "\n",
       "\n"
      ],
      "text/plain": [
       " [1] \"Mazda RX4\"           \"Mazda RX4 Wag\"       \"Datsun 710\"         \n",
       " [4] \"Hornet 4 Drive\"      \"Hornet Sportabout\"   \"Valiant\"            \n",
       " [7] \"Duster 360\"          \"Merc 240D\"           \"Merc 230\"           \n",
       "[10] \"Merc 280\"            \"Merc 280C\"           \"Merc 450SE\"         \n",
       "[13] \"Merc 450SL\"          \"Merc 450SLC\"         \"Cadillac Fleetwood\" \n",
       "[16] \"Lincoln Continental\" \"Chrysler Imperial\"   \"Fiat 128\"           \n",
       "[19] \"Honda Civic\"         \"Toyota Corolla\"      \"Toyota Corona\"      \n",
       "[22] \"Dodge Challenger\"    \"AMC Javelin\"         \"Camaro Z28\"         \n",
       "[25] \"Pontiac Firebird\"    \"Fiat X1-9\"           \"Porsche 914-2\"      \n",
       "[28] \"Lotus Europa\"        \"Ford Pantera L\"      \"Ferrari Dino\"       \n",
       "[31] \"Maserati Bora\"       \"Volvo 142E\"         "
      ]
     },
     "metadata": {},
     "output_type": "display_data"
    }
   ],
   "source": [
    "unique(rownames(mtcars))"
   ]
  },
  {
   "cell_type": "markdown",
   "metadata": {
    "slideshow": {
     "slide_type": "subslide"
    }
   },
   "source": [
    "##### Get elements\n",
    "- To access each element, you can use `[]`.\n",
    "- To slice data, use `[:]`. \n",
    "    - To get columns, you can write either `[:]` or `[,:]`.\n",
    "    - To get rows, use `[:,]`\n",
    "- You can directly write like `df$column_name`."
   ]
  },
  {
   "cell_type": "code",
   "execution_count": 30,
   "metadata": {
    "slideshow": {
     "slide_type": "-"
    }
   },
   "outputs": [
    {
     "name": "stdout",
     "output_type": "stream",
     "text": [
      "                     mpg cyl\n",
      "Mazda RX4           21.0   6\n",
      "Mazda RX4 Wag       21.0   6\n",
      "Datsun 710          22.8   4\n",
      "Hornet 4 Drive      21.4   6\n",
      "Hornet Sportabout   18.7   8\n",
      "Valiant             18.1   6\n",
      "Duster 360          14.3   8\n",
      "Merc 240D           24.4   4\n",
      "Merc 230            22.8   4\n",
      "Merc 280            19.2   6\n",
      "Merc 280C           17.8   6\n",
      "Merc 450SE          16.4   8\n",
      "Merc 450SL          17.3   8\n",
      "Merc 450SLC         15.2   8\n",
      "Cadillac Fleetwood  10.4   8\n",
      "Lincoln Continental 10.4   8\n",
      "Chrysler Imperial   14.7   8\n",
      "Fiat 128            32.4   4\n",
      "Honda Civic         30.4   4\n",
      "Toyota Corolla      33.9   4\n",
      "Toyota Corona       21.5   4\n",
      "Dodge Challenger    15.5   8\n",
      "AMC Javelin         15.2   8\n",
      "Camaro Z28          13.3   8\n",
      "Pontiac Firebird    19.2   8\n",
      "Fiat X1-9           27.3   4\n",
      "Porsche 914-2       26.0   4\n",
      "Lotus Europa        30.4   4\n",
      "Ford Pantera L      15.8   8\n",
      "Ferrari Dino        19.7   6\n",
      "Maserati Bora       15.0   8\n",
      "Volvo 142E          21.4   4\n",
      "                     mpg cyl\n",
      "Mazda RX4           21.0   6\n",
      "Mazda RX4 Wag       21.0   6\n",
      "Datsun 710          22.8   4\n",
      "Hornet 4 Drive      21.4   6\n",
      "Hornet Sportabout   18.7   8\n",
      "Valiant             18.1   6\n",
      "Duster 360          14.3   8\n",
      "Merc 240D           24.4   4\n",
      "Merc 230            22.8   4\n",
      "Merc 280            19.2   6\n",
      "Merc 280C           17.8   6\n",
      "Merc 450SE          16.4   8\n",
      "Merc 450SL          17.3   8\n",
      "Merc 450SLC         15.2   8\n",
      "Cadillac Fleetwood  10.4   8\n",
      "Lincoln Continental 10.4   8\n",
      "Chrysler Imperial   14.7   8\n",
      "Fiat 128            32.4   4\n",
      "Honda Civic         30.4   4\n",
      "Toyota Corolla      33.9   4\n",
      "Toyota Corona       21.5   4\n",
      "Dodge Challenger    15.5   8\n",
      "AMC Javelin         15.2   8\n",
      "Camaro Z28          13.3   8\n",
      "Pontiac Firebird    19.2   8\n",
      "Fiat X1-9           27.3   4\n",
      "Porsche 914-2       26.0   4\n",
      "Lotus Europa        30.4   4\n",
      "Ford Pantera L      15.8   8\n",
      "Ferrari Dino        19.7   6\n",
      "Maserati Bora       15.0   8\n",
      "Volvo 142E          21.4   4\n",
      " [1] 21.0 21.0 22.8 21.4 18.7 18.1 14.3 24.4 22.8 19.2 17.8 16.4 17.3 15.2 10.4\n",
      "[16] 10.4 14.7 32.4 30.4 33.9 21.5 15.5 15.2 13.3 19.2 27.3 26.0 30.4 15.8 19.7\n",
      "[31] 15.0 21.4\n",
      " [1] 21.0 21.0 22.8 21.4 18.7 18.1 14.3 24.4 22.8 19.2 17.8 16.4 17.3 15.2 10.4\n",
      "[16] 10.4 14.7 32.4 30.4 33.9 21.5 15.5 15.2 13.3 19.2 27.3 26.0 30.4 15.8 19.7\n",
      "[31] 15.0 21.4\n",
      "              mpg cyl disp  hp drat    wt  qsec vs am gear carb\n",
      "Mazda RX4      21   6  160 110  3.9 2.620 16.46  0  1    4    4\n",
      "Mazda RX4 Wag  21   6  160 110  3.9 2.875 17.02  0  1    4    4\n",
      "                     disp  hp drat\n",
      "Mazda RX4           160.0 110 3.90\n",
      "Mazda RX4 Wag       160.0 110 3.90\n",
      "Datsun 710          108.0  93 3.85\n",
      "Hornet 4 Drive      258.0 110 3.08\n",
      "Hornet Sportabout   360.0 175 3.15\n",
      "Valiant             225.0 105 2.76\n",
      "Duster 360          360.0 245 3.21\n",
      "Merc 240D           146.7  62 3.69\n",
      "Merc 230            140.8  95 3.92\n",
      "Merc 280            167.6 123 3.92\n",
      "Merc 280C           167.6 123 3.92\n",
      "Merc 450SE          275.8 180 3.07\n",
      "Merc 450SL          275.8 180 3.07\n",
      "Merc 450SLC         275.8 180 3.07\n",
      "Cadillac Fleetwood  472.0 205 2.93\n",
      "Lincoln Continental 460.0 215 3.00\n",
      "Chrysler Imperial   440.0 230 3.23\n",
      "Fiat 128             78.7  66 4.08\n",
      "Honda Civic          75.7  52 4.93\n",
      "Toyota Corolla       71.1  65 4.22\n",
      "Toyota Corona       120.1  97 3.70\n",
      "Dodge Challenger    318.0 150 2.76\n",
      "AMC Javelin         304.0 150 3.15\n",
      "Camaro Z28          350.0 245 3.73\n",
      "Pontiac Firebird    400.0 175 3.08\n",
      "Fiat X1-9            79.0  66 4.08\n",
      "Porsche 914-2       120.3  91 4.43\n",
      "Lotus Europa         95.1 113 3.77\n",
      "Ford Pantera L      351.0 264 4.22\n",
      "Ferrari Dino        145.0 175 3.62\n",
      "Maserati Bora       301.0 335 3.54\n",
      "Volvo 142E          121.0 109 4.11\n"
     ]
    }
   ],
   "source": [
    "# get columns\n",
    "print(mtcars[1:2]) \n",
    "print(mtcars[,1:2]) \n",
    "print(mtcars[,\"mpg\"]) \n",
    "print(mtcars$mpg) \n",
    "# get rows\n",
    "print(mtcars[1:2,]) \n",
    "print(mtcars[,3:5])"
   ]
  },
  {
   "cell_type": "markdown",
   "metadata": {
    "slideshow": {
     "slide_type": "subslide"
    }
   },
   "source": [
    "- You can use operators like `==`, `>`, and `<=` to get parciular rows.\n",
    "    - You can also use `subset()`.\n",
    "- You can also use `filter()` in the `dplyr` package.\n",
    "- If a row contains NA, subsetting elements using operators in `[]` returns NA for all values in the row.\n",
    "    - `select()` and `filter()` even remove that row.\n",
    "    - To keep NA, add an \"or\" condition."
   ]
  },
  {
   "cell_type": "code",
   "execution_count": 31,
   "metadata": {
    "slideshow": {
     "slide_type": "subslide"
    }
   },
   "outputs": [
    {
     "name": "stdout",
     "output_type": "stream",
     "text": [
      "  id time varA  varB\n",
      "1  a    1   NA  TRUE\n",
      "2  a    2  0.2 FALSE\n",
      "3  b    1  0.4 FALSE\n",
      "4  b    2  0.1  TRUE\n",
      "     id time varA  varB\n",
      "NA <NA>   NA   NA    NA\n",
      "3     b    1  0.4 FALSE\n",
      "4     b    2  0.1  TRUE\n",
      "  id time varA  varB\n",
      "3  b    1  0.4 FALSE\n",
      "4  b    2  0.1  TRUE\n"
     ]
    },
    {
     "ename": "ERROR",
     "evalue": "Error in library(dplyr): there is no package called 'dplyr'\n",
     "output_type": "error",
     "traceback": [
      "Error in library(dplyr): there is no package called 'dplyr'\nTraceback:\n",
      "1. library(dplyr)",
      "2. stop(txt, domain = NA)"
     ]
    }
   ],
   "source": [
    "col1 <- c(\"a\",\"a\",\"b\",\"b\")\n",
    "col2 <- c(1,2,1,2)\n",
    "col3 <- c(NA,0.2,0.4,0.1)\n",
    "col4 <- c(TRUE,FALSE,FALSE,TRUE)\n",
    "myDf <- data.frame(id=col1,time=col2,varA=col3,varB=col4,stringsAsFactors=FALSE) # add column names at once, do not read strings as factors\n",
    "print(myDf)\n",
    "\n",
    "myDf2 <- myDf[myDf$varA != 0.2,]\n",
    "print(myDf2)\n",
    "print(subset(myDf,varA != 0.2)) # using subset\n",
    "library(dplyr) \n",
    "print(filter(myDf,varA != 0.2)) # using filter in the dplyr package"
   ]
  },
  {
   "cell_type": "code",
   "execution_count": 32,
   "metadata": {
    "slideshow": {
     "slide_type": "subslide"
    }
   },
   "outputs": [
    {
     "name": "stdout",
     "output_type": "stream",
     "text": [
      "  id time varA  varB\n",
      "1  a    1   NA  TRUE\n",
      "2  a    2  0.2 FALSE\n",
      "3  b    1  0.4 FALSE\n",
      "4  b    2  0.1  TRUE\n",
      "  id time varA  varB\n",
      "1  a    1   NA  TRUE\n",
      "3  b    1  0.4 FALSE\n",
      "4  b    2  0.1  TRUE\n",
      "  id time varA  varB\n",
      "1  a    1   NA  TRUE\n",
      "3  b    1  0.4 FALSE\n",
      "4  b    2  0.1  TRUE\n"
     ]
    },
    {
     "ename": "ERROR",
     "evalue": "Error in library(dplyr): there is no package called 'dplyr'\n",
     "output_type": "error",
     "traceback": [
      "Error in library(dplyr): there is no package called 'dplyr'\nTraceback:\n",
      "1. library(dplyr)",
      "2. stop(txt, domain = NA)"
     ]
    }
   ],
   "source": [
    "col1 <- c(\"a\",\"a\",\"b\",\"b\")\n",
    "col2 <- c(1,2,1,2)\n",
    "col3 <- c(NA,0.2,0.4,0.1)\n",
    "col4 <- c(TRUE,FALSE,FALSE,TRUE)\n",
    "myDf <- data.frame(id=col1,time=col2,varA=col3,varB=col4,stringsAsFactors=FALSE)\n",
    "print(myDf)\n",
    "\n",
    "myDf2 <- myDf[(myDf$varA != 0.2) | (is.na(myDf$varA)),]\n",
    "print(myDf2)\n",
    "print(subset(myDf,varA != 0.2 | is.na(varA))) # using subset\n",
    "library(dplyr) \n",
    "print(filter(myDf,varA != 0.2 | is.na(varA))) # using filter"
   ]
  },
  {
   "cell_type": "markdown",
   "metadata": {
    "slideshow": {
     "slide_type": "subslide"
    }
   },
   "source": [
    "- To subset columns, use `[]`, `subset()`, or `select()` in the dplyr package."
   ]
  },
  {
   "cell_type": "code",
   "execution_count": null,
   "metadata": {
    "slideshow": {
     "slide_type": "-"
    }
   },
   "outputs": [],
   "source": [
    "# subset columns\n",
    "drops <- c(\"mpg\",\"cyl\")\n",
    "print(mtcars[,!(colnames(mtcars) %in% drops)])\n",
    "print(subset(mtcars,select=-c(mpg, cyl))) # using subset"
   ]
  },
  {
   "cell_type": "markdown",
   "metadata": {
    "slideshow": {
     "slide_type": "subslide"
    }
   },
   "source": [
    "- `select` in the `dplyr` package is very useful."
   ]
  },
  {
   "cell_type": "code",
   "execution_count": null,
   "metadata": {
    "slideshow": {
     "slide_type": "-"
    }
   },
   "outputs": [],
   "source": [
    "library(dplyr) \n",
    "print(select(mtcars,disp:carb)) # select columns from disp to carb\n",
    "print(select(mtcars,starts_with(\"m\"))) # columns starting with \"m\"\n",
    "#print(select(mtcars, ends_with(\"p\"))) # columns ending with \"m\"\n",
    "#print(select(mtcars, contains(\"q\"))) # columns containing w or p\n",
    "# another useful option num_range(\"x\", 1:3) # columns x1, x2, and x3."
   ]
  },
  {
   "cell_type": "markdown",
   "metadata": {
    "slideshow": {
     "slide_type": "subslide"
    }
   },
   "source": [
    "- To get first few rows and last few rows easily, use `head()` and `tail()`, respectively."
   ]
  },
  {
   "cell_type": "code",
   "execution_count": null,
   "metadata": {
    "slideshow": {
     "slide_type": "-"
    }
   },
   "outputs": [],
   "source": [
    "print(head(mtcars,n=5)) # first 5 rows\n",
    "print(tail(mtcars,n=5)) # last 5 rows"
   ]
  },
  {
   "cell_type": "markdown",
   "metadata": {
    "slideshow": {
     "slide_type": "subslide"
    }
   },
   "source": [
    "- Appendix: To get the indices of matched elements, use `grep()` or `match()`.\n",
    "    - `match()` is used for the exact match like `==`."
   ]
  },
  {
   "cell_type": "code",
   "execution_count": null,
   "metadata": {},
   "outputs": [],
   "source": [
    "mycars <- read.table('cars.csv',header=TRUE,sep=',',stringsAsFactors=FALSE)\n",
    "print(mycars)\n",
    "grep(\"Japan\",mycars$country)\n",
    "match(\"Japan\",mycars$country)\n",
    "grep(\"Jap\",mycars$country)\n",
    "match(\"Jap\",mycars$country) # this is not exact match"
   ]
  },
  {
   "cell_type": "markdown",
   "metadata": {
    "slideshow": {
     "slide_type": "subslide"
    }
   },
   "source": [
    "##### Change contents\n",
    "- To delete a column, use `<- NULL`.\n",
    "    - Similar to `del` in Python.\n",
    "- Alternatively, you can use `[]` for subsetting data."
   ]
  },
  {
   "cell_type": "code",
   "execution_count": null,
   "metadata": {
    "slideshow": {
     "slide_type": "-"
    }
   },
   "outputs": [],
   "source": [
    "mycars <- read.table('cars.csv',header=TRUE,sep=',',row.names='id',stringsAsFactors=FALSE)\n",
    "print(mycars)\n",
    "mycars$country <- NULL\n",
    "print(mycars)"
   ]
  },
  {
   "cell_type": "markdown",
   "metadata": {
    "slideshow": {
     "slide_type": "subslide"
    }
   },
   "source": [
    "- You can sort elements using `order()`.\n",
    "    - Though rarely used, you can also sort data by row values.\n",
    "- Another option is `arrange()` in the `dplyr` package."
   ]
  },
  {
   "cell_type": "code",
   "execution_count": null,
   "metadata": {
    "slideshow": {
     "slide_type": "-"
    }
   },
   "outputs": [],
   "source": [
    "attach(mtcars)\n",
    "print(mtcars[order(mpg,cyl),]) # sort by columns\n",
    "print(mtcars[order(-mpg,-cyl),]) # sort by columns (descending)\n",
    "print(mtcars[,order(mtcars[\"Mazda RX4\",])]) # sort by a row\n",
    "#require(dplyr)\n",
    "#print(arrange(mtcars, cyl, desc(mpg))) # sort by cyl (ascending) and mpg (descending)"
   ]
  },
  {
   "cell_type": "markdown",
   "metadata": {
    "slideshow": {
     "slide_type": "subslide"
    }
   },
   "source": [
    "- To transpose data, use `t()`."
   ]
  },
  {
   "cell_type": "code",
   "execution_count": null,
   "metadata": {
    "slideshow": {
     "slide_type": "-"
    }
   },
   "outputs": [],
   "source": [
    "print(t(mtcars))"
   ]
  },
  {
   "cell_type": "markdown",
   "metadata": {
    "slideshow": {
     "slide_type": "subslide"
    }
   },
   "source": [
    "- You can use `reshape` to reshape the data."
   ]
  },
  {
   "cell_type": "code",
   "execution_count": null,
   "metadata": {
    "slideshow": {
     "slide_type": "-"
    }
   },
   "outputs": [],
   "source": [
    "col1 <- c(\"a\",\"a\",\"b\",\"b\")\n",
    "col2 <- c(1,2,1,2)\n",
    "col3 <- c(0.5,0.2,0.4,0.1)\n",
    "col4 <- c(TRUE,FALSE,FALSE,TRUE)\n",
    "myDf <- data.frame(id=col1,time=col2,varA=col3,varB=col4,stringsAsFactors=FALSE)\n",
    "print(myDf)\n",
    "\n",
    "myDf <- reshape(myDf,idvar=\"id\",timevar=\"time\",direction=\"wide\")\n",
    "rownames(myDf) <- NULL # delete the old rownames\n",
    "print(myDf)\n",
    "myDf <- reshape(myDf,idvar=\"id\",timevar=\"time\",direction=\"long\")\n",
    "rownames(myDf) <- NULL # delete the old rownames\n",
    "print(myDf)"
   ]
  },
  {
   "cell_type": "markdown",
   "metadata": {
    "slideshow": {
     "slide_type": "subslide"
    }
   },
   "source": [
    "- Appendix: Use `melt()` in the `reshape2` package to show data in an alternative form.\n",
    "<!-- `dcast()` \n",
    "myDf_back <- dcast(myDf_melt, id + time ~ variable)\n",
    "print(myDf_back)\n",
    "-->"
   ]
  },
  {
   "cell_type": "code",
   "execution_count": null,
   "metadata": {
    "slideshow": {
     "slide_type": "-"
    }
   },
   "outputs": [],
   "source": [
    "library(reshape2)\n",
    "col1 <- c(\"a\",\"a\",\"b\",\"b\")\n",
    "col2 <- c(1,2,1,2)\n",
    "col3 <- c(0.5,0.2,0.4,0.1)\n",
    "col4 <- c(TRUE,FALSE,FALSE,TRUE)\n",
    "myDf <- data.frame(id=col1,time=col2,varA=col3,varB=col4,stringsAsFactors=FALSE)\n",
    "print(myDf)\n",
    "print(melt(myDf,id.vars=c(\"id\",\"time\")))"
   ]
  },
  {
   "cell_type": "markdown",
   "metadata": {
    "slideshow": {
     "slide_type": "subslide"
    }
   },
   "source": [
    "- To rename column and row names, use `colnames()` and `rownames()`, respectively.\n",
    "    - For column names, you can also use `setnames()` in the `data.table` package.\n",
    "<!--    - For column names, you can also use `rename()` in the `dplyr` package. -->"
   ]
  },
  {
   "cell_type": "code",
   "execution_count": null,
   "metadata": {},
   "outputs": [],
   "source": [
    "col1 <- c(\"a\",\"a\",\"b\",\"b\")\n",
    "col2 <- c(1,2,1,2)\n",
    "col3 <- c(0.5,0.2,0.4,0.1)\n",
    "col4 <- c(TRUE,FALSE,FALSE,TRUE)\n",
    "myDf <- data.frame(id=col1,time=col2,varA=col3,varB=col4,stringsAsFactors=FALSE)\n",
    "print(myDf)\n",
    "colnames(myDf)[colnames(myDf)==\"varA\"] <- \"varC\" # replace a column name\n",
    "print(myDf)\n",
    "#library(data.table) #install.packages(\"data.table\", repos='http://cran.us.r-project.org')\n",
    "#print(setnames(myDf,\"varB\",\"varD\"))"
   ]
  },
  {
   "cell_type": "markdown",
   "metadata": {
    "slideshow": {
     "slide_type": "subslide"
    }
   },
   "source": [
    "- To replace values, use `replace()` or `gsub()`.\n",
    "    - `gsub()` returns character. If you want to replace numerics, use `replace()`."
   ]
  },
  {
   "cell_type": "code",
   "execution_count": null,
   "metadata": {
    "slideshow": {
     "slide_type": "-"
    }
   },
   "outputs": [],
   "source": [
    "col1 <- c(\"a\",\"a\",\"b\",\"b\")\n",
    "col2 <- c(1,2,1,2)\n",
    "col3 <- c(0.5,0.2,0.4,0.1)\n",
    "col4 <- c(TRUE,FALSE,FALSE,TRUE)\n",
    "myDf <- data.frame(id=col1,time=col2,varA=col3,varB=col4,stringsAsFactors=FALSE)\n",
    "print(myDf)\n",
    "myDf$varA <- replace(myDf$varA,myDf$varA==0.5,0.8) # replace varA == 0.5 to 0.8\n",
    "print(myDf)\n",
    "myDf$varA <- gsub(0.5,0.8,myDf$varA) # using gsub\n",
    "print(myDf)\n",
    "print(class(myDf$varA))"
   ]
  },
  {
   "cell_type": "markdown",
   "metadata": {
    "slideshow": {
     "slide_type": "subslide"
    }
   },
   "source": [
    "##### Computation\n",
    "- `colSums()` and `rowSums()` for calculating sums for each column and row, respectively.\n",
    "    - Instead, `sum()` compute sums for a specific column or row or the sum of all elements in a data frame.\n",
    "- `colMeans()` and `rowMeans()` for calculating means for each column and row, respectively.\n",
    "    - Instead, `mean()` compute means for a specific column, but not a row."
   ]
  },
  {
   "cell_type": "code",
   "execution_count": 33,
   "metadata": {
    "slideshow": {
     "slide_type": "subslide"
    }
   },
   "outputs": [
    {
     "name": "stdout",
     "output_type": "stream",
     "text": [
      "  time varA varB\n",
      "1    1  1.5  0.5\n",
      "2    2  0.9  0.2\n",
      "3    1  0.2  0.4\n",
      "4    2  0.3  0.1\n",
      "[1] 2.9\n",
      "varA varB \n",
      " 2.9  1.2 \n",
      "  1   3 \n",
      "3.0 1.6 \n"
     ]
    }
   ],
   "source": [
    "col2 <- c(1,2,1,2)\n",
    "col3 <- c(1.5,0.9,0.2,0.3)\n",
    "col4 <- c(0.5,0.2,0.4,0.1)\n",
    "myDf <- data.frame(time=col2,varA=col3,varB=col4,stringsAsFactors=FALSE)\n",
    "print(myDf)\n",
    "print(sum(myDf$varA))\n",
    "print(colSums(myDf[,c(\"varA\",\"varB\")]))\n",
    "print(rowSums(myDf[c(1,3),]))"
   ]
  },
  {
   "cell_type": "markdown",
   "metadata": {
    "slideshow": {
     "slide_type": "subslide"
    }
   },
   "source": [
    "- NaN and NA are not always ignored in calculation (unlike Python)."
   ]
  },
  {
   "cell_type": "code",
   "execution_count": 34,
   "metadata": {
    "slideshow": {
     "slide_type": "-"
    }
   },
   "outputs": [
    {
     "name": "stdout",
     "output_type": "stream",
     "text": [
      "  X1 X2 X3\n",
      "1  1  2  3\n",
      "2  4  5  6\n",
      "3  7  8  9\n",
      "   X1 X2 X3\n",
      "1 NaN  2  3\n",
      "2   4  5  6\n",
      "3   7  8  9\n",
      "[1] NaN\n",
      "[1] 11\n"
     ]
    }
   ],
   "source": [
    "myDf <- data.frame(matrix(1:9,byrow=TRUE,nrow=3)) \n",
    "print(myDf)\n",
    "myDf$X1 <- replace(myDf$X1,myDf$X1==1,NaN)\n",
    "print(myDf)\n",
    "print(sum(myDf$X1)) # returns NaN\n",
    "print(sum(myDf$X1,na.rm=TRUE)) # ignore NaN"
   ]
  },
  {
   "cell_type": "markdown",
   "metadata": {
    "slideshow": {
     "slide_type": "subslide"
    }
   },
   "source": [
    "##### Treat missing values\n",
    "- To check if data contain NA or NaN, use `is.na()`.\n",
    "    - To check if data contain NaN, use `is.nan()`.\n",
    "- To check if data contain inf or -inf, use `is.infinite()`."
   ]
  },
  {
   "cell_type": "code",
   "execution_count": null,
   "metadata": {
    "slideshow": {
     "slide_type": "-"
    }
   },
   "outputs": [
    {
     "name": "stdout",
     "output_type": "stream",
     "text": [
      "     x    y\n",
      "1 -Inf   NA\n",
      "2   NA  NaN\n",
      "3    3  NaN\n",
      "4  Inf -Inf\n",
      "         x     y\n",
      "[1,] FALSE  TRUE\n",
      "[2,]  TRUE  TRUE\n",
      "[3,] FALSE  TRUE\n",
      "[4,] FALSE FALSE\n",
      "[1] 4\n",
      "x y \n",
      "1 3 \n",
      "         x     y\n",
      "[1,] FALSE FALSE\n",
      "[2,] FALSE  TRUE\n",
      "[3,] FALSE  TRUE\n",
      "[4,] FALSE FALSE\n"
     ]
    }
   ],
   "source": [
    "x <- c(-Inf,NA,3,Inf)\n",
    "y <- c(NA,0/0,NaN,log(0))\n",
    "my_data <- data.frame(x,y)\n",
    "print(my_data)\n",
    "print(is.na(my_data))\n",
    "print(sum(is.na(my_data))) # total number of NA or NaN (counting TRUEs)\n",
    "print(apply(is.na(my_data),2,sum)) # total number of NA or NaN by column (change 2 to 1 to count by row)\n",
    "print(is.nan(as.matrix(my_data))) # to use is.nan in the data with multiple rows, one should use as.matrix()\n",
    "print(is.nan(my_data)) # this returns nothing\n",
    "print(is.infinite(as.matrix(my_data))) # to use is.infinite in the data with multiple rows, one should use as.matrix()"
   ]
  },
  {
   "cell_type": "markdown",
   "metadata": {
    "slideshow": {
     "slide_type": "subslide"
    }
   },
   "source": [
    "- To drop rows with an NA or NaN, use `[]`.\n",
    "- To drop rows with all NA or NaN, use `complete.cases()`."
   ]
  },
  {
   "cell_type": "code",
   "execution_count": 46,
   "metadata": {
    "slideshow": {
     "slide_type": "-"
    }
   },
   "outputs": [
    {
     "name": "stdout",
     "output_type": "stream",
     "text": [
      "     x    y\n",
      "1 -Inf   NA\n",
      "2   NA  NaN\n",
      "3    3  NaN\n",
      "4  Inf -Inf\n",
      "     x    y\n",
      "1 -Inf   NA\n",
      "3    3  NaN\n",
      "4  Inf -Inf\n",
      "    x    y\n",
      "4 Inf -Inf\n"
     ]
    }
   ],
   "source": [
    "x <- c(-Inf,NA,3,Inf)\n",
    "y <- c(NA,0/0,NaN,log(0))\n",
    "my_data <- data.frame(x,y)\n",
    "print(my_data)\n",
    "my_data_nomiss <- my_data[!is.na(my_data$x),] \n",
    "print(my_data_nomiss)\n",
    "my_data_nomiss <- my_data[complete.cases(my_data),]\n",
    "print(my_data_nomiss)"
   ]
  },
  {
   "cell_type": "markdown",
   "metadata": {
    "slideshow": {
     "slide_type": "subslide"
    }
   },
   "source": [
    "- To drop columns with all NA or NaN, use `[]`."
   ]
  },
  {
   "cell_type": "code",
   "execution_count": null,
   "metadata": {
    "slideshow": {
     "slide_type": "-"
    }
   },
   "outputs": [],
   "source": [
    "x <- c(log(0), NA, 3, Inf)\n",
    "y <- c(NA, 0/0, NaN, NA)\n",
    "z <- c(1,2,3,4)\n",
    "my_data <- data.frame(x,y,z)\n",
    "print(my_data)\n",
    "my_data2 <- my_data[,colSums(is.na(my_data)) != nrow(my_data)]\n",
    "print(my_data2)"
   ]
  },
  {
   "cell_type": "markdown",
   "metadata": {
    "slideshow": {
     "slide_type": "subslide"
    }
   },
   "source": [
    "- Replace NA, NaN, inf or -inf with another value."
   ]
  },
  {
   "cell_type": "code",
   "execution_count": null,
   "metadata": {
    "slideshow": {
     "slide_type": "-"
    }
   },
   "outputs": [],
   "source": [
    "x <- c(-Inf, NA, 3, Inf)\n",
    "y <- c(NA, 0/0, NaN, log(0))\n",
    "z <- c(1,2,3,4)\n",
    "my_data <- data.frame(x,y,z)\n",
    "print(my_data)\n",
    "my_data$x[is.na(my_data$x)] <- 0 # NA or NaN in column x\n",
    "print(my_data)\n",
    "my_data[is.na(my_data)] <- 0 # all NA or NaN\n",
    "print(my_data)"
   ]
  },
  {
   "cell_type": "markdown",
   "metadata": {
    "slideshow": {
     "slide_type": "subslide"
    }
   },
   "source": [
    "##### Merge\n",
    "- To merge datasets, use `merge()`.\n",
    "    - Alternatively, you can use `cbind()` and `rbind()`."
   ]
  },
  {
   "cell_type": "code",
   "execution_count": 35,
   "metadata": {
    "slideshow": {
     "slide_type": "-"
    }
   },
   "outputs": [
    {
     "name": "stdout",
     "output_type": "stream",
     "text": [
      "  id weight height\n",
      "1  a     80    180\n",
      "2  b     65    170\n",
      "3  c     55    150\n",
      "  id weight height\n",
      "1  a     80    180\n",
      "2  b     65    170\n",
      "3  c     55    150\n",
      "4  d     NA    155\n"
     ]
    }
   ],
   "source": [
    "id <- c(\"a\",\"b\",\"c\")\n",
    "weight <- c(80.0,65.0,55.0)\n",
    "data1 <- data.frame(id,weight)\n",
    " \n",
    "id <- c(\"a\",\"b\",\"c\",\"d\")\n",
    "height <- c(180.0,170.0,150.0,155.0)\n",
    "data2 <- data.frame(id,height)\n",
    "\n",
    "print(merge(data1,data2,by=\"id\")) # exclude unmatched ones\n",
    "print(merge(data1,data2,by=\"id\",all=TRUE)) # include all"
   ]
  },
  {
   "cell_type": "markdown",
   "metadata": {
    "slideshow": {
     "slide_type": "subslide"
    }
   },
   "source": [
    "- You can merge even if the key names are different."
   ]
  },
  {
   "cell_type": "code",
   "execution_count": 41,
   "metadata": {
    "slideshow": {
     "slide_type": "-"
    }
   },
   "outputs": [
    {
     "name": "stdout",
     "output_type": "stream",
     "text": [
      "  id weight\n",
      "1  a     80\n",
      "2  b     65\n",
      "3  c     55\n",
      "  xid height\n",
      "1   a    180\n",
      "2   b    170\n",
      "3   c    150\n",
      "4   d    155\n",
      "  id weight height\n",
      "1  a     80    180\n",
      "2  b     65    170\n",
      "3  c     55    150\n",
      "  id weight height\n",
      "1  a     80    180\n",
      "2  b     65    170\n",
      "3  c     55    150\n",
      "4  d     NA    155\n"
     ]
    }
   ],
   "source": [
    "id <- c(\"a\",\"b\",\"c\")\n",
    "weight <- c(80.0,65.0,55.0)\n",
    "data1 <- data.frame(id,weight)\n",
    "print(data1)\n",
    "\n",
    "xid <- c(\"a\",\"b\",\"c\",\"d\")\n",
    "height <- c(180.0,170.0,150.0,155.0)\n",
    "data2 <- data.frame(xid,height)\n",
    "print(data2)\n",
    "\n",
    "print(merge(data1,data2,by.x=\"id\",by.y=\"xid\")) # exclude unmatched ones\n",
    "print(merge(data1,data2,by.x=\"id\",by.y=\"xid\",all=TRUE)) # include all"
   ]
  },
  {
   "cell_type": "markdown",
   "metadata": {
    "slideshow": {
     "slide_type": "subslide"
    }
   },
   "source": [
    "- You can use more than one key."
   ]
  },
  {
   "cell_type": "code",
   "execution_count": 42,
   "metadata": {
    "slideshow": {
     "slide_type": "-"
    }
   },
   "outputs": [
    {
     "name": "stdout",
     "output_type": "stream",
     "text": [
      "  id time weight\n",
      "1  a    1     80\n",
      "2  a    2     79\n",
      "3  b    1     54\n",
      "4  b    2     55\n",
      "  id time height\n",
      "1  a    1    180\n",
      "2  a    2    180\n",
      "3  b    1    170\n",
      "4  b    2    170\n",
      "5  c    1    155\n",
      "  id time weight height\n",
      "1  a    1     80    180\n",
      "2  a    2     79    180\n",
      "3  b    1     54    170\n",
      "4  b    2     55    170\n",
      "  id time weight height\n",
      "1  a    1     80    180\n",
      "2  a    2     79    180\n",
      "3  b    1     54    170\n",
      "4  b    2     55    170\n",
      "5  c    1     NA    155\n"
     ]
    }
   ],
   "source": [
    "id <- c(\"a\",\"a\",\"b\",\"b\")\n",
    "time <- c(1,2,1,2)\n",
    "weight <- c(80.0,79.0,54.0,55.0)\n",
    "data1 <- data.frame(id,time,weight)\n",
    "print(data1)\n",
    "\n",
    "id <- c(\"a\",\"a\",\"b\",\"b\",\"c\")\n",
    "time <- c(1,2,1,2,1)\n",
    "height <- c(180.0,180.0,170.0,170.0,155.0)\n",
    "data2 <- data.frame(id,time,height)\n",
    "print(data2)\n",
    "\n",
    "print(merge(data1,data2,by=c(\"id\",\"time\"))) # exclude unmatched ones\n",
    "print(merge(data1,data2,by=c(\"id\",\"time\"),all=TRUE)) # include all"
   ]
  },
  {
   "cell_type": "markdown",
   "metadata": {
    "slideshow": {
     "slide_type": "subslide"
    }
   },
   "source": [
    "- What happens if both datasets have the same column name but the contents are different?"
   ]
  },
  {
   "cell_type": "code",
   "execution_count": 43,
   "metadata": {
    "slideshow": {
     "slide_type": "-"
    }
   },
   "outputs": [
    {
     "name": "stdout",
     "output_type": "stream",
     "text": [
      "  id weight\n",
      "1  a     80\n",
      "2  b     65\n",
      "3  c     55\n",
      "  xid weight\n",
      "1   a    180\n",
      "2   b    170\n",
      "3   c    150\n",
      "4   d    155\n",
      "  id weight.x weight.y\n",
      "1  a       80      180\n",
      "2  b       65      170\n",
      "3  c       55      150\n",
      "  id weight.x weight.y\n",
      "1  a       80      180\n",
      "2  b       65      170\n",
      "3  c       55      150\n",
      "4  d       NA      155\n"
     ]
    }
   ],
   "source": [
    "id <- c(\"a\",\"b\",\"c\")\n",
    "weight <- c(80.0,65.0,55.0)\n",
    "data1 <- data.frame(id, weight)\n",
    "print(data1)\n",
    " \n",
    "xid <- c(\"a\",\"b\",\"c\",\"d\")\n",
    "weight <- c(180.0,170.0,150.0,155.0)\n",
    "data2 <- data.frame(xid,weight)\n",
    "print(data2)\n",
    "\n",
    "print(merge(data1,data2,by.x=\"id\",by.y=\"xid\")) # exclude unmatched ones\n",
    "print(merge(data1,data2,by.x=\"id\",by.y=\"xid\",all=TRUE)) # include all"
   ]
  },
  {
   "cell_type": "markdown",
   "metadata": {
    "slideshow": {
     "slide_type": "subslide"
    }
   },
   "source": [
    "#### - Lists\n",
    "- Lists are one of the classes.\n",
    "- Lists can contain any class.\n",
    "- The structure of lists in R looks quite different from that of lists in Python."
   ]
  },
  {
   "cell_type": "code",
   "execution_count": 49,
   "metadata": {
    "slideshow": {
     "slide_type": "-"
    }
   },
   "outputs": [
    {
     "name": "stdout",
     "output_type": "stream",
     "text": [
      "[1] \"list\"\n",
      "$vec\n",
      "[1] 1 2\n",
      "\n",
      "$mat\n",
      "     [,1] [,2]\n",
      "[1,]    1    3\n",
      "[2,]    2    4\n",
      "\n",
      "$df\n",
      "                     mpg cyl  disp  hp drat    wt  qsec vs am gear carb\n",
      "Mazda RX4           21.0   6 160.0 110 3.90 2.620 16.46  0  1    4    4\n",
      "Mazda RX4 Wag       21.0   6 160.0 110 3.90 2.875 17.02  0  1    4    4\n",
      "Datsun 710          22.8   4 108.0  93 3.85 2.320 18.61  1  1    4    1\n",
      "Hornet 4 Drive      21.4   6 258.0 110 3.08 3.215 19.44  1  0    3    1\n",
      "Hornet Sportabout   18.7   8 360.0 175 3.15 3.440 17.02  0  0    3    2\n",
      "Valiant             18.1   6 225.0 105 2.76 3.460 20.22  1  0    3    1\n",
      "Duster 360          14.3   8 360.0 245 3.21 3.570 15.84  0  0    3    4\n",
      "Merc 240D           24.4   4 146.7  62 3.69 3.190 20.00  1  0    4    2\n",
      "Merc 230            22.8   4 140.8  95 3.92 3.150 22.90  1  0    4    2\n",
      "Merc 280            19.2   6 167.6 123 3.92 3.440 18.30  1  0    4    4\n",
      "Merc 280C           17.8   6 167.6 123 3.92 3.440 18.90  1  0    4    4\n",
      "Merc 450SE          16.4   8 275.8 180 3.07 4.070 17.40  0  0    3    3\n",
      "Merc 450SL          17.3   8 275.8 180 3.07 3.730 17.60  0  0    3    3\n",
      "Merc 450SLC         15.2   8 275.8 180 3.07 3.780 18.00  0  0    3    3\n",
      "Cadillac Fleetwood  10.4   8 472.0 205 2.93 5.250 17.98  0  0    3    4\n",
      "Lincoln Continental 10.4   8 460.0 215 3.00 5.424 17.82  0  0    3    4\n",
      "Chrysler Imperial   14.7   8 440.0 230 3.23 5.345 17.42  0  0    3    4\n",
      "Fiat 128            32.4   4  78.7  66 4.08 2.200 19.47  1  1    4    1\n",
      "Honda Civic         30.4   4  75.7  52 4.93 1.615 18.52  1  1    4    2\n",
      "Toyota Corolla      33.9   4  71.1  65 4.22 1.835 19.90  1  1    4    1\n",
      "Toyota Corona       21.5   4 120.1  97 3.70 2.465 20.01  1  0    3    1\n",
      "Dodge Challenger    15.5   8 318.0 150 2.76 3.520 16.87  0  0    3    2\n",
      "AMC Javelin         15.2   8 304.0 150 3.15 3.435 17.30  0  0    3    2\n",
      "Camaro Z28          13.3   8 350.0 245 3.73 3.840 15.41  0  0    3    4\n",
      "Pontiac Firebird    19.2   8 400.0 175 3.08 3.845 17.05  0  0    3    2\n",
      "Fiat X1-9           27.3   4  79.0  66 4.08 1.935 18.90  1  1    4    1\n",
      "Porsche 914-2       26.0   4 120.3  91 4.43 2.140 16.70  0  1    5    2\n",
      "Lotus Europa        30.4   4  95.1 113 3.77 1.513 16.90  1  1    5    2\n",
      "Ford Pantera L      15.8   8 351.0 264 4.22 3.170 14.50  0  1    5    4\n",
      "Ferrari Dino        19.7   6 145.0 175 3.62 2.770 15.50  0  1    5    6\n",
      "Maserati Bora       15.0   8 301.0 335 3.54 3.570 14.60  0  1    5    8\n",
      "Volvo 142E          21.4   4 121.0 109 4.11 2.780 18.60  1  1    4    2\n",
      "\n"
     ]
    }
   ],
   "source": [
    "x <- c(1,2)\n",
    "y <- matrix(1:4,nrow=2,ncol=2)\n",
    "z <- mtcars\n",
    "mylist <- list(x,y,z)\n",
    "names(mylist) <- c(\"vec\",\"mat\",\"df\")\n",
    "print(class(mylist))\n",
    "print(mylist)"
   ]
  },
  {
   "cell_type": "markdown",
   "metadata": {
    "slideshow": {
     "slide_type": "subslide"
    }
   },
   "source": [
    "- To get an element in a list, use `[[]]` or` $ `, and `[]`."
   ]
  },
  {
   "cell_type": "code",
   "execution_count": null,
   "metadata": {
    "slideshow": {
     "slide_type": "-"
    }
   },
   "outputs": [],
   "source": [
    "x <- c(1,2)\n",
    "y <- matrix(1:4,nrow=2,ncol=2)\n",
    "z <- mtcars\n",
    "mylist <- list(vec=x,mat=y,df=z) # assign names\n",
    "print(mylist[[2]]) # this returns mat\n",
    "print(mylist[[\"mat\"]]) # this returns mat\n",
    "print(mylist$mat) # this returns mat\n",
    "\n",
    "print(mylist$mat[,1]) # this returns the first column in mat"
   ]
  },
  {
   "cell_type": "markdown",
   "metadata": {
    "slideshow": {
     "slide_type": "subslide"
    }
   },
   "source": [
    "- To get the structure of a list, use `str()`.\n",
    "- To get the length of each element in a list, use `lengths()`.\n",
    "    - To get the length of the list, use `length()`."
   ]
  },
  {
   "cell_type": "code",
   "execution_count": 51,
   "metadata": {},
   "outputs": [
    {
     "name": "stdout",
     "output_type": "stream",
     "text": [
      "List of 3\n",
      " $ vec: num [1:2] 1 2\n",
      " $ mat: int [1:2, 1:2] 1 2 3 4\n",
      " $ df :'data.frame':\t32 obs. of  11 variables:\n",
      "  ..$ mpg : num [1:32] 21 21 22.8 21.4 18.7 18.1 14.3 24.4 22.8 19.2 ...\n",
      "  ..$ cyl : num [1:32] 6 6 4 6 8 6 8 4 4 6 ...\n",
      "  ..$ disp: num [1:32] 160 160 108 258 360 ...\n",
      "  ..$ hp  : num [1:32] 110 110 93 110 175 105 245 62 95 123 ...\n",
      "  ..$ drat: num [1:32] 3.9 3.9 3.85 3.08 3.15 2.76 3.21 3.69 3.92 3.92 ...\n",
      "  ..$ wt  : num [1:32] 2.62 2.88 2.32 3.21 3.44 ...\n",
      "  ..$ qsec: num [1:32] 16.5 17 18.6 19.4 17 ...\n",
      "  ..$ vs  : num [1:32] 0 0 1 1 0 1 0 1 1 1 ...\n",
      "  ..$ am  : num [1:32] 1 1 1 0 0 0 0 0 0 0 ...\n",
      "  ..$ gear: num [1:32] 4 4 4 3 3 3 3 4 4 4 ...\n",
      "  ..$ carb: num [1:32] 4 4 1 1 2 1 4 2 2 4 ...\n",
      "NULL\n",
      "vec mat  df \n",
      "  2   4  11 \n",
      "[1] 3\n"
     ]
    }
   ],
   "source": [
    "x <- c(1,2)\n",
    "y <- matrix(1:4,nrow=2,ncol=2)\n",
    "z <- mtcars\n",
    "mylist <- list(vec=x,mat=y,df=z)\n",
    "print(str(mylist))\n",
    "print(lengths(mylist))\n",
    "print(length(mylist))"
   ]
  },
  {
   "cell_type": "markdown",
   "metadata": {
    "slideshow": {
     "slide_type": "slide"
    }
   },
   "source": [
    "## 4. Functions and Packages\n",
    "- As in Python, there are many functions and packages.\n",
    "- You have already used some of the functions such as `print()`, `paste()`, `summary()`, `sum()`, and `subset()`.\n",
    "    - `builtins()` to get the list of built-in functions.\n",
    "- You can get a help document using `?` or `help()`."
   ]
  },
  {
   "cell_type": "code",
   "execution_count": 53,
   "metadata": {
    "slideshow": {
     "slide_type": "-"
    }
   },
   "outputs": [],
   "source": [
    "?print"
   ]
  },
  {
   "cell_type": "markdown",
   "metadata": {
    "slideshow": {
     "slide_type": "subslide"
    }
   },
   "source": [
    "- Packages contain functions, data, etc.\n",
    "- There are 12,649 packages (as of 2018/06/26) in  [CRAN](https://cran.r-project.org/).\n",
    "- To install a package, use `install.packages()`. You can use `c()` to install multiple packages.\n",
    "- Installed packages can be loaded using `library()`.\n",
    "<!--\n",
    "    - Type `.libPaths()` to check where packages are stored.\n",
    "    - If no path to `Anaconda3/Lib/R/library` is found, type\n",
    "```python\n",
    ".libPaths(\"C:/[path_to_the_folder]/Anaconda3/Lib/R/library\")\n",
    "```\n",
    "to set the path. You have to specify the path to your local directory.\n",
    "    - Then type the following:\n",
    "-->"
   ]
  },
  {
   "cell_type": "code",
   "execution_count": 54,
   "metadata": {
    "slideshow": {
     "slide_type": "-"
    }
   },
   "outputs": [
    {
     "name": "stderr",
     "output_type": "stream",
     "text": [
      "Installing packages into 'C:/Users/satos/Documents/R/win-library/3.5'\n",
      "(as 'lib' is unspecified)\n",
      "also installing the dependencies 'colorspace', 'assertthat', 'utf8', 'RColorBrewer', 'dichromat', 'munsell', 'labeling', 'cli', 'pillar', 'gtable', 'lazyeval', 'plyr', 'reshape2', 'rlang', 'scales', 'tibble', 'viridisLite'\n",
      "\n"
     ]
    },
    {
     "name": "stdout",
     "output_type": "stream",
     "text": [
      "package 'colorspace' successfully unpacked and MD5 sums checked\n",
      "package 'assertthat' successfully unpacked and MD5 sums checked\n",
      "package 'utf8' successfully unpacked and MD5 sums checked\n",
      "package 'RColorBrewer' successfully unpacked and MD5 sums checked\n",
      "package 'dichromat' successfully unpacked and MD5 sums checked\n",
      "package 'munsell' successfully unpacked and MD5 sums checked\n",
      "package 'labeling' successfully unpacked and MD5 sums checked\n",
      "package 'cli' successfully unpacked and MD5 sums checked\n",
      "package 'pillar' successfully unpacked and MD5 sums checked\n",
      "package 'gtable' successfully unpacked and MD5 sums checked\n",
      "package 'lazyeval' successfully unpacked and MD5 sums checked\n",
      "package 'plyr' successfully unpacked and MD5 sums checked\n",
      "package 'reshape2' successfully unpacked and MD5 sums checked\n",
      "package 'rlang' successfully unpacked and MD5 sums checked\n",
      "package 'scales' successfully unpacked and MD5 sums checked\n",
      "package 'tibble' successfully unpacked and MD5 sums checked\n",
      "package 'viridisLite' successfully unpacked and MD5 sums checked\n",
      "package 'ggplot2' successfully unpacked and MD5 sums checked\n",
      "package 'foreign' successfully unpacked and MD5 sums checked\n",
      "\n",
      "The downloaded binary packages are in\n",
      "\tC:\\Users\\satos\\AppData\\Local\\Temp\\Rtmp0A2snu\\downloaded_packages\n"
     ]
    },
    {
     "name": "stderr",
     "output_type": "stream",
     "text": [
      "Warning message:\n",
      "\"package 'ggplot2' was built under R version 3.5.1\""
     ]
    }
   ],
   "source": [
    "install.packages(c(\"ggplot2\",\"foreign\"),repos='http://cran.us.r-project.org')\n",
    "library(ggplot2)"
   ]
  },
  {
   "cell_type": "markdown",
   "metadata": {
    "slideshow": {
     "slide_type": "subslide"
    }
   },
   "source": [
    "- To check functions in a package, use `lsf.str()` or `ls()`."
   ]
  },
  {
   "cell_type": "code",
   "execution_count": 55,
   "metadata": {
    "slideshow": {
     "slide_type": "-"
    }
   },
   "outputs": [
    {
     "data": {
      "text/plain": [
       "%+% : function (e1, e2)  \n",
       "%+replace% : function (e1, e2)  \n",
       "aes : function (x, y, ...)  \n",
       "aes_ : function (x, y, ...)  \n",
       "aes_all : function (vars)  \n",
       "aes_auto : function (data = NULL, ...)  \n",
       "aes_q : function (x, y, ...)  \n",
       "aes_string : function (x, y, ...)  \n",
       "alpha : function (colour, alpha = NA)  \n",
       "annotate : function (geom, x = NULL, y = NULL, xmin = NULL, xmax = NULL, ymin = NULL, \n",
       "    ymax = NULL, xend = NULL, yend = NULL, ..., na.rm = FALSE)  \n",
       "annotation_custom : function (grob, xmin = -Inf, xmax = Inf, ymin = -Inf, ymax = Inf)  \n",
       "annotation_logticks : function (base = 10, sides = \"bl\", scaled = TRUE, short = unit(0.1, \"cm\"), \n",
       "    mid = unit(0.2, \"cm\"), long = unit(0.3, \"cm\"), colour = \"black\", size = 0.5, \n",
       "    linetype = 1, alpha = 1, color = NULL, ...)  \n",
       "annotation_map : function (map, ...)  \n",
       "annotation_raster : function (raster, xmin, xmax, ymin, ymax, interpolate = FALSE)  \n",
       "arrow : function (angle = 30, length = unit(0.25, \"inches\"), ends = \"last\", type = \"open\")  \n",
       "as_labeller : function (x, default = label_value, multi_line = TRUE)  \n",
       "autolayer : function (object, ...)  \n",
       "autoplot : function (object, ...)  \n",
       "benchplot : function (x)  \n",
       "borders : function (database = \"world\", regions = \".\", fill = NA, colour = \"grey50\", \n",
       "    xlim = NULL, ylim = NULL, ...)  \n",
       "calc_element : function (element, theme, verbose = FALSE)  \n",
       "combine_vars : function (data, env = emptyenv(), vars = NULL, drop = TRUE)  \n",
       "continuous_scale : function (aesthetics, scale_name, palette, name = waiver(), breaks = waiver(), \n",
       "    minor_breaks = waiver(), labels = waiver(), limits = NULL, rescaler = rescale, \n",
       "    oob = censor, expand = waiver(), na.value = NA_real_, trans = \"identity\", \n",
       "    guide = \"legend\", position = \"left\", super = ScaleContinuous)  \n",
       "coord_cartesian : function (xlim = NULL, ylim = NULL, expand = TRUE, default = FALSE, clip = \"on\")  \n",
       "coord_equal : function (ratio = 1, xlim = NULL, ylim = NULL, expand = TRUE, clip = \"on\")  \n",
       "coord_fixed : function (ratio = 1, xlim = NULL, ylim = NULL, expand = TRUE, clip = \"on\")  \n",
       "coord_flip : function (xlim = NULL, ylim = NULL, expand = TRUE, clip = \"on\")  \n",
       "coord_map : function (projection = \"mercator\", ..., parameters = NULL, orientation = NULL, \n",
       "    xlim = NULL, ylim = NULL, clip = \"on\")  \n",
       "coord_munch : function (coord, data, range, segment_length = 0.01)  \n",
       "coord_polar : function (theta = \"x\", start = 0, direction = 1, clip = \"on\")  \n",
       "coord_quickmap : function (xlim = NULL, ylim = NULL, expand = TRUE, clip = \"on\")  \n",
       "coord_sf : function (xlim = NULL, ylim = NULL, expand = TRUE, crs = NULL, datum = sf::st_crs(4326), \n",
       "    ndiscr = 100, default = FALSE)  \n",
       "coord_trans : function (x = \"identity\", y = \"identity\", limx = NULL, limy = NULL, clip = \"on\", \n",
       "    xtrans, ytrans)  \n",
       "cut_interval : function (x, n = NULL, length = NULL, ...)  \n",
       "cut_number : function (x, n = NULL, ...)  \n",
       "cut_width : function (x, width, center = NULL, boundary = NULL, closed = c(\"right\", \n",
       "    \"left\"))  \n",
       "derive : function ()  \n",
       "discrete_scale : function (aesthetics, scale_name, palette, name = waiver(), breaks = waiver(), \n",
       "    labels = waiver(), limits = NULL, expand = waiver(), na.translate = TRUE, \n",
       "    na.value = NA, drop = TRUE, guide = \"legend\", position = \"left\", super = ScaleDiscrete)  \n",
       "draw_key_abline : function (data, params, size)  \n",
       "draw_key_blank : function (data, params, size)  \n",
       "draw_key_boxplot : function (data, params, size)  \n",
       "draw_key_crossbar : function (data, params, size)  \n",
       "draw_key_dotplot : function (data, params, size)  \n",
       "draw_key_label : function (data, params, size)  \n",
       "draw_key_path : function (data, params, size)  \n",
       "draw_key_point : function (data, params, size)  \n",
       "draw_key_pointrange : function (data, params, size)  \n",
       "draw_key_polygon : function (data, params, size)  \n",
       "draw_key_rect : function (data, params, size)  \n",
       "draw_key_smooth : function (data, params, size)  \n",
       "draw_key_text : function (data, params, size)  \n",
       "draw_key_vline : function (data, params, size)  \n",
       "draw_key_vpath : function (data, params, size)  \n",
       "dup_axis : function (trans = ~., name = derive(), breaks = derive(), labels = derive())  \n",
       "element_blank : function ()  \n",
       "element_grob : function (element, ...)  \n",
       "element_line : function (colour = NULL, size = NULL, linetype = NULL, lineend = NULL, \n",
       "    color = NULL, arrow = NULL, inherit.blank = FALSE)  \n",
       "element_rect : function (fill = NULL, colour = NULL, size = NULL, linetype = NULL, color = NULL, \n",
       "    inherit.blank = FALSE)  \n",
       "element_text : function (family = NULL, face = NULL, colour = NULL, size = NULL, hjust = NULL, \n",
       "    vjust = NULL, angle = NULL, lineheight = NULL, color = NULL, margin = NULL, \n",
       "    debug = NULL, inherit.blank = FALSE)  \n",
       "enexpr : function (arg)  \n",
       "enexprs : function (..., .named = FALSE, .ignore_empty = c(\"trailing\", \"none\", \"all\"), \n",
       "    .unquote_names = TRUE)  \n",
       "enquo : function (arg)  \n",
       "enquos : function (..., .named = FALSE, .ignore_empty = c(\"trailing\", \"none\", \"all\"), \n",
       "    .unquote_names = TRUE)  \n",
       "ensym : function (arg)  \n",
       "ensyms : function (..., .named = FALSE, .ignore_empty = c(\"trailing\", \"none\", \"all\"), \n",
       "    .unquote_names = TRUE)  \n",
       "expand_limits : function (...)  \n",
       "expand_scale : function (mult = 0, add = 0)  \n",
       "expr : function (expr)  \n",
       "facet_grid : function (rows = NULL, cols = NULL, scales = \"fixed\", space = \"fixed\", \n",
       "    shrink = TRUE, labeller = \"label_value\", as.table = TRUE, switch = NULL, \n",
       "    drop = TRUE, margins = FALSE, facets = NULL)  \n",
       "facet_null : function (shrink = TRUE)  \n",
       "facet_wrap : function (facets, nrow = NULL, ncol = NULL, scales = \"fixed\", shrink = TRUE, \n",
       "    labeller = \"label_value\", as.table = TRUE, switch = NULL, drop = TRUE, \n",
       "    dir = \"h\", strip.position = \"top\")  \n",
       "find_panel : function (table)  \n",
       "fortify : function (model, data, ...)  \n",
       "geom_abline : function (mapping = NULL, data = NULL, ..., slope, intercept, na.rm = FALSE, \n",
       "    show.legend = NA)  \n",
       "geom_area : function (mapping = NULL, data = NULL, stat = \"identity\", position = \"stack\", \n",
       "    na.rm = FALSE, show.legend = NA, inherit.aes = TRUE, ...)  \n",
       "geom_bar : function (mapping = NULL, data = NULL, stat = \"count\", position = \"stack\", \n",
       "    ..., width = NULL, binwidth = NULL, na.rm = FALSE, show.legend = NA, \n",
       "    inherit.aes = TRUE)  \n",
       "geom_bin2d : function (mapping = NULL, data = NULL, stat = \"bin2d\", position = \"identity\", \n",
       "    ..., na.rm = FALSE, show.legend = NA, inherit.aes = TRUE)  \n",
       "geom_blank : function (mapping = NULL, data = NULL, stat = \"identity\", position = \"identity\", \n",
       "    ..., show.legend = NA, inherit.aes = TRUE)  \n",
       "geom_boxplot : function (mapping = NULL, data = NULL, stat = \"boxplot\", position = \"dodge2\", \n",
       "    ..., outlier.colour = NULL, outlier.color = NULL, outlier.fill = NULL, \n",
       "    outlier.shape = 19, outlier.size = 1.5, outlier.stroke = 0.5, outlier.alpha = NULL, \n",
       "    notch = FALSE, notchwidth = 0.5, varwidth = FALSE, na.rm = FALSE, show.legend = NA, \n",
       "    inherit.aes = TRUE)  \n",
       "geom_col : function (mapping = NULL, data = NULL, position = \"stack\", ..., width = NULL, \n",
       "    na.rm = FALSE, show.legend = NA, inherit.aes = TRUE)  \n",
       "geom_contour : function (mapping = NULL, data = NULL, stat = \"contour\", position = \"identity\", \n",
       "    ..., lineend = \"butt\", linejoin = \"round\", linemitre = 10, na.rm = FALSE, \n",
       "    show.legend = NA, inherit.aes = TRUE)  \n",
       "geom_count : function (mapping = NULL, data = NULL, stat = \"sum\", position = \"identity\", \n",
       "    ..., na.rm = FALSE, show.legend = NA, inherit.aes = TRUE)  \n",
       "geom_crossbar : function (mapping = NULL, data = NULL, stat = \"identity\", position = \"identity\", \n",
       "    ..., fatten = 2.5, na.rm = FALSE, show.legend = NA, inherit.aes = TRUE)  \n",
       "geom_curve : function (mapping = NULL, data = NULL, stat = \"identity\", position = \"identity\", \n",
       "    ..., curvature = 0.5, angle = 90, ncp = 5, arrow = NULL, arrow.fill = NULL, \n",
       "    lineend = \"butt\", na.rm = FALSE, show.legend = NA, inherit.aes = TRUE)  \n",
       "geom_density : function (mapping = NULL, data = NULL, stat = \"density\", position = \"identity\", \n",
       "    ..., na.rm = FALSE, show.legend = NA, inherit.aes = TRUE)  \n",
       "geom_density_2d : function (mapping = NULL, data = NULL, stat = \"density2d\", position = \"identity\", \n",
       "    ..., lineend = \"butt\", linejoin = \"round\", linemitre = 10, na.rm = FALSE, \n",
       "    show.legend = NA, inherit.aes = TRUE)  \n",
       "geom_density2d : function (mapping = NULL, data = NULL, stat = \"density2d\", position = \"identity\", \n",
       "    ..., lineend = \"butt\", linejoin = \"round\", linemitre = 10, na.rm = FALSE, \n",
       "    show.legend = NA, inherit.aes = TRUE)  \n",
       "geom_dotplot : function (mapping = NULL, data = NULL, position = \"identity\", ..., binwidth = NULL, \n",
       "    binaxis = \"x\", method = \"dotdensity\", binpositions = \"bygroup\", stackdir = \"up\", \n",
       "    stackratio = 1, dotsize = 1, stackgroups = FALSE, origin = NULL, right = TRUE, \n",
       "    width = 0.9, drop = FALSE, na.rm = FALSE, show.legend = NA, inherit.aes = TRUE)  \n",
       "geom_errorbar : function (mapping = NULL, data = NULL, stat = \"identity\", position = \"identity\", \n",
       "    ..., na.rm = FALSE, show.legend = NA, inherit.aes = TRUE)  \n",
       "geom_errorbarh : function (mapping = NULL, data = NULL, stat = \"identity\", position = \"identity\", \n",
       "    ..., na.rm = FALSE, show.legend = NA, inherit.aes = TRUE)  \n",
       "geom_freqpoly : function (mapping = NULL, data = NULL, stat = \"bin\", position = \"identity\", \n",
       "    ..., na.rm = FALSE, show.legend = NA, inherit.aes = TRUE)  \n",
       "geom_hex : function (mapping = NULL, data = NULL, stat = \"binhex\", position = \"identity\", \n",
       "    ..., na.rm = FALSE, show.legend = NA, inherit.aes = TRUE)  \n",
       "geom_histogram : function (mapping = NULL, data = NULL, stat = \"bin\", position = \"stack\", \n",
       "    ..., binwidth = NULL, bins = NULL, na.rm = FALSE, show.legend = NA, \n",
       "    inherit.aes = TRUE)  \n",
       "geom_hline : function (mapping = NULL, data = NULL, ..., yintercept, na.rm = FALSE, \n",
       "    show.legend = NA)  \n",
       "geom_jitter : function (mapping = NULL, data = NULL, stat = \"identity\", position = \"jitter\", \n",
       "    ..., width = NULL, height = NULL, na.rm = FALSE, show.legend = NA, \n",
       "    inherit.aes = TRUE)  \n",
       "geom_label : function (mapping = NULL, data = NULL, stat = \"identity\", position = \"identity\", \n",
       "    ..., parse = FALSE, nudge_x = 0, nudge_y = 0, label.padding = unit(0.25, \n",
       "        \"lines\"), label.r = unit(0.15, \"lines\"), label.size = 0.25, na.rm = FALSE, \n",
       "    show.legend = NA, inherit.aes = TRUE)  \n",
       "geom_line : function (mapping = NULL, data = NULL, stat = \"identity\", position = \"identity\", \n",
       "    na.rm = FALSE, show.legend = NA, inherit.aes = TRUE, ...)  \n",
       "geom_linerange : function (mapping = NULL, data = NULL, stat = \"identity\", position = \"identity\", \n",
       "    ..., na.rm = FALSE, show.legend = NA, inherit.aes = TRUE)  \n",
       "geom_map : function (mapping = NULL, data = NULL, stat = \"identity\", ..., map, na.rm = FALSE, \n",
       "    show.legend = NA, inherit.aes = TRUE)  \n",
       "geom_path : function (mapping = NULL, data = NULL, stat = \"identity\", position = \"identity\", \n",
       "    ..., lineend = \"butt\", linejoin = \"round\", linemitre = 10, arrow = NULL, \n",
       "    na.rm = FALSE, show.legend = NA, inherit.aes = TRUE)  \n",
       "geom_point : function (mapping = NULL, data = NULL, stat = \"identity\", position = \"identity\", \n",
       "    ..., na.rm = FALSE, show.legend = NA, inherit.aes = TRUE)  \n",
       "geom_pointrange : function (mapping = NULL, data = NULL, stat = \"identity\", position = \"identity\", \n",
       "    ..., fatten = 4, na.rm = FALSE, show.legend = NA, inherit.aes = TRUE)  \n",
       "geom_polygon : function (mapping = NULL, data = NULL, stat = \"identity\", position = \"identity\", \n",
       "    ..., na.rm = FALSE, show.legend = NA, inherit.aes = TRUE)  \n",
       "geom_qq : function (mapping = NULL, data = NULL, geom = \"point\", position = \"identity\", \n",
       "    ..., distribution = stats::qnorm, dparams = list(), na.rm = FALSE, \n",
       "    show.legend = NA, inherit.aes = TRUE)  \n",
       "geom_qq_line : function (mapping = NULL, data = NULL, geom = \"path\", position = \"identity\", \n",
       "    ..., distribution = stats::qnorm, dparams = list(), line.p = c(0.25, \n",
       "        0.75), fullrange = FALSE, na.rm = FALSE, show.legend = NA, inherit.aes = TRUE)  \n",
       "geom_quantile : function (mapping = NULL, data = NULL, stat = \"quantile\", position = \"identity\", \n",
       "    ..., lineend = \"butt\", linejoin = \"round\", linemitre = 10, na.rm = FALSE, \n",
       "    show.legend = NA, inherit.aes = TRUE)  \n",
       "geom_raster : function (mapping = NULL, data = NULL, stat = \"identity\", position = \"identity\", \n",
       "    ..., hjust = 0.5, vjust = 0.5, interpolate = FALSE, na.rm = FALSE, \n",
       "    show.legend = NA, inherit.aes = TRUE)  \n",
       "geom_rect : function (mapping = NULL, data = NULL, stat = \"identity\", position = \"identity\", \n",
       "    ..., na.rm = FALSE, show.legend = NA, inherit.aes = TRUE)  \n",
       "geom_ribbon : function (mapping = NULL, data = NULL, stat = \"identity\", position = \"identity\", \n",
       "    ..., na.rm = FALSE, show.legend = NA, inherit.aes = TRUE)  \n",
       "geom_rug : function (mapping = NULL, data = NULL, stat = \"identity\", position = \"identity\", \n",
       "    ..., sides = \"bl\", na.rm = FALSE, show.legend = NA, inherit.aes = TRUE)  \n",
       "geom_segment : function (mapping = NULL, data = NULL, stat = \"identity\", position = \"identity\", \n",
       "    ..., arrow = NULL, arrow.fill = NULL, lineend = \"butt\", linejoin = \"round\", \n",
       "    na.rm = FALSE, show.legend = NA, inherit.aes = TRUE)  \n",
       "geom_sf : function (mapping = aes(), data = NULL, stat = \"sf\", position = \"identity\", \n",
       "    na.rm = FALSE, show.legend = NA, inherit.aes = TRUE, ...)  \n",
       "geom_smooth : function (mapping = NULL, data = NULL, stat = \"smooth\", position = \"identity\", \n",
       "    ..., method = \"auto\", formula = y ~ x, se = TRUE, na.rm = FALSE, show.legend = NA, \n",
       "    inherit.aes = TRUE)  \n",
       "geom_spoke : function (mapping = NULL, data = NULL, stat = \"identity\", position = \"identity\", \n",
       "    ..., na.rm = FALSE, show.legend = NA, inherit.aes = TRUE)  \n",
       "geom_step : function (mapping = NULL, data = NULL, stat = \"identity\", position = \"identity\", \n",
       "    direction = \"hv\", na.rm = FALSE, show.legend = NA, inherit.aes = TRUE, \n",
       "    ...)  \n",
       "geom_text : function (mapping = NULL, data = NULL, stat = \"identity\", position = \"identity\", \n",
       "    ..., parse = FALSE, nudge_x = 0, nudge_y = 0, check_overlap = FALSE, \n",
       "    na.rm = FALSE, show.legend = NA, inherit.aes = TRUE)  \n",
       "geom_tile : function (mapping = NULL, data = NULL, stat = \"identity\", position = \"identity\", \n",
       "    ..., na.rm = FALSE, show.legend = NA, inherit.aes = TRUE)  \n",
       "geom_violin : function (mapping = NULL, data = NULL, stat = \"ydensity\", position = \"dodge\", \n",
       "    ..., draw_quantiles = NULL, trim = TRUE, scale = \"area\", na.rm = FALSE, \n",
       "    show.legend = NA, inherit.aes = TRUE)  \n",
       "geom_vline : function (mapping = NULL, data = NULL, ..., xintercept, na.rm = FALSE, \n",
       "    show.legend = NA)  \n",
       "gg_dep : function (version, msg)  \n",
       "ggplot : function (data = NULL, mapping = aes(), ..., environment = parent.frame())  \n",
       "ggplot_add : function (object, plot, object_name)  \n",
       "ggplot_build : function (plot)  \n",
       "ggplot_gtable : function (data)  \n",
       "ggplotGrob : function (x)  \n",
       "ggproto : function (`_class` = NULL, `_inherit` = NULL, ...)  \n",
       "ggproto_parent : function (parent, self)  \n",
       "ggsave : function (filename, plot = last_plot(), device = NULL, path = NULL, scale = 1, \n",
       "    width = NA, height = NA, units = c(\"in\", \"cm\", \"mm\"), dpi = 300, limitsize = TRUE, \n",
       "    ...)  \n",
       "ggtitle : function (label, subtitle = NULL)  \n",
       "guide_colorbar : function (title = waiver(), title.position = NULL, title.theme = NULL, \n",
       "    title.hjust = NULL, title.vjust = NULL, label = TRUE, label.position = NULL, \n",
       "    label.theme = NULL, label.hjust = NULL, label.vjust = NULL, barwidth = NULL, \n",
       "    barheight = NULL, nbin = 20, raster = TRUE, frame.colour = NULL, frame.linewidth = 0.5, \n",
       "    frame.linetype = 1, ticks = TRUE, ticks.colour = \"white\", ticks.linewidth = 0.5, \n",
       "    draw.ulim = TRUE, draw.llim = TRUE, direction = NULL, default.unit = \"line\", \n",
       "    reverse = FALSE, order = 0, available_aes = c(\"colour\", \"color\", \"fill\"), \n",
       "    ...)  \n",
       "guide_colourbar : function (title = waiver(), title.position = NULL, title.theme = NULL, \n",
       "    title.hjust = NULL, title.vjust = NULL, label = TRUE, label.position = NULL, \n",
       "    label.theme = NULL, label.hjust = NULL, label.vjust = NULL, barwidth = NULL, \n",
       "    barheight = NULL, nbin = 20, raster = TRUE, frame.colour = NULL, frame.linewidth = 0.5, \n",
       "    frame.linetype = 1, ticks = TRUE, ticks.colour = \"white\", ticks.linewidth = 0.5, \n",
       "    draw.ulim = TRUE, draw.llim = TRUE, direction = NULL, default.unit = \"line\", \n",
       "    reverse = FALSE, order = 0, available_aes = c(\"colour\", \"color\", \"fill\"), \n",
       "    ...)  \n",
       "guide_gengrob : function (guide, theme)  \n",
       "guide_geom : function (guide, layers, default_mapping)  \n",
       "guide_legend : function (title = waiver(), title.position = NULL, title.theme = NULL, \n",
       "    title.hjust = NULL, title.vjust = NULL, label = TRUE, label.position = NULL, \n",
       "    label.theme = NULL, label.hjust = NULL, label.vjust = NULL, keywidth = NULL, \n",
       "    keyheight = NULL, direction = NULL, default.unit = \"line\", override.aes = list(), \n",
       "    nrow = NULL, ncol = NULL, byrow = FALSE, reverse = FALSE, order = 0, \n",
       "    ...)  \n",
       "guide_merge : function (guide, new_guide)  \n",
       "guide_train : function (guide, scale, aesthetic = NULL)  \n",
       "guides : function (...)  \n",
       "is.Coord : function (x)  \n",
       "is.facet : function (x)  \n",
       "is.ggplot : function (x)  \n",
       "is.ggproto : function (x)  \n",
       "is.theme : function (x)  \n",
       "label_both : function (labels, multi_line = TRUE, sep = \": \")  \n",
       "label_bquote : function (rows = NULL, cols = NULL, default = label_value)  \n",
       "label_context : function (labels, multi_line = TRUE, sep = \": \")  \n",
       "label_parsed : function (labels, multi_line = TRUE)  \n",
       "label_value : function (labels, multi_line = TRUE)  \n",
       "label_wrap_gen : function (width = 25, multi_line = TRUE)  \n",
       "labeller : function (..., .rows = NULL, .cols = NULL, keep.as.numeric = NULL, .multi_line = TRUE, \n",
       "    .default = label_value)  \n",
       "labs : function (...)  \n",
       "last_plot : function ()  \n",
       "layer : function (geom = NULL, stat = NULL, data = NULL, mapping = NULL, position = NULL, \n",
       "    params = list(), inherit.aes = TRUE, check.aes = TRUE, check.param = TRUE, \n",
       "    show.legend = NA)  \n",
       "layer_data : function (plot, i = 1L)  \n",
       "layer_grob : function (plot, i = 1L)  \n",
       "layer_scales : function (plot, i = 1L, j = 1L)  \n",
       "lims : function (...)  \n",
       "map_data : function (map, region = \".\", exact = FALSE, ...)  \n",
       "margin : function (t = 0, r = 0, b = 0, l = 0, unit = \"pt\")  \n",
       "max_height : function (grobs)  \n",
       "max_width : function (grobs)  \n",
       "mean_cl_boot : function (x, ...)  \n",
       "mean_cl_normal : function (x, ...)  \n",
       "mean_sdl : function (x, ...)  \n",
       "mean_se : function (x, mult = 1)  \n",
       "median_hilow : function (x, ...)  \n",
       "merge_element : function (new, old)  \n",
       "panel_cols : function (table)  \n",
       "panel_rows : function (table)  \n",
       "position_dodge : function (width = NULL, preserve = c(\"total\", \"single\"))  \n",
       "position_dodge2 : function (width = NULL, preserve = c(\"total\", \"single\"), padding = 0.1, \n",
       "    reverse = FALSE)  \n",
       "position_fill : function (vjust = 1, reverse = FALSE)  \n",
       "position_identity : function ()  \n",
       "position_jitter : function (width = NULL, height = NULL, seed = NA)  \n",
       "position_jitterdodge : function (jitter.width = NULL, jitter.height = 0, dodge.width = 0.75, seed = NA)  \n",
       "position_nudge : function (x = 0, y = 0)  \n",
       "position_stack : function (vjust = 1, reverse = FALSE)  \n",
       "qplot : function (x, y, ..., data, facets = NULL, margins = FALSE, geom = \"auto\", \n",
       "    xlim = c(NA, NA), ylim = c(NA, NA), log = \"\", main = NULL, xlab = NULL, \n",
       "    ylab = NULL, asp = NA, stat = NULL, position = NULL)  \n",
       "quickplot : function (x, y, ..., data, facets = NULL, margins = FALSE, geom = \"auto\", \n",
       "    xlim = c(NA, NA), ylim = c(NA, NA), log = \"\", main = NULL, xlab = NULL, \n",
       "    ylab = NULL, asp = NA, stat = NULL, position = NULL)  \n",
       "quo : function (expr)  \n",
       "quo_name : function (quo)  \n",
       "quos : function (..., .named = FALSE, .ignore_empty = c(\"trailing\", \"none\", \"all\"), \n",
       "    .unquote_names = TRUE)  \n",
       "rel : function (x)  \n",
       "remove_missing : function (df, na.rm = FALSE, vars = names(df), name = \"\", finite = FALSE)  \n",
       "render_axes : function (x = NULL, y = NULL, coord, theme, transpose = FALSE)  \n",
       "render_strips : function (x = NULL, y = NULL, labeller, theme)  \n",
       "resolution : function (x, zero = TRUE)  \n",
       "scale_alpha : function (..., range = c(0.1, 1))  \n",
       "scale_alpha_continuous : function (..., range = c(0.1, 1))  \n",
       "scale_alpha_date : function (..., range = c(0.1, 1))  \n",
       "scale_alpha_datetime : function (..., range = c(0.1, 1))  \n",
       "scale_alpha_discrete : function (...)  \n",
       "scale_alpha_identity : function (..., guide = \"none\")  \n",
       "scale_alpha_manual : function (..., values)  \n",
       "scale_alpha_ordinal : function (..., range = c(0.1, 1))  \n",
       "scale_color_brewer : function (..., type = \"seq\", palette = 1, direction = 1, aesthetics = \"colour\")  \n",
       "scale_color_continuous : function (..., low = \"#132B43\", high = \"#56B1F7\", space = \"Lab\", na.value = \"grey50\", \n",
       "    guide = \"colourbar\", aesthetics = \"colour\")  \n",
       "scale_color_discrete : function (..., h = c(0, 360) + 15, c = 100, l = 65, h.start = 0, direction = 1, \n",
       "    na.value = \"grey50\", aesthetics = \"colour\")  \n",
       "scale_color_distiller : function (..., type = \"seq\", palette = 1, direction = -1, values = NULL, \n",
       "    space = \"Lab\", na.value = \"grey50\", guide = \"colourbar\", aesthetics = \"colour\")  \n",
       "scale_color_gradient : function (..., low = \"#132B43\", high = \"#56B1F7\", space = \"Lab\", na.value = \"grey50\", \n",
       "    guide = \"colourbar\", aesthetics = \"colour\")  \n",
       "scale_color_gradient2 : function (..., low = muted(\"red\"), mid = \"white\", high = muted(\"blue\"), \n",
       "    midpoint = 0, space = \"Lab\", na.value = \"grey50\", guide = \"colourbar\", \n",
       "    aesthetics = \"colour\")  \n",
       "scale_color_gradientn : function (..., colours, values = NULL, space = \"Lab\", na.value = \"grey50\", \n",
       "    guide = \"colourbar\", aesthetics = \"colour\", colors)  \n",
       "scale_color_grey : function (..., start = 0.2, end = 0.8, na.value = \"red\", aesthetics = \"colour\")  \n",
       "scale_color_hue : function (..., h = c(0, 360) + 15, c = 100, l = 65, h.start = 0, direction = 1, \n",
       "    na.value = \"grey50\", aesthetics = \"colour\")  \n",
       "scale_color_identity : function (..., guide = \"none\", aesthetics = \"colour\")  \n",
       "scale_color_manual : function (..., values, aesthetics = \"colour\")  \n",
       "scale_color_viridis_c : function (..., alpha = 1, begin = 0, end = 1, direction = 1, option = \"D\", \n",
       "    values = NULL, space = \"Lab\", na.value = \"grey50\", guide = \"colourbar\", \n",
       "    aesthetics = \"colour\")  \n",
       "scale_color_viridis_d : function (..., alpha = 1, begin = 0, end = 1, direction = 1, option = \"D\", \n",
       "    aesthetics = \"colour\")  \n",
       "scale_colour_brewer : function (..., type = \"seq\", palette = 1, direction = 1, aesthetics = \"colour\")  \n",
       "scale_colour_continuous : function (..., type = getOption(\"ggplot2.continuous.colour\", default = \"gradient\"))  \n",
       "scale_colour_date : function (..., low = \"#132B43\", high = \"#56B1F7\", space = \"Lab\", na.value = \"grey50\", \n",
       "    guide = \"colourbar\")  \n",
       "scale_colour_datetime : function (..., low = \"#132B43\", high = \"#56B1F7\", space = \"Lab\", na.value = \"grey50\", \n",
       "    guide = \"colourbar\")  \n",
       "scale_colour_discrete : function (..., h = c(0, 360) + 15, c = 100, l = 65, h.start = 0, direction = 1, \n",
       "    na.value = \"grey50\", aesthetics = \"colour\")  \n",
       "scale_colour_distiller : function (..., type = \"seq\", palette = 1, direction = -1, values = NULL, \n",
       "    space = \"Lab\", na.value = \"grey50\", guide = \"colourbar\", aesthetics = \"colour\")  \n",
       "scale_colour_gradient : function (..., low = \"#132B43\", high = \"#56B1F7\", space = \"Lab\", na.value = \"grey50\", \n",
       "    guide = \"colourbar\", aesthetics = \"colour\")  \n",
       "scale_colour_gradient2 : function (..., low = muted(\"red\"), mid = \"white\", high = muted(\"blue\"), \n",
       "    midpoint = 0, space = \"Lab\", na.value = \"grey50\", guide = \"colourbar\", \n",
       "    aesthetics = \"colour\")  \n",
       "scale_colour_gradientn : function (..., colours, values = NULL, space = \"Lab\", na.value = \"grey50\", \n",
       "    guide = \"colourbar\", aesthetics = \"colour\", colors)  \n",
       "scale_colour_grey : function (..., start = 0.2, end = 0.8, na.value = \"red\", aesthetics = \"colour\")  \n",
       "scale_colour_hue : function (..., h = c(0, 360) + 15, c = 100, l = 65, h.start = 0, direction = 1, \n",
       "    na.value = \"grey50\", aesthetics = \"colour\")  \n",
       "scale_colour_identity : function (..., guide = \"none\", aesthetics = \"colour\")  \n",
       "scale_colour_manual : function (..., values, aesthetics = \"colour\")  \n",
       "scale_colour_ordinal : function (..., alpha = 1, begin = 0, end = 1, direction = 1, option = \"D\", \n",
       "    aesthetics = \"colour\")  \n",
       "scale_colour_viridis_c : function (..., alpha = 1, begin = 0, end = 1, direction = 1, option = \"D\", \n",
       "    values = NULL, space = \"Lab\", na.value = \"grey50\", guide = \"colourbar\", \n",
       "    aesthetics = \"colour\")  \n",
       "scale_colour_viridis_d : function (..., alpha = 1, begin = 0, end = 1, direction = 1, option = \"D\", \n",
       "    aesthetics = \"colour\")  \n",
       "scale_continuous_identity : function (aesthetics, ..., guide = \"none\")  \n",
       "scale_discrete_identity : function (aesthetics, ..., guide = \"none\")  \n",
       "scale_discrete_manual : function (aesthetics, ..., values)  \n",
       "scale_fill_brewer : function (..., type = \"seq\", palette = 1, direction = 1, aesthetics = \"fill\")  \n",
       "scale_fill_continuous : function (..., type = getOption(\"ggplot2.continuous.fill\", default = \"gradient\"))  \n",
       "scale_fill_date : function (..., low = \"#132B43\", high = \"#56B1F7\", space = \"Lab\", na.value = \"grey50\", \n",
       "    guide = \"colourbar\")  \n",
       "scale_fill_datetime : function (..., low = \"#132B43\", high = \"#56B1F7\", space = \"Lab\", na.value = \"grey50\", \n",
       "    guide = \"colourbar\")  \n",
       "scale_fill_discrete : function (..., h = c(0, 360) + 15, c = 100, l = 65, h.start = 0, direction = 1, \n",
       "    na.value = \"grey50\", aesthetics = \"fill\")  \n",
       "scale_fill_distiller : function (..., type = \"seq\", palette = 1, direction = -1, values = NULL, \n",
       "    space = \"Lab\", na.value = \"grey50\", guide = \"colourbar\", aesthetics = \"fill\")  \n",
       "scale_fill_gradient : function (..., low = \"#132B43\", high = \"#56B1F7\", space = \"Lab\", na.value = \"grey50\", \n",
       "    guide = \"colourbar\", aesthetics = \"fill\")  \n",
       "scale_fill_gradient2 : function (..., low = muted(\"red\"), mid = \"white\", high = muted(\"blue\"), \n",
       "    midpoint = 0, space = \"Lab\", na.value = \"grey50\", guide = \"colourbar\", \n",
       "    aesthetics = \"fill\")  \n",
       "scale_fill_gradientn : function (..., colours, values = NULL, space = \"Lab\", na.value = \"grey50\", \n",
       "    guide = \"colourbar\", aesthetics = \"fill\", colors)  \n",
       "scale_fill_grey : function (..., start = 0.2, end = 0.8, na.value = \"red\", aesthetics = \"fill\")  \n",
       "scale_fill_hue : function (..., h = c(0, 360) + 15, c = 100, l = 65, h.start = 0, direction = 1, \n",
       "    na.value = \"grey50\", aesthetics = \"fill\")  \n",
       "scale_fill_identity : function (..., guide = \"none\", aesthetics = \"fill\")  \n",
       "scale_fill_manual : function (..., values, aesthetics = \"fill\")  \n",
       "scale_fill_ordinal : function (..., alpha = 1, begin = 0, end = 1, direction = 1, option = \"D\", \n",
       "    aesthetics = \"fill\")  \n",
       "scale_fill_viridis_c : function (..., alpha = 1, begin = 0, end = 1, direction = 1, option = \"D\", \n",
       "    values = NULL, space = \"Lab\", na.value = \"grey50\", guide = \"colourbar\", \n",
       "    aesthetics = \"fill\")  \n",
       "scale_fill_viridis_d : function (..., alpha = 1, begin = 0, end = 1, direction = 1, option = \"D\", \n",
       "    aesthetics = \"fill\")  \n",
       "scale_linetype : function (..., na.value = \"blank\")  \n",
       "scale_linetype_continuous : function (...)  \n",
       "scale_linetype_discrete : function (..., na.value = \"blank\")  \n",
       "scale_linetype_identity : function (..., guide = \"none\")  \n",
       "scale_linetype_manual : function (..., values)  \n",
       "scale_radius : function (name = waiver(), breaks = waiver(), labels = waiver(), limits = NULL, \n",
       "    range = c(1, 6), trans = \"identity\", guide = \"legend\")  \n",
       "scale_shape : function (..., solid = TRUE)  \n",
       "scale_shape_continuous : function (...)  \n",
       "scale_shape_discrete : function (..., solid = TRUE)  \n",
       "scale_shape_identity : function (..., guide = \"none\")  \n",
       "scale_shape_manual : function (..., values)  \n",
       "scale_shape_ordinal : function (...)  \n",
       "scale_size : function (name = waiver(), breaks = waiver(), labels = waiver(), limits = NULL, \n",
       "    range = c(1, 6), trans = \"identity\", guide = \"legend\")  \n",
       "scale_size_area : function (..., max_size = 6)  \n",
       "scale_size_continuous : function (name = waiver(), breaks = waiver(), labels = waiver(), limits = NULL, \n",
       "    range = c(1, 6), trans = \"identity\", guide = \"legend\")  \n",
       "scale_size_date : function (..., range = c(1, 6))  \n",
       "scale_size_datetime : function (..., range = c(1, 6))  \n",
       "scale_size_discrete : function (...)  \n",
       "scale_size_identity : function (..., guide = \"none\")  \n",
       "scale_size_manual : function (..., values)  \n",
       "scale_size_ordinal : function (..., range = c(2, 6))  \n",
       "scale_type : function (x)  \n",
       "scale_x_continuous : function (name = waiver(), breaks = waiver(), minor_breaks = waiver(), \n",
       "    labels = waiver(), limits = NULL, expand = waiver(), oob = censor, \n",
       "    na.value = NA_real_, trans = \"identity\", position = \"bottom\", sec.axis = waiver())  \n",
       "scale_x_date : function (name = waiver(), breaks = waiver(), date_breaks = waiver(), labels = waiver(), \n",
       "    date_labels = waiver(), minor_breaks = waiver(), date_minor_breaks = waiver(), \n",
       "    limits = NULL, expand = waiver(), position = \"bottom\")  \n",
       "scale_x_datetime : function (name = waiver(), breaks = waiver(), date_breaks = waiver(), labels = waiver(), \n",
       "    date_labels = waiver(), minor_breaks = waiver(), date_minor_breaks = waiver(), \n",
       "    timezone = NULL, limits = NULL, expand = waiver(), position = \"bottom\")  \n",
       "scale_x_discrete : function (..., expand = waiver(), position = \"bottom\")  \n",
       "scale_x_log10 : function (...)  \n",
       "scale_x_reverse : function (...)  \n",
       "scale_x_sqrt : function (...)  \n",
       "scale_x_time : function (name = waiver(), breaks = waiver(), minor_breaks = waiver(), \n",
       "    labels = waiver(), limits = NULL, expand = waiver(), oob = censor, \n",
       "    na.value = NA_real_, position = \"bottom\")  \n",
       "scale_y_continuous : function (name = waiver(), breaks = waiver(), minor_breaks = waiver(), \n",
       "    labels = waiver(), limits = NULL, expand = waiver(), oob = censor, \n",
       "    na.value = NA_real_, trans = \"identity\", position = \"left\", sec.axis = waiver())  \n",
       "scale_y_date : function (name = waiver(), breaks = waiver(), date_breaks = waiver(), labels = waiver(), \n",
       "    date_labels = waiver(), minor_breaks = waiver(), date_minor_breaks = waiver(), \n",
       "    limits = NULL, expand = waiver(), position = \"left\")  \n",
       "scale_y_datetime : function (name = waiver(), breaks = waiver(), date_breaks = waiver(), labels = waiver(), \n",
       "    date_labels = waiver(), minor_breaks = waiver(), date_minor_breaks = waiver(), \n",
       "    timezone = NULL, limits = NULL, expand = waiver(), position = \"left\")  \n",
       "scale_y_discrete : function (..., expand = waiver(), position = \"left\")  \n",
       "scale_y_log10 : function (...)  \n",
       "scale_y_reverse : function (...)  \n",
       "scale_y_sqrt : function (...)  \n",
       "scale_y_time : function (name = waiver(), breaks = waiver(), minor_breaks = waiver(), \n",
       "    labels = waiver(), limits = NULL, expand = waiver(), oob = censor, \n",
       "    na.value = NA_real_, position = \"left\")  \n",
       "sec_axis : function (trans = NULL, name = waiver(), breaks = waiver(), labels = waiver())  \n",
       "set_last_plot : function (value)  \n",
       "should_stop : function (expr)  \n",
       "stat : function (x)  \n",
       "stat_bin : function (mapping = NULL, data = NULL, geom = \"bar\", position = \"stack\", \n",
       "    ..., binwidth = NULL, bins = NULL, center = NULL, boundary = NULL, \n",
       "    breaks = NULL, closed = c(\"right\", \"left\"), pad = FALSE, na.rm = FALSE, \n",
       "    show.legend = NA, inherit.aes = TRUE)  \n",
       "stat_bin_2d : function (mapping = NULL, data = NULL, geom = \"tile\", position = \"identity\", \n",
       "    ..., bins = 30, binwidth = NULL, drop = TRUE, na.rm = FALSE, show.legend = NA, \n",
       "    inherit.aes = TRUE)  \n",
       "stat_bin_hex : function (mapping = NULL, data = NULL, geom = \"hex\", position = \"identity\", \n",
       "    ..., bins = 30, binwidth = NULL, na.rm = FALSE, show.legend = NA, inherit.aes = TRUE)  \n",
       "stat_bin2d : function (mapping = NULL, data = NULL, geom = \"tile\", position = \"identity\", \n",
       "    ..., bins = 30, binwidth = NULL, drop = TRUE, na.rm = FALSE, show.legend = NA, \n",
       "    inherit.aes = TRUE)  \n",
       "stat_binhex : function (mapping = NULL, data = NULL, geom = \"hex\", position = \"identity\", \n",
       "    ..., bins = 30, binwidth = NULL, na.rm = FALSE, show.legend = NA, inherit.aes = TRUE)  \n",
       "stat_boxplot : function (mapping = NULL, data = NULL, geom = \"boxplot\", position = \"dodge2\", \n",
       "    ..., coef = 1.5, na.rm = FALSE, show.legend = NA, inherit.aes = TRUE)  \n",
       "stat_contour : function (mapping = NULL, data = NULL, geom = \"contour\", position = \"identity\", \n",
       "    ..., na.rm = FALSE, show.legend = NA, inherit.aes = TRUE)  \n",
       "stat_count : function (mapping = NULL, data = NULL, geom = \"bar\", position = \"stack\", \n",
       "    ..., width = NULL, na.rm = FALSE, show.legend = NA, inherit.aes = TRUE)  \n",
       "stat_density : function (mapping = NULL, data = NULL, geom = \"area\", position = \"stack\", \n",
       "    ..., bw = \"nrd0\", adjust = 1, kernel = \"gaussian\", n = 512, trim = FALSE, \n",
       "    na.rm = FALSE, show.legend = NA, inherit.aes = TRUE)  \n",
       "stat_density_2d : function (mapping = NULL, data = NULL, geom = \"density_2d\", position = \"identity\", \n",
       "    ..., contour = TRUE, n = 100, h = NULL, na.rm = FALSE, show.legend = NA, \n",
       "    inherit.aes = TRUE)  \n",
       "stat_density2d : function (mapping = NULL, data = NULL, geom = \"density_2d\", position = \"identity\", \n",
       "    ..., contour = TRUE, n = 100, h = NULL, na.rm = FALSE, show.legend = NA, \n",
       "    inherit.aes = TRUE)  \n",
       "stat_ecdf : function (mapping = NULL, data = NULL, geom = \"step\", position = \"identity\", \n",
       "    ..., n = NULL, pad = TRUE, na.rm = FALSE, show.legend = NA, inherit.aes = TRUE)  \n",
       "stat_ellipse : function (mapping = NULL, data = NULL, geom = \"path\", position = \"identity\", \n",
       "    ..., type = \"t\", level = 0.95, segments = 51, na.rm = FALSE, show.legend = NA, \n",
       "    inherit.aes = TRUE)  \n",
       "stat_function : function (mapping = NULL, data = NULL, geom = \"path\", position = \"identity\", \n",
       "    ..., fun, xlim = NULL, n = 101, args = list(), na.rm = FALSE, show.legend = NA, \n",
       "    inherit.aes = TRUE)  \n",
       "stat_identity : function (mapping = NULL, data = NULL, geom = \"point\", position = \"identity\", \n",
       "    ..., show.legend = NA, inherit.aes = TRUE)  \n",
       "stat_qq : function (mapping = NULL, data = NULL, geom = \"point\", position = \"identity\", \n",
       "    ..., distribution = stats::qnorm, dparams = list(), na.rm = FALSE, \n",
       "    show.legend = NA, inherit.aes = TRUE)  \n",
       "stat_qq_line : function (mapping = NULL, data = NULL, geom = \"path\", position = \"identity\", \n",
       "    ..., distribution = stats::qnorm, dparams = list(), line.p = c(0.25, \n",
       "        0.75), fullrange = FALSE, na.rm = FALSE, show.legend = NA, inherit.aes = TRUE)  \n",
       "stat_quantile : function (mapping = NULL, data = NULL, geom = \"quantile\", position = \"identity\", \n",
       "    ..., quantiles = c(0.25, 0.5, 0.75), formula = NULL, method = \"rq\", \n",
       "    method.args = list(), na.rm = FALSE, show.legend = NA, inherit.aes = TRUE)  \n",
       "stat_sf : function (mapping = NULL, data = NULL, geom = \"rect\", position = \"identity\", \n",
       "    na.rm = FALSE, show.legend = NA, inherit.aes = TRUE, ...)  \n",
       "stat_smooth : function (mapping = NULL, data = NULL, geom = \"smooth\", position = \"identity\", \n",
       "    ..., method = \"auto\", formula = y ~ x, se = TRUE, n = 80, span = 0.75, \n",
       "    fullrange = FALSE, level = 0.95, method.args = list(), na.rm = FALSE, \n",
       "    show.legend = NA, inherit.aes = TRUE)  \n",
       "stat_spoke : function (...)  \n",
       "stat_sum : function (mapping = NULL, data = NULL, geom = \"point\", position = \"identity\", \n",
       "    ..., na.rm = FALSE, show.legend = NA, inherit.aes = TRUE)  \n",
       "stat_summary : function (mapping = NULL, data = NULL, geom = \"pointrange\", position = \"identity\", \n",
       "    ..., fun.data = NULL, fun.y = NULL, fun.ymax = NULL, fun.ymin = NULL, \n",
       "    fun.args = list(), na.rm = FALSE, show.legend = NA, inherit.aes = TRUE)  \n",
       "stat_summary_2d : function (mapping = NULL, data = NULL, geom = \"tile\", position = \"identity\", \n",
       "    ..., bins = 30, binwidth = NULL, drop = TRUE, fun = \"mean\", fun.args = list(), \n",
       "    na.rm = FALSE, show.legend = NA, inherit.aes = TRUE)  \n",
       "stat_summary_bin : function (mapping = NULL, data = NULL, geom = \"pointrange\", position = \"identity\", \n",
       "    ..., fun.data = NULL, fun.y = NULL, fun.ymax = NULL, fun.ymin = NULL, \n",
       "    fun.args = list(), bins = 30, binwidth = NULL, breaks = NULL, na.rm = FALSE, \n",
       "    show.legend = NA, inherit.aes = TRUE)  \n",
       "stat_summary_hex : function (mapping = NULL, data = NULL, geom = \"hex\", position = \"identity\", \n",
       "    ..., bins = 30, binwidth = NULL, drop = TRUE, fun = \"mean\", fun.args = list(), \n",
       "    na.rm = FALSE, show.legend = NA, inherit.aes = TRUE)  \n",
       "stat_summary2d : function (...)  \n",
       "stat_unique : function (mapping = NULL, data = NULL, geom = \"point\", position = \"identity\", \n",
       "    ..., na.rm = FALSE, show.legend = NA, inherit.aes = TRUE)  \n",
       "stat_ydensity : function (mapping = NULL, data = NULL, geom = \"violin\", position = \"dodge\", \n",
       "    ..., bw = \"nrd0\", adjust = 1, kernel = \"gaussian\", trim = TRUE, scale = \"area\", \n",
       "    na.rm = FALSE, show.legend = NA, inherit.aes = TRUE)  \n",
       "summarise_coord : function (p)  \n",
       "summarise_layers : function (p)  \n",
       "summarise_layout : function (p)  \n",
       "sym : function (x)  \n",
       "syms : function (x)  \n",
       "theme : function (line, rect, text, title, aspect.ratio, axis.title, axis.title.x, \n",
       "    axis.title.x.top, axis.title.x.bottom, axis.title.y, axis.title.y.left, \n",
       "    axis.title.y.right, axis.text, axis.text.x, axis.text.x.top, axis.text.x.bottom, \n",
       "    axis.text.y, axis.text.y.left, axis.text.y.right, axis.ticks, axis.ticks.x, \n",
       "    axis.ticks.x.top, axis.ticks.x.bottom, axis.ticks.y, axis.ticks.y.left, \n",
       "    axis.ticks.y.right, axis.ticks.length, axis.line, axis.line.x, axis.line.x.top, \n",
       "    axis.line.x.bottom, axis.line.y, axis.line.y.left, axis.line.y.right, \n",
       "    legend.background, legend.margin, legend.spacing, legend.spacing.x, \n",
       "    legend.spacing.y, legend.key, legend.key.size, legend.key.height, legend.key.width, \n",
       "    legend.text, legend.text.align, legend.title, legend.title.align, legend.position, \n",
       "    legend.direction, legend.justification, legend.box, legend.box.just, \n",
       "    legend.box.margin, legend.box.background, legend.box.spacing, panel.background, \n",
       "    panel.border, panel.spacing, panel.spacing.x, panel.spacing.y, panel.grid, \n",
       "    panel.grid.major, panel.grid.minor, panel.grid.major.x, panel.grid.major.y, \n",
       "    panel.grid.minor.x, panel.grid.minor.y, panel.ontop, plot.background, \n",
       "    plot.title, plot.subtitle, plot.caption, plot.tag, plot.tag.position, \n",
       "    plot.margin, strip.background, strip.background.x, strip.background.y, \n",
       "    strip.placement, strip.text, strip.text.x, strip.text.y, strip.switch.pad.grid, \n",
       "    strip.switch.pad.wrap, ..., complete = FALSE, validate = TRUE)  \n",
       "theme_bw : function (base_size = 11, base_family = \"\", base_line_size = base_size/22, \n",
       "    base_rect_size = base_size/22)  \n",
       "theme_classic : function (base_size = 11, base_family = \"\", base_line_size = base_size/22, \n",
       "    base_rect_size = base_size/22)  \n",
       "theme_dark : function (base_size = 11, base_family = \"\", base_line_size = base_size/22, \n",
       "    base_rect_size = base_size/22)  \n",
       "theme_get : function ()  \n",
       "theme_gray : function (base_size = 11, base_family = \"\", base_line_size = base_size/22, \n",
       "    base_rect_size = base_size/22)  \n",
       "theme_grey : function (base_size = 11, base_family = \"\", base_line_size = base_size/22, \n",
       "    base_rect_size = base_size/22)  \n",
       "theme_light : function (base_size = 11, base_family = \"\", base_line_size = base_size/22, \n",
       "    base_rect_size = base_size/22)  \n",
       "theme_linedraw : function (base_size = 11, base_family = \"\", base_line_size = base_size/22, \n",
       "    base_rect_size = base_size/22)  \n",
       "theme_minimal : function (base_size = 11, base_family = \"\", base_line_size = base_size/22, \n",
       "    base_rect_size = base_size/22)  \n",
       "theme_replace : function (...)  \n",
       "theme_set : function (new)  \n",
       "theme_test : function (base_size = 11, base_family = \"\", base_line_size = base_size/22, \n",
       "    base_rect_size = base_size/22)  \n",
       "theme_update : function (...)  \n",
       "theme_void : function (base_size = 11, base_family = \"\", base_line_size = base_size/22, \n",
       "    base_rect_size = base_size/22)  \n",
       "transform_position : function (df, trans_x = NULL, trans_y = NULL, ...)  \n",
       "unit : function (x, units, data = NULL)  \n",
       "update_geom_defaults : function (geom, new)  \n",
       "update_labels : function (p, labels)  \n",
       "update_stat_defaults : function (stat, new)  \n",
       "vars : function (...)  \n",
       "waiver : function ()  \n",
       "wrap_dims : function (n, nrow = NULL, ncol = NULL)  \n",
       "xlab : function (label)  \n",
       "xlim : function (...)  \n",
       "ylab : function (label)  \n",
       "ylim : function (...)  \n",
       "zeroGrob : function ()  "
      ]
     },
     "metadata": {},
     "output_type": "display_data"
    }
   ],
   "source": [
    "lsf.str(\"package:ggplot2\")\n",
    "#ls(\"package:ggplot2\")"
   ]
  },
  {
   "cell_type": "markdown",
   "metadata": {
    "slideshow": {
     "slide_type": "subslide"
    }
   },
   "source": [
    "- You can list loaded packages using `(.packages())`.\n",
    "- You can unload packages using `detach()`."
   ]
  },
  {
   "cell_type": "code",
   "execution_count": 56,
   "metadata": {
    "slideshow": {
     "slide_type": "-"
    }
   },
   "outputs": [
    {
     "data": {
      "text/html": [
       "<ol class=list-inline>\n",
       "\t<li>'ggplot2'</li>\n",
       "\t<li>'stats'</li>\n",
       "\t<li>'graphics'</li>\n",
       "\t<li>'grDevices'</li>\n",
       "\t<li>'utils'</li>\n",
       "\t<li>'datasets'</li>\n",
       "\t<li>'methods'</li>\n",
       "\t<li>'base'</li>\n",
       "</ol>\n"
      ],
      "text/latex": [
       "\\begin{enumerate*}\n",
       "\\item 'ggplot2'\n",
       "\\item 'stats'\n",
       "\\item 'graphics'\n",
       "\\item 'grDevices'\n",
       "\\item 'utils'\n",
       "\\item 'datasets'\n",
       "\\item 'methods'\n",
       "\\item 'base'\n",
       "\\end{enumerate*}\n"
      ],
      "text/markdown": [
       "1. 'ggplot2'\n",
       "2. 'stats'\n",
       "3. 'graphics'\n",
       "4. 'grDevices'\n",
       "5. 'utils'\n",
       "6. 'datasets'\n",
       "7. 'methods'\n",
       "8. 'base'\n",
       "\n",
       "\n"
      ],
      "text/plain": [
       "[1] \"ggplot2\"   \"stats\"     \"graphics\"  \"grDevices\" \"utils\"     \"datasets\" \n",
       "[7] \"methods\"   \"base\"     "
      ]
     },
     "metadata": {},
     "output_type": "display_data"
    },
    {
     "data": {
      "text/html": [
       "<ol class=list-inline>\n",
       "\t<li>'stats'</li>\n",
       "\t<li>'graphics'</li>\n",
       "\t<li>'grDevices'</li>\n",
       "\t<li>'utils'</li>\n",
       "\t<li>'datasets'</li>\n",
       "\t<li>'methods'</li>\n",
       "\t<li>'base'</li>\n",
       "</ol>\n"
      ],
      "text/latex": [
       "\\begin{enumerate*}\n",
       "\\item 'stats'\n",
       "\\item 'graphics'\n",
       "\\item 'grDevices'\n",
       "\\item 'utils'\n",
       "\\item 'datasets'\n",
       "\\item 'methods'\n",
       "\\item 'base'\n",
       "\\end{enumerate*}\n"
      ],
      "text/markdown": [
       "1. 'stats'\n",
       "2. 'graphics'\n",
       "3. 'grDevices'\n",
       "4. 'utils'\n",
       "5. 'datasets'\n",
       "6. 'methods'\n",
       "7. 'base'\n",
       "\n",
       "\n"
      ],
      "text/plain": [
       "[1] \"stats\"     \"graphics\"  \"grDevices\" \"utils\"     \"datasets\"  \"methods\"  \n",
       "[7] \"base\"     "
      ]
     },
     "metadata": {},
     "output_type": "display_data"
    }
   ],
   "source": [
    "(.packages())\n",
    "detach(package:ggplot2)\n",
    "(.packages())"
   ]
  },
  {
   "cell_type": "markdown",
   "metadata": {
    "slideshow": {
     "slide_type": "subslide"
    }
   },
   "source": [
    "- The following commands install the `nycflights13` package and load it.\n",
    " <!--   - `dplyr` is a popular package for data scientist, focused on tools for working with data frames. -->\n",
    "    - `nycflights13` includes data on 336,776 flights departed from NYC in 2013."
   ]
  },
  {
   "cell_type": "code",
   "execution_count": 59,
   "metadata": {
    "slideshow": {
     "slide_type": "-"
    }
   },
   "outputs": [
    {
     "name": "stderr",
     "output_type": "stream",
     "text": [
      "Installing package into 'C:/Users/satos/Documents/R/win-library/3.5'\n",
      "(as 'lib' is unspecified)\n"
     ]
    },
    {
     "name": "stdout",
     "output_type": "stream",
     "text": [
      "package 'nycflights13' successfully unpacked and MD5 sums checked\n",
      "\n",
      "The downloaded binary packages are in\n",
      "\tC:\\Users\\satos\\AppData\\Local\\Temp\\Rtmp0A2snu\\downloaded_packages\n"
     ]
    },
    {
     "name": "stderr",
     "output_type": "stream",
     "text": [
      "Warning message:\n",
      "\"package 'nycflights13' was built under R version 3.5.1\""
     ]
    }
   ],
   "source": [
    "install.packages(\"nycflights13\",repos='http://cran.us.r-project.org')\n",
    "library(nycflights13)"
   ]
  },
  {
   "cell_type": "markdown",
   "metadata": {
    "slideshow": {
     "slide_type": "subslide"
    }
   },
   "source": [
    "- Unlike Python, you can use a function without referring to any package at any time (e.g., no, `np.` as in `np.narray`).\n",
    "- In the following command:\n",
    "    <!-- \n",
    "    - `filter()` included in the dplyr package\n",
    "    - `head()` included in the utils package (= a built-in package)\n",
    "    -->\n",
    "    - `flights` is included in the nycflights13 package."
   ]
  },
  {
   "cell_type": "code",
   "execution_count": 60,
   "metadata": {
    "slideshow": {
     "slide_type": "-"
    }
   },
   "outputs": [
    {
     "name": "stdout",
     "output_type": "stream",
     "text": [
      "# A tibble: 5 x 19\n",
      "   year month   day dep_time sched_dep_time dep_delay arr_time sched_arr_time\n",
      "  <int> <int> <int>    <int>          <int>     <dbl>    <int>          <int>\n",
      "1  2013     3     1        4           2159       125      318             56\n",
      "2  2013     3     1       50           2358        52      526            438\n",
      "3  2013     3     1      117           2245       152      223           2354\n",
      "4  2013     3     1      454            500        -6      633            648\n",
      "5  2013     3     1      505            515       -10      746            810\n",
      "# ... with 11 more variables: arr_delay <dbl>, carrier <chr>, flight <int>,\n",
      "#   tailnum <chr>, origin <chr>, dest <chr>, air_time <dbl>, distance <dbl>,\n",
      "#   hour <dbl>, minute <dbl>, time_hour <dttm>\n"
     ]
    }
   ],
   "source": [
    "print(head(subset(flights, month == 3 & day == 1), 5))"
   ]
  },
  {
   "cell_type": "markdown",
   "metadata": {
    "slideshow": {
     "slide_type": "subslide"
    }
   },
   "source": [
    "- You can make easily your own function. The following example uses `x` and `y` as inputs and returns `x + y`."
   ]
  },
  {
   "cell_type": "code",
   "execution_count": 57,
   "metadata": {
    "slideshow": {
     "slide_type": "-"
    }
   },
   "outputs": [
    {
     "name": "stdout",
     "output_type": "stream",
     "text": [
      "[1] 5\n"
     ]
    }
   ],
   "source": [
    "mysum <- function(x,y) {\n",
    "    return(x + y)\n",
    "}\n",
    "print(mysum(2,3))"
   ]
  },
  {
   "cell_type": "code",
   "execution_count": 58,
   "metadata": {},
   "outputs": [
    {
     "name": "stdout",
     "output_type": "stream",
     "text": [
      "[1] 5\n"
     ]
    }
   ],
   "source": [
    "mycom <- function (x,y){\n",
    "    return(x*2+y/3)\n",
    "}\n",
    "print(mycom(2,3))"
   ]
  },
  {
   "cell_type": "markdown",
   "metadata": {
    "slideshow": {
     "slide_type": "slide"
    }
   },
   "source": [
    "## 5. If Statements\n",
    "- R uses `{}` for if statements. Also, the condition has to be included in `()`. "
   ]
  },
  {
   "cell_type": "code",
   "execution_count": null,
   "metadata": {
    "slideshow": {
     "slide_type": "-"
    }
   },
   "outputs": [],
   "source": [
    "inp <- \"Hello\"\n",
    "if (inp == \"Hello\") {\n",
    "    print(\"World!\")\n",
    "}"
   ]
  },
  {
   "cell_type": "markdown",
   "metadata": {
    "slideshow": {
     "slide_type": "subslide"
    }
   },
   "source": [
    "- `else` and `else if` can be used."
   ]
  },
  {
   "cell_type": "code",
   "execution_count": null,
   "metadata": {
    "slideshow": {
     "slide_type": "-"
    }
   },
   "outputs": [],
   "source": [
    "inp <- \"Hello\"\n",
    "if (inp == \"Hell\") {\n",
    "    print(\"No.\")\n",
    "} else if (inp == \"He\") {\n",
    "    print(\"No.\")\n",
    "} else print(\"World!\")"
   ]
  },
  {
   "cell_type": "markdown",
   "metadata": {
    "slideshow": {
     "slide_type": "subslide"
    }
   },
   "source": [
    "- The above example looks ugly. Alternatively, you can define a function."
   ]
  },
  {
   "cell_type": "code",
   "execution_count": null,
   "metadata": {
    "slideshow": {
     "slide_type": "-"
    }
   },
   "outputs": [],
   "source": [
    "myfunc <- function(inp) {\n",
    "    if (inp == \"Hell\") out <- \"No.\"\n",
    "    else if (inp == \"He\") out <- \"No.\"\n",
    "    else out <- \"World!\"\n",
    "    return(out)\n",
    "}\n",
    "print(myfunc(\"Hello\"))"
   ]
  },
  {
   "cell_type": "markdown",
   "metadata": {
    "slideshow": {
     "slide_type": "subslide"
    }
   },
   "source": [
    "- Other relational operators are: `!=`, `>`, `<`, `>=`, and `<=`.\n",
    "- You can also combine them with `&&`, `||` and `%in%`. \n",
    "    - R does not allow `is` and `not` unlike Python."
   ]
  },
  {
   "cell_type": "code",
   "execution_count": null,
   "metadata": {
    "slideshow": {
     "slide_type": "-"
    }
   },
   "outputs": [],
   "source": [
    "year <- 2018\n",
    "if ((year > 2017) && (year < 2019)) print(\"2018!\")\n",
    "if (year != 2017) print('Not 2017!')\n",
    "\n",
    "myvec = c(NA,'b','c')\n",
    "if (NA %in% myvec) print('NA in myvec!')"
   ]
  },
  {
   "cell_type": "markdown",
   "metadata": {
    "slideshow": {
     "slide_type": "slide"
    }
   },
   "source": [
    "## 6. Loops\n",
    "- Use `for` or `while` for loops.\n",
    "- `for` loops use `in`."
   ]
  },
  {
   "cell_type": "code",
   "execution_count": null,
   "metadata": {},
   "outputs": [],
   "source": [
    "for (year in 2010:2019) {\n",
    "  print(paste(\"The year is\", year))\n",
    "}"
   ]
  },
  {
   "cell_type": "markdown",
   "metadata": {
    "slideshow": {
     "slide_type": "subslide"
    }
   },
   "source": [
    "- You can also loop over vectors."
   ]
  },
  {
   "cell_type": "code",
   "execution_count": null,
   "metadata": {
    "slideshow": {
     "slide_type": "-"
    }
   },
   "outputs": [],
   "source": [
    "for (vec in c(2010, TRUE, \"a\")) {\n",
    "  print(vec)\n",
    "}"
   ]
  },
  {
   "cell_type": "markdown",
   "metadata": {
    "slideshow": {
     "slide_type": "subslide"
    }
   },
   "source": [
    "- Loops can be simplified."
   ]
  },
  {
   "cell_type": "code",
   "execution_count": null,
   "metadata": {
    "slideshow": {
     "slide_type": "-"
    }
   },
   "outputs": [],
   "source": [
    "for (year in 2010:2019) print(year)"
   ]
  },
  {
   "cell_type": "markdown",
   "metadata": {
    "slideshow": {
     "slide_type": "subslide"
    }
   },
   "source": [
    "- You can insert elements into a vector, string, matrix, list, etc."
   ]
  },
  {
   "cell_type": "code",
   "execution_count": null,
   "metadata": {
    "slideshow": {
     "slide_type": "subslide"
    }
   },
   "outputs": [],
   "source": [
    "a <- NULL\n",
    "for (i in 1:10) {\n",
    "    a[[i]] <- i\n",
    "}\n",
    "print(a)\n",
    "b <- c()\n",
    "for (i in 1:10) {\n",
    "    b[[i]] <- i\n",
    "}\n",
    "print(b)\n",
    "c <- \"\"\n",
    "for (i in 1:10) {\n",
    "    c[[i]] <- i\n",
    "}\n",
    "print(c)\n",
    "d <- matrix()\n",
    "for (i in 1:10) {\n",
    "    d[[i]] <- i\n",
    "}\n",
    "print(d)\n",
    "e <- list()\n",
    "for (i in 1:10) {\n",
    "    e[[i]] <- i\n",
    "}\n",
    "print(e)"
   ]
  },
  {
   "cell_type": "markdown",
   "metadata": {
    "slideshow": {
     "slide_type": "subslide"
    }
   },
   "source": [
    "`while` loops use counters."
   ]
  },
  {
   "cell_type": "code",
   "execution_count": null,
   "metadata": {
    "slideshow": {
     "slide_type": "-"
    }
   },
   "outputs": [],
   "source": [
    "cnt <- 0\n",
    "while (cnt < 10) {\n",
    "    print(cnt)\n",
    "    cnt <- cnt + 1\n",
    "}"
   ]
  },
  {
   "cell_type": "markdown",
   "metadata": {
    "slideshow": {
     "slide_type": "subslide"
    }
   },
   "source": [
    "- Infinite loops use `repeat`.\n",
    "- Infinite loops often use if statements with `break` and `next`.\n",
    "    - `break` means you will exit the current loop.\n",
    "    - `next` means you will go back to the starting point of the current loop (like `continue` in Python)."
   ]
  },
  {
   "cell_type": "code",
   "execution_count": null,
   "metadata": {
    "slideshow": {
     "slide_type": "subslide"
    }
   },
   "outputs": [],
   "source": [
    "print(\"--- infinite loop till 9 ---\")\n",
    "cnt <- 0\n",
    "repeat {\n",
    "    print(cnt)\n",
    "    cnt <- cnt + 1\n",
    "    if (cnt >= 10) break\n",
    "}\n",
    "\n",
    "\n",
    "print(\"--- infinite loop till 9, except 2 ---\")\n",
    "cnt <- 0\n",
    "repeat {\n",
    "    if (cnt == 2) {\n",
    "        cnt <- cnt + 1\n",
    "        next\n",
    "    }\n",
    "    print(cnt)\n",
    "    cnt <- cnt + 1\n",
    "    \n",
    "    if (cnt >= 10) break\n",
    "}"
   ]
  },
  {
   "cell_type": "markdown",
   "metadata": {
    "slideshow": {
     "slide_type": "subslide"
    }
   },
   "source": [
    "- You can combine functions with loops."
   ]
  },
  {
   "cell_type": "code",
   "execution_count": 10,
   "metadata": {
    "slideshow": {
     "slide_type": "-"
    }
   },
   "outputs": [
    {
     "name": "stdout",
     "output_type": "stream",
     "text": [
      "[1] \".\"\n",
      "[1] \".\"\n",
      "[1] \".\"\n",
      "[1] \".\"\n",
      "[1] \"Five!\"\n"
     ]
    }
   ],
   "source": [
    "myfive <- function(x) { # myfive return \"Five!\" if the input is five, and \".\" otherwise.\n",
    "    if (x == 5) y <- \"Five!\"\n",
    "    else y <- \".\"\n",
    "    return(y)\n",
    "}\n",
    "for (x in 1:5) {\n",
    "    print(myfive(x))\n",
    "}"
   ]
  }
 ],
 "metadata": {
  "celltoolbar": "Slideshow",
  "kernelspec": {
   "display_name": "R",
   "language": "R",
   "name": "ir"
  },
  "language_info": {
   "codemirror_mode": "r",
   "file_extension": ".r",
   "mimetype": "text/x-r-source",
   "name": "R",
   "pygments_lexer": "r",
   "version": "3.5.0"
  }
 },
 "nbformat": 4,
 "nbformat_minor": 2
}
